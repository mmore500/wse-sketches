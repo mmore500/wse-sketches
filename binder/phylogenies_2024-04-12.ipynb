{
 "cells": [
  {
   "cell_type": "markdown",
   "metadata": {},
   "source": [
    "## Set Up Dependencies and Data\n"
   ]
  },
  {
   "cell_type": "code",
   "execution_count": 1,
   "metadata": {
    "execution": {
     "iopub.execute_input": "2024-04-13T22:51:30.155250Z",
     "iopub.status.busy": "2024-04-13T22:51:30.155052Z",
     "iopub.status.idle": "2024-04-13T22:51:32.045667Z",
     "shell.execute_reply": "2024-04-13T22:51:32.045119Z"
    }
   },
   "outputs": [],
   "source": [
    "import gc\n",
    "import multiprocessing\n",
    "import os\n",
    "import random\n",
    "\n",
    "\n",
    "import alifedata_phyloinformatics_convert as apc\n",
    "from ete4 import Tree\n",
    "from ete4.treeview import TreeStyle\n",
    "from IPython.display import Image\n",
    "from hstrat._auxiliary_lib import (\n",
    "    alifestd_find_leaf_ids,\n",
    "    alifestd_collapse_unifurcations,\n",
    "    alifestd_prune_extinct_lineages_asexual,\n",
    "    alifestd_sum_origin_time_deltas_asexual,\n",
    "    alifestd_to_working_format,\n",
    ")\n",
    "import joblib\n",
    "from keyname import keyname as kn\n",
    "import more_itertools as mit\n",
    "import numpy as np\n",
    "import pandas as pd\n",
    "import seaborn as sns\n",
    "from teeplot import teeplot as tp\n",
    "from tqdm.notebook import tqdm\n"
   ]
  },
  {
   "cell_type": "code",
   "execution_count": 2,
   "metadata": {
    "execution": {
     "iopub.execute_input": "2024-04-13T22:51:32.048421Z",
     "iopub.status.busy": "2024-04-13T22:51:32.047959Z",
     "iopub.status.idle": "2024-04-13T22:51:33.367192Z",
     "shell.execute_reply": "2024-04-13T22:51:33.366648Z"
    }
   },
   "outputs": [],
   "source": [
    "df = pd.read_parquet(\n",
    "    \"https://osf.io/r2a7t/download\",\n",
    "    engine=\"pyarrow\",\n",
    ")\n"
   ]
  },
  {
   "cell_type": "markdown",
   "metadata": {},
   "source": [
    "## Reproducibility\n"
   ]
  },
  {
   "cell_type": "code",
   "execution_count": 3,
   "metadata": {
    "execution": {
     "iopub.execute_input": "2024-04-13T22:51:33.369834Z",
     "iopub.status.busy": "2024-04-13T22:51:33.369459Z",
     "iopub.status.idle": "2024-04-13T22:51:33.388397Z",
     "shell.execute_reply": "2024-04-13T22:51:33.387861Z"
    }
   },
   "outputs": [
    {
     "name": "stdout",
     "output_type": "stream",
     "text": [
      "Last updated: 2024-04-13T22:51:33.375227+00:00\n",
      "\n",
      "Python implementation: CPython\n",
      "Python version       : 3.11.9\n",
      "IPython version      : 8.20.0\n",
      "\n",
      "Compiler    : GCC 11.4.0\n",
      "OS          : Linux\n",
      "Release     : 6.5.0-1017-azure\n",
      "Machine     : x86_64\n",
      "Processor   : x86_64\n",
      "CPU cores   : 4\n",
      "Architecture: 64bit\n",
      "\n",
      "Git hash: b0998f95b3c94c5cdede2b256737ada8dbea07e1\n",
      "\n",
      "Git branch: HEAD\n",
      "\n",
      "joblib                            : 1.3.2\n",
      "keyname                           : 0.6.0\n",
      "more_itertools                    : 10.2.0\n",
      "pandas                            : 1.5.3\n",
      "numpy                             : 1.23.5\n",
      "alifedata_phyloinformatics_convert: 0.16.2\n",
      "teeplot                           : 1.0.1\n",
      "seaborn                           : 0.13.2\n",
      "\n",
      "Watermark: 2.4.3\n",
      "\n"
     ]
    }
   ],
   "source": [
    "%load_ext watermark\n",
    "%watermark -iwbmuvg -iv\n"
   ]
  },
  {
   "cell_type": "code",
   "execution_count": 4,
   "metadata": {
    "execution": {
     "iopub.execute_input": "2024-04-13T22:51:33.433572Z",
     "iopub.status.busy": "2024-04-13T22:51:33.432570Z",
     "iopub.status.idle": "2024-04-13T22:51:33.446007Z",
     "shell.execute_reply": "2024-04-13T22:51:33.445294Z"
    }
   },
   "outputs": [
    {
     "data": {
      "text/html": [
       "<div>\n",
       "<style scoped>\n",
       "    .dataframe tbody tr th:only-of-type {\n",
       "        vertical-align: middle;\n",
       "    }\n",
       "\n",
       "    .dataframe tbody tr th {\n",
       "        vertical-align: top;\n",
       "    }\n",
       "\n",
       "    .dataframe thead th {\n",
       "        text-align: right;\n",
       "    }\n",
       "</style>\n",
       "<table border=\"1\" class=\"dataframe\">\n",
       "  <thead>\n",
       "    <tr style=\"text-align: right;\">\n",
       "      <th></th>\n",
       "      <th>index</th>\n",
       "      <th>id</th>\n",
       "      <th>ancestor_list</th>\n",
       "      <th>origin_time</th>\n",
       "      <th>taxon_label</th>\n",
       "      <th>ancestor_id</th>\n",
       "      <th>popSize</th>\n",
       "      <th>replicate</th>\n",
       "      <th>globalSeed</th>\n",
       "      <th>nCycle</th>\n",
       "      <th>genomeFlavor</th>\n",
       "      <th>dataSource</th>\n",
       "    </tr>\n",
       "  </thead>\n",
       "  <tbody>\n",
       "    <tr>\n",
       "      <th>0</th>\n",
       "      <td>0</td>\n",
       "      <td>0</td>\n",
       "      <td>[none]</td>\n",
       "      <td>0.000000</td>\n",
       "      <td>Root</td>\n",
       "      <td>0</td>\n",
       "      <td>10000</td>\n",
       "      <td>85948d9b-a66b-4840-a0ae-dfbbd5ebe7b1</td>\n",
       "      <td>4.0</td>\n",
       "      <td>1000000.0</td>\n",
       "      <td>genome_purifyingonly</td>\n",
       "      <td>https://osf.io/hm5wa/download</td>\n",
       "    </tr>\n",
       "    <tr>\n",
       "      <th>1</th>\n",
       "      <td>1</td>\n",
       "      <td>1</td>\n",
       "      <td>[0]</td>\n",
       "      <td>87380.666667</td>\n",
       "      <td>Inner+r=0+d=A+uid=eL-uJQUw0PBAnxNHDhrvE</td>\n",
       "      <td>0</td>\n",
       "      <td>10000</td>\n",
       "      <td>85948d9b-a66b-4840-a0ae-dfbbd5ebe7b1</td>\n",
       "      <td>4.0</td>\n",
       "      <td>1000000.0</td>\n",
       "      <td>genome_purifyingonly</td>\n",
       "      <td>https://osf.io/hm5wa/download</td>\n",
       "    </tr>\n",
       "    <tr>\n",
       "      <th>2</th>\n",
       "      <td>2</td>\n",
       "      <td>2</td>\n",
       "      <td>[0]</td>\n",
       "      <td>87380.666667</td>\n",
       "      <td>Inner+r=0+d=B+uid=1TDH_WoJTn1CzhaAR_evg</td>\n",
       "      <td>0</td>\n",
       "      <td>10000</td>\n",
       "      <td>85948d9b-a66b-4840-a0ae-dfbbd5ebe7b1</td>\n",
       "      <td>4.0</td>\n",
       "      <td>1000000.0</td>\n",
       "      <td>genome_purifyingonly</td>\n",
       "      <td>https://osf.io/hm5wa/download</td>\n",
       "    </tr>\n",
       "    <tr>\n",
       "      <th>3</th>\n",
       "      <td>7</td>\n",
       "      <td>7</td>\n",
       "      <td>[1]</td>\n",
       "      <td>388356.074074</td>\n",
       "      <td>Inner+r=393215+d=B+uid=1v5ktyenGFmEudpamzswb</td>\n",
       "      <td>1</td>\n",
       "      <td>10000</td>\n",
       "      <td>85948d9b-a66b-4840-a0ae-dfbbd5ebe7b1</td>\n",
       "      <td>4.0</td>\n",
       "      <td>1000000.0</td>\n",
       "      <td>genome_purifyingonly</td>\n",
       "      <td>https://osf.io/hm5wa/download</td>\n",
       "    </tr>\n",
       "    <tr>\n",
       "      <th>4</th>\n",
       "      <td>8</td>\n",
       "      <td>8</td>\n",
       "      <td>[1]</td>\n",
       "      <td>388356.074074</td>\n",
       "      <td>Inner+r=393215+d=B+uid=DBHHhpwrGrsEOrdWN9e79t</td>\n",
       "      <td>1</td>\n",
       "      <td>10000</td>\n",
       "      <td>85948d9b-a66b-4840-a0ae-dfbbd5ebe7b1</td>\n",
       "      <td>4.0</td>\n",
       "      <td>1000000.0</td>\n",
       "      <td>genome_purifyingonly</td>\n",
       "      <td>https://osf.io/hm5wa/download</td>\n",
       "    </tr>\n",
       "  </tbody>\n",
       "</table>\n",
       "</div>"
      ],
      "text/plain": [
       "   index  id ancestor_list    origin_time  \\\n",
       "0      0   0        [none]       0.000000   \n",
       "1      1   1           [0]   87380.666667   \n",
       "2      2   2           [0]   87380.666667   \n",
       "3      7   7           [1]  388356.074074   \n",
       "4      8   8           [1]  388356.074074   \n",
       "\n",
       "                                     taxon_label  ancestor_id  popSize  \\\n",
       "0                                           Root            0    10000   \n",
       "1        Inner+r=0+d=A+uid=eL-uJQUw0PBAnxNHDhrvE            0    10000   \n",
       "2        Inner+r=0+d=B+uid=1TDH_WoJTn1CzhaAR_evg            0    10000   \n",
       "3   Inner+r=393215+d=B+uid=1v5ktyenGFmEudpamzswb            1    10000   \n",
       "4  Inner+r=393215+d=B+uid=DBHHhpwrGrsEOrdWN9e79t            1    10000   \n",
       "\n",
       "                              replicate  globalSeed     nCycle  \\\n",
       "0  85948d9b-a66b-4840-a0ae-dfbbd5ebe7b1         4.0  1000000.0   \n",
       "1  85948d9b-a66b-4840-a0ae-dfbbd5ebe7b1         4.0  1000000.0   \n",
       "2  85948d9b-a66b-4840-a0ae-dfbbd5ebe7b1         4.0  1000000.0   \n",
       "3  85948d9b-a66b-4840-a0ae-dfbbd5ebe7b1         4.0  1000000.0   \n",
       "4  85948d9b-a66b-4840-a0ae-dfbbd5ebe7b1         4.0  1000000.0   \n",
       "\n",
       "           genomeFlavor                     dataSource  \n",
       "0  genome_purifyingonly  https://osf.io/hm5wa/download  \n",
       "1  genome_purifyingonly  https://osf.io/hm5wa/download  \n",
       "2  genome_purifyingonly  https://osf.io/hm5wa/download  \n",
       "3  genome_purifyingonly  https://osf.io/hm5wa/download  \n",
       "4  genome_purifyingonly  https://osf.io/hm5wa/download  "
      ]
     },
     "execution_count": 4,
     "metadata": {},
     "output_type": "execute_result"
    }
   ],
   "source": [
    "df.head()\n"
   ]
  },
  {
   "cell_type": "code",
   "execution_count": 5,
   "metadata": {
    "execution": {
     "iopub.execute_input": "2024-04-13T22:51:33.448785Z",
     "iopub.status.busy": "2024-04-13T22:51:33.448599Z",
     "iopub.status.idle": "2024-04-13T22:51:33.712199Z",
     "shell.execute_reply": "2024-04-13T22:51:33.711587Z"
    }
   },
   "outputs": [
    {
     "name": "stdout",
     "output_type": "stream",
     "text": [
      "<class 'pandas.core.frame.DataFrame'>\n",
      "RangeIndex: 498769 entries, 0 to 498768\n",
      "Data columns (total 12 columns):\n",
      " #   Column         Non-Null Count   Dtype  \n",
      "---  ------         --------------   -----  \n",
      " 0   index          498769 non-null  int64  \n",
      " 1   id             498769 non-null  int64  \n",
      " 2   ancestor_list  498769 non-null  object \n",
      " 3   origin_time    498769 non-null  float64\n",
      " 4   taxon_label    498769 non-null  object \n",
      " 5   ancestor_id    498769 non-null  int64  \n",
      " 6   popSize        498769 non-null  int64  \n",
      " 7   replicate      498769 non-null  object \n",
      " 8   globalSeed     498769 non-null  float64\n",
      " 9   nCycle         498769 non-null  float64\n",
      " 10  genomeFlavor   498769 non-null  object \n",
      " 11  dataSource     498769 non-null  object \n",
      "dtypes: float64(3), int64(4), object(5)\n",
      "memory usage: 45.7+ MB\n"
     ]
    }
   ],
   "source": [
    "df.info()\n"
   ]
  },
  {
   "cell_type": "code",
   "execution_count": 6,
   "metadata": {
    "execution": {
     "iopub.execute_input": "2024-04-13T22:51:33.714522Z",
     "iopub.status.busy": "2024-04-13T22:51:33.714150Z",
     "iopub.status.idle": "2024-04-13T22:51:33.846709Z",
     "shell.execute_reply": "2024-04-13T22:51:33.846085Z"
    }
   },
   "outputs": [
    {
     "data": {
      "text/html": [
       "<div>\n",
       "<style scoped>\n",
       "    .dataframe tbody tr th:only-of-type {\n",
       "        vertical-align: middle;\n",
       "    }\n",
       "\n",
       "    .dataframe tbody tr th {\n",
       "        vertical-align: top;\n",
       "    }\n",
       "\n",
       "    .dataframe thead th {\n",
       "        text-align: right;\n",
       "    }\n",
       "</style>\n",
       "<table border=\"1\" class=\"dataframe\">\n",
       "  <thead>\n",
       "    <tr style=\"text-align: right;\">\n",
       "      <th></th>\n",
       "      <th>index</th>\n",
       "      <th>id</th>\n",
       "      <th>origin_time</th>\n",
       "      <th>ancestor_id</th>\n",
       "      <th>popSize</th>\n",
       "      <th>globalSeed</th>\n",
       "      <th>nCycle</th>\n",
       "    </tr>\n",
       "  </thead>\n",
       "  <tbody>\n",
       "    <tr>\n",
       "      <th>count</th>\n",
       "      <td>498769.000000</td>\n",
       "      <td>498769.000000</td>\n",
       "      <td>498769.000000</td>\n",
       "      <td>498769.000000</td>\n",
       "      <td>498769.000000</td>\n",
       "      <td>498769.000000</td>\n",
       "      <td>498769.000000</td>\n",
       "    </tr>\n",
       "    <tr>\n",
       "      <th>mean</th>\n",
       "      <td>68361.577323</td>\n",
       "      <td>68361.577323</td>\n",
       "      <td>855428.293309</td>\n",
       "      <td>64836.728887</td>\n",
       "      <td>253794.737043</td>\n",
       "      <td>2.500145</td>\n",
       "      <td>988608.554261</td>\n",
       "    </tr>\n",
       "    <tr>\n",
       "      <th>std</th>\n",
       "      <td>40481.487483</td>\n",
       "      <td>40481.487483</td>\n",
       "      <td>97973.638427</td>\n",
       "      <td>40272.559868</td>\n",
       "      <td>229116.644381</td>\n",
       "      <td>1.118192</td>\n",
       "      <td>100610.916031</td>\n",
       "    </tr>\n",
       "    <tr>\n",
       "      <th>min</th>\n",
       "      <td>0.000000</td>\n",
       "      <td>0.000000</td>\n",
       "      <td>0.000000</td>\n",
       "      <td>0.000000</td>\n",
       "      <td>400.000000</td>\n",
       "      <td>1.000000</td>\n",
       "      <td>100000.000000</td>\n",
       "    </tr>\n",
       "    <tr>\n",
       "      <th>25%</th>\n",
       "      <td>32486.000000</td>\n",
       "      <td>32486.000000</td>\n",
       "      <td>823235.000000</td>\n",
       "      <td>28920.000000</td>\n",
       "      <td>10000.000000</td>\n",
       "      <td>1.000000</td>\n",
       "      <td>1000000.000000</td>\n",
       "    </tr>\n",
       "    <tr>\n",
       "      <th>50%</th>\n",
       "      <td>68569.000000</td>\n",
       "      <td>68569.000000</td>\n",
       "      <td>826247.000000</td>\n",
       "      <td>64110.000000</td>\n",
       "      <td>250000.000000</td>\n",
       "      <td>3.000000</td>\n",
       "      <td>1000000.000000</td>\n",
       "    </tr>\n",
       "    <tr>\n",
       "      <th>75%</th>\n",
       "      <td>102503.000000</td>\n",
       "      <td>102503.000000</td>\n",
       "      <td>907814.488981</td>\n",
       "      <td>98177.000000</td>\n",
       "      <td>562500.000000</td>\n",
       "      <td>4.000000</td>\n",
       "      <td>1000000.000000</td>\n",
       "    </tr>\n",
       "    <tr>\n",
       "      <th>max</th>\n",
       "      <td>152643.000000</td>\n",
       "      <td>152643.000000</td>\n",
       "      <td>916579.000000</td>\n",
       "      <td>152513.000000</td>\n",
       "      <td>562500.000000</td>\n",
       "      <td>4.000000</td>\n",
       "      <td>1000000.000000</td>\n",
       "    </tr>\n",
       "  </tbody>\n",
       "</table>\n",
       "</div>"
      ],
      "text/plain": [
       "               index             id    origin_time    ancestor_id  \\\n",
       "count  498769.000000  498769.000000  498769.000000  498769.000000   \n",
       "mean    68361.577323   68361.577323  855428.293309   64836.728887   \n",
       "std     40481.487483   40481.487483   97973.638427   40272.559868   \n",
       "min         0.000000       0.000000       0.000000       0.000000   \n",
       "25%     32486.000000   32486.000000  823235.000000   28920.000000   \n",
       "50%     68569.000000   68569.000000  826247.000000   64110.000000   \n",
       "75%    102503.000000  102503.000000  907814.488981   98177.000000   \n",
       "max    152643.000000  152643.000000  916579.000000  152513.000000   \n",
       "\n",
       "             popSize     globalSeed          nCycle  \n",
       "count  498769.000000  498769.000000   498769.000000  \n",
       "mean   253794.737043       2.500145   988608.554261  \n",
       "std    229116.644381       1.118192   100610.916031  \n",
       "min       400.000000       1.000000   100000.000000  \n",
       "25%     10000.000000       1.000000  1000000.000000  \n",
       "50%    250000.000000       3.000000  1000000.000000  \n",
       "75%    562500.000000       4.000000  1000000.000000  \n",
       "max    562500.000000       4.000000  1000000.000000  "
      ]
     },
     "execution_count": 6,
     "metadata": {},
     "output_type": "execute_result"
    }
   ],
   "source": [
    "df.describe()\n"
   ]
  },
  {
   "cell_type": "code",
   "execution_count": 7,
   "metadata": {
    "execution": {
     "iopub.execute_input": "2024-04-13T22:51:33.848903Z",
     "iopub.status.busy": "2024-04-13T22:51:33.848558Z",
     "iopub.status.idle": "2024-04-13T22:51:37.600227Z",
     "shell.execute_reply": "2024-04-13T22:51:37.599630Z"
    }
   },
   "outputs": [
    {
     "data": {
      "text/plain": [
       "'ccf4cc09fb27f15c88bc0b4d108075ea'"
      ]
     },
     "execution_count": 7,
     "metadata": {},
     "output_type": "execute_result"
    }
   ],
   "source": [
    "joblib.hash(df)\n"
   ]
  },
  {
   "cell_type": "code",
   "execution_count": 8,
   "metadata": {
    "execution": {
     "iopub.execute_input": "2024-04-13T22:51:37.602330Z",
     "iopub.status.busy": "2024-04-13T22:51:37.602150Z",
     "iopub.status.idle": "2024-04-13T22:51:37.606823Z",
     "shell.execute_reply": "2024-04-13T22:51:37.606363Z"
    }
   },
   "outputs": [
    {
     "data": {
      "text/plain": [
       "index              int64\n",
       "id                 int64\n",
       "ancestor_list     object\n",
       "origin_time      float64\n",
       "taxon_label       object\n",
       "ancestor_id        int64\n",
       "popSize            int64\n",
       "replicate         object\n",
       "globalSeed       float64\n",
       "nCycle           float64\n",
       "genomeFlavor      object\n",
       "dataSource        object\n",
       "dtype: object"
      ]
     },
     "execution_count": 8,
     "metadata": {},
     "output_type": "execute_result"
    }
   ],
   "source": [
    "df.dtypes\n"
   ]
  },
  {
   "cell_type": "markdown",
   "metadata": {},
   "source": [
    "## Helper Functions\n"
   ]
  },
  {
   "cell_type": "code",
   "execution_count": 9,
   "metadata": {
    "execution": {
     "iopub.execute_input": "2024-04-13T22:51:37.608851Z",
     "iopub.status.busy": "2024-04-13T22:51:37.608686Z",
     "iopub.status.idle": "2024-04-13T22:51:37.611918Z",
     "shell.execute_reply": "2024-04-13T22:51:37.611453Z"
    }
   },
   "outputs": [],
   "source": [
    "def logify_phylo(phylo_df):\n",
    "    phylo_df = phylo_df.copy()\n",
    "    phylo_df[\"log time ago\"] = np.log(\n",
    "        phylo_df[\"origin_time\"].max() - phylo_df[\"origin_time\"] + 1\n",
    "    )\n",
    "    phylo_df[\"origin_time\"] = (\n",
    "        phylo_df[\"log time ago\"].max() - phylo_df[\"log time ago\"]\n",
    "    )\n",
    "    return phylo_df\n"
   ]
  },
  {
   "cell_type": "markdown",
   "metadata": {},
   "source": [
    "## Calculate Phylometrics\n"
   ]
  },
  {
   "cell_type": "code",
   "execution_count": 10,
   "metadata": {
    "execution": {
     "iopub.execute_input": "2024-04-13T22:51:37.613786Z",
     "iopub.status.busy": "2024-04-13T22:51:37.613622Z",
     "iopub.status.idle": "2024-04-13T22:51:37.616625Z",
     "shell.execute_reply": "2024-04-13T22:51:37.616171Z"
    }
   },
   "outputs": [],
   "source": [
    "# records = []\n",
    "# for replicate, tree_df in tqdm(df.groupby(\"replicate\")):\n",
    "#     tree_df = tree_df.reset_index(drop=True)\n",
    "#     tree_df = alifestd_to_working_format(tree_df)\n",
    "#     attrs = {\n",
    "#         col: mit.one(tree_df[col].unique())\n",
    "#         for col in tree_df.columns\n",
    "#         if len(tree_df[col].unique()) == 1 and col not in [\"dataSource\"]\n",
    "#     }\n",
    "\n",
    "#     records.append(\n",
    "#         {\n",
    "#             **attrs,\n",
    "#             \"replicate\": replicate,\n",
    "#             \"metric\": \"sum branch lengths\",\n",
    "#             \"value\": alifestd_sum_origin_time_deltas_asexual(tree_df),\n",
    "#         },\n",
    "#     )\n",
    "\n",
    "#     def calc_mean_evolutionary_distinctiveness(tdf: pd.DataFrame) -> float:\n",
    "#         tree = apc.RosettaTree(tdf).as_phylotrack\n",
    "#         return tree.get_mean_evolutionary_distinctiveness(\n",
    "#             tdf[\"origin_time\"].max()\n",
    "#         )\n",
    "\n",
    "#     def get_mean_evolutionary_distinctiveness(tdf: pd.DataFrame) -> float:\n",
    "#         with multiprocessing.Pool(1) as pool:\n",
    "#             result = pool.map(calc_mean_evolutionary_distinctiveness, [tdf])\n",
    "#             return result[0]\n",
    "\n",
    "#     records.append(\n",
    "#         {\n",
    "#             **attrs,\n",
    "#             \"replicate\": replicate,\n",
    "#             \"metric\": \"mean evolutionary distinctiveness\",\n",
    "#             \"value\": get_mean_evolutionary_distinctiveness(tree_df),\n",
    "#         },\n",
    "#     )\n",
    "#     break\n",
    "\n",
    "# dfmetrics = pd.DataFrame.from_records(records)\n"
   ]
  },
  {
   "cell_type": "markdown",
   "metadata": {},
   "source": [
    "## Plot Phylometrics\n"
   ]
  },
  {
   "cell_type": "code",
   "execution_count": 11,
   "metadata": {
    "execution": {
     "iopub.execute_input": "2024-04-13T22:51:37.618618Z",
     "iopub.status.busy": "2024-04-13T22:51:37.618451Z",
     "iopub.status.idle": "2024-04-13T22:51:37.621136Z",
     "shell.execute_reply": "2024-04-13T22:51:37.620692Z"
    }
   },
   "outputs": [],
   "source": [
    "# fil = dfmetrics[\n",
    "#     (dfmetrics[\"nCycle\"] == 1e6)\n",
    "#     & (dfmetrics[\"popSize\"] >= 10000)\n",
    "#     & (\n",
    "#         dfmetrics[\"metric\"].isin(\n",
    "#             [\"sum branch lengths\", \"mean evolutionary distinctiveness\"],\n",
    "#         )\n",
    "#     )\n",
    "# ].copy()\n",
    "# fil[\"num PEs (10k)\"] = (fil[\"popSize\"] / 1e4).astype(int)\n",
    "# fil[\"metric\"] = fil[\"metric\"].apply(\n",
    "#     lambda x: x.replace(\" \", \"\\n\").replace(\"\\n\", \" \", 1)\n",
    "# )\n",
    "\n",
    "# fil[\"regime\"] = fil[\"genomeFlavor\"].map(\n",
    "#     {\n",
    "#         \"genome_purifyingplus\": \"adaptive\",\n",
    "#         \"genome_purifyingonly\": \"purifying\",\n",
    "#     },\n",
    "# )\n",
    "\n",
    "# tp.tee(\n",
    "#     sns.catplot,\n",
    "#     fil,\n",
    "#     y=\"value\",\n",
    "#     x=\"num PEs (10k)\",\n",
    "#     hue=\"regime\",\n",
    "#     col=\"metric\",\n",
    "#     sharex=True,\n",
    "#     sharey=False,\n",
    "#     kind=\"swarm\",\n",
    "#     height=2,\n",
    "#     aspect=1.2,\n",
    "#     teeplot_postprocess=\"teed.set_titles('{col_name}')\",\n",
    "# )\n",
    "\n",
    "# del dfmetrics\n",
    "# del fil\n"
   ]
  },
  {
   "cell_type": "markdown",
   "metadata": {},
   "source": [
    "## Plotted Reconstructed Tree\n"
   ]
  },
  {
   "cell_type": "code",
   "execution_count": 12,
   "metadata": {
    "execution": {
     "iopub.execute_input": "2024-04-13T22:51:37.623209Z",
     "iopub.status.busy": "2024-04-13T22:51:37.622857Z",
     "iopub.status.idle": "2024-04-13T22:51:39.827008Z",
     "shell.execute_reply": "2024-04-13T22:51:39.826342Z"
    }
   },
   "outputs": [
    {
     "data": {
      "application/vnd.jupyter.widget-view+json": {
       "model_id": "9ac2bb743ea1455486513ae962302fb5",
       "version_major": 2,
       "version_minor": 0
      },
      "text/plain": [
       "  0%|          | 0/48 [00:00<?, ?it/s]"
      ]
     },
     "metadata": {},
     "output_type": "display_data"
    },
    {
     "name": "stdout",
     "output_type": "stream",
     "text": [
      "Wrote file:"
     ]
    },
    {
     "name": "stdout",
     "output_type": "stream",
     "text": [
      " "
     ]
    },
    {
     "name": "stdout",
     "output_type": "stream",
     "text": [
      "outplots/log/genomeFlavor=genome_purifyingplus+globalSeed=4.0+nCycle=1000000.0+popSize=1600+replicate=061eb8e9-0b71-46d4-8639-99ff955b45a0+ext=.pdf"
     ]
    },
    {
     "name": "stdout",
     "output_type": "stream",
     "text": [
      "\n"
     ]
    },
    {
     "name": "stdout",
     "output_type": "stream",
     "text": [
      "Wrote file:"
     ]
    },
    {
     "name": "stdout",
     "output_type": "stream",
     "text": [
      " "
     ]
    },
    {
     "name": "stdout",
     "output_type": "stream",
     "text": [
      "/tmp/render.png"
     ]
    },
    {
     "name": "stdout",
     "output_type": "stream",
     "text": [
      "\n"
     ]
    },
    {
     "name": "stdout",
     "output_type": "stream",
     "text": [
      "genomeFlavor=genome_purifyingplus+globalSeed=4.0+nCycle=1000000.0+popSize=1600+replicate=061eb8e9-0b71-46d4-8639-99ff955b45a0+ext=.pdf\n"
     ]
    },
    {
     "data": {
      "image/png": "[encoded data removed]",
      "text/plain": [
       "<IPython.core.display.Image object>"
      ]
     },
     "metadata": {
      "image/png": {
       "width": 300
      }
     },
     "output_type": "display_data"
    }
   ],
   "source": [
    "os.makedirs(\"outplots/log\", exist_ok=True)\n",
    "for replicate, tree_df in tqdm(df.groupby(\"replicate\")):\n",
    "    tree_df = alifestd_to_working_format(tree_df.reset_index(drop=True))\n",
    "\n",
    "    tips = alifestd_find_leaf_ids(tree_df)\n",
    "    n_downsample = 1000\n",
    "    kept = random.sample(tips, min(n_downsample, len(tips)))\n",
    "    tree_df[\"extant\"] = tree_df[\"id\"].isin(kept)\n",
    "\n",
    "    tree_df = alifestd_prune_extinct_lineages_asexual(tree_df)\n",
    "    tree_df = alifestd_collapse_unifurcations(tree_df)\n",
    "\n",
    "    tree_df = logify_phylo(tree_df)  # log scale branches\n",
    "\n",
    "    attrs = {\n",
    "        col: mit.one(tree_df[col].unique())\n",
    "        for col in tree_df.columns\n",
    "        if len(tree_df[col].unique()) == 1 and col not in [\"dataSource\"]\n",
    "    }\n",
    "    attrs[\"ext\"] = \".pdf\"\n",
    "\n",
    "    tree_df = tree_df.drop(\"taxon_label\", axis=1).copy()\n",
    "    tree_df[\"taxon_label\"] = tree_df[\"id\"]\n",
    "\n",
    "    outname = kn.pack(attrs)\n",
    "    def do_render(tdf: pd.DataFrame):\n",
    "        t = Tree(apc.RosettaTree(tdf).to_newick())\n",
    "        t.to_ultrametric()\n",
    "\n",
    "        ts = TreeStyle()\n",
    "        ts.mode = \"c\"\n",
    "        ts.arc_start = -180  # 0 degrees = 3 o'clock\n",
    "        ts.arc_span = 360\n",
    "        ts.show_leaf_name = False\n",
    "        ts.show_scale = False\n",
    "\n",
    "        t.render(f\"outplots/log/{outname}\", tree_style=ts, w=1, units=\"in\")\n",
    "        t.render(\"/tmp/render.png\", tree_style=ts, w=1, units=\"in\", dpi=300)\n",
    "\n",
    "    with multiprocessing.Pool(1) as pool:\n",
    "        pool.map(do_render, [tree_df])\n",
    "\n",
    "    print(outname)\n",
    "    display(Image(filename=\"/tmp/render.png\",width=300))\n",
    "    gc.collect()\n",
    "    break\n"
   ]
  },
  {
   "cell_type": "code",
   "execution_count": 13,
   "metadata": {
    "execution": {
     "iopub.execute_input": "2024-04-13T22:51:39.830227Z",
     "iopub.status.busy": "2024-04-13T22:51:39.829859Z",
     "iopub.status.idle": "2024-04-13T22:51:41.894164Z",
     "shell.execute_reply": "2024-04-13T22:51:41.893487Z"
    }
   },
   "outputs": [
    {
     "data": {
      "application/vnd.jupyter.widget-view+json": {
       "model_id": "877af2e9b34d4f88bfcbbc50848e7c8d",
       "version_major": 2,
       "version_minor": 0
      },
      "text/plain": [
       "  0%|          | 0/48 [00:00<?, ?it/s]"
      ]
     },
     "metadata": {},
     "output_type": "display_data"
    },
    {
     "name": "stdout",
     "output_type": "stream",
     "text": [
      "Wrote file:"
     ]
    },
    {
     "name": "stdout",
     "output_type": "stream",
     "text": [
      " "
     ]
    },
    {
     "name": "stdout",
     "output_type": "stream",
     "text": [
      "outplots/linear/genomeFlavor=genome_purifyingplus+globalSeed=4.0+nCycle=1000000.0+popSize=1600+replicate=061eb8e9-0b71-46d4-8639-99ff955b45a0+ext=.pdf"
     ]
    },
    {
     "name": "stdout",
     "output_type": "stream",
     "text": [
      "\n"
     ]
    },
    {
     "name": "stdout",
     "output_type": "stream",
     "text": [
      "Wrote file:"
     ]
    },
    {
     "name": "stdout",
     "output_type": "stream",
     "text": [
      " "
     ]
    },
    {
     "name": "stdout",
     "output_type": "stream",
     "text": [
      "/tmp/render.png"
     ]
    },
    {
     "name": "stdout",
     "output_type": "stream",
     "text": [
      "\n"
     ]
    },
    {
     "name": "stdout",
     "output_type": "stream",
     "text": [
      "genomeFlavor=genome_purifyingplus+globalSeed=4.0+nCycle=1000000.0+popSize=1600+replicate=061eb8e9-0b71-46d4-8639-99ff955b45a0+ext=.pdf\n"
     ]
    },
    {
     "data": {
      "image/png": "[encoded data removed]",
      "text/plain": [
       "<IPython.core.display.Image object>"
      ]
     },
     "metadata": {
      "image/png": {
       "width": 300
      }
     },
     "output_type": "display_data"
    }
   ],
   "source": [
    "os.makedirs(\"outplots/linear\", exist_ok=True)\n",
    "for replicate, tree_df in tqdm(df.groupby(\"replicate\")):\n",
    "    tree_df = alifestd_to_working_format(tree_df.reset_index(drop=True))\n",
    "\n",
    "    tips = alifestd_find_leaf_ids(tree_df)\n",
    "    n_downsample = 1000\n",
    "    kept = random.sample(tips, min(n_downsample, len(tips)))\n",
    "    tree_df[\"extant\"] = tree_df[\"id\"].isin(kept)\n",
    "\n",
    "    tree_df = alifestd_prune_extinct_lineages_asexual(tree_df)\n",
    "    tree_df = alifestd_collapse_unifurcations(tree_df)\n",
    "\n",
    "    attrs = {\n",
    "        col: mit.one(tree_df[col].unique())\n",
    "        for col in tree_df.columns\n",
    "        if len(tree_df[col].unique()) == 1 and col not in [\"dataSource\"]\n",
    "    }\n",
    "    attrs[\"ext\"] = \".pdf\"\n",
    "\n",
    "    tree_df = tree_df.drop(\"taxon_label\", axis=1).copy()\n",
    "    tree_df[\"taxon_label\"] = tree_df[\"id\"]\n",
    "\n",
    "    outname = kn.pack(attrs)\n",
    "    def do_render(tdf: pd.DataFrame):\n",
    "        t = Tree(apc.RosettaTree(tdf).to_newick())\n",
    "\n",
    "        ts = TreeStyle()\n",
    "        ts.mode = \"c\"\n",
    "        ts.arc_start = -180  # 0 degrees = 3 o'clock\n",
    "        ts.arc_span = 360\n",
    "        ts.show_leaf_name = False\n",
    "        ts.show_scale = False\n",
    "\n",
    "        t.render(f\"outplots/linear/{outname}\", tree_style=ts, w=1, units=\"in\")\n",
    "        t.render(\"/tmp/render.png\", tree_style=ts, w=1, units=\"in\", dpi=300)\n",
    "\n",
    "    with multiprocessing.Pool(1) as pool:\n",
    "        pool.map(do_render, [tree_df])\n",
    "\n",
    "    print(outname)\n",
    "    display(Image(filename=\"/tmp/render.png\",width=300))\n",
    "    gc.collect()\n",
    "    break\n"
   ]
  }
 ],
 "metadata": {
  "kernelspec": {
   "display_name": "Python 3",
   "language": "python",
   "name": "python3"
  },
  "language_info": {
   "codemirror_mode": {
    "name": "ipython",
    "version": 3
   },
   "file_extension": ".py",
   "mimetype": "text/x-python",
   "name": "python",
   "nbconvert_exporter": "python",
   "pygments_lexer": "ipython3",
   "version": "3.11.9"
  },
  "widgets": {
   "application/vnd.jupyter.widget-state+json": {
    "state": {
     "06e0cdd971ca4e82b1ab88c58d84f019": {
      "model_module": "@jupyter-widgets/base",
      "model_module_version": "2.0.0",
      "model_name": "LayoutModel",
      "state": {
       "_model_module": "@jupyter-widgets/base",
       "_model_module_version": "2.0.0",
       "_model_name": "LayoutModel",
       "_view_count": null,
       "_view_module": "@jupyter-widgets/base",
       "_view_module_version": "2.0.0",
       "_view_name": "LayoutView",
       "align_content": null,
       "align_items": null,
       "align_self": null,
       "border_bottom": null,
       "border_left": null,
       "border_right": null,
       "border_top": null,
       "bottom": null,
       "display": null,
       "flex": null,
       "flex_flow": null,
       "grid_area": null,
       "grid_auto_columns": null,
       "grid_auto_flow": null,
       "grid_auto_rows": null,
       "grid_column": null,
       "grid_gap": null,
       "grid_row": null,
       "grid_template_areas": null,
       "grid_template_columns": null,
       "grid_template_rows": null,
       "height": null,
       "justify_content": null,
       "justify_items": null,
       "left": null,
       "margin": null,
       "max_height": null,
       "max_width": null,
       "min_height": null,
       "min_width": null,
       "object_fit": null,
       "object_position": null,
       "order": null,
       "overflow": null,
       "padding": null,
       "right": null,
       "top": null,
       "visibility": null,
       "width": null
      }
     },
     "15008bf930ec418da30774f6a039794b": {
      "model_module": "@jupyter-widgets/base",
      "model_module_version": "2.0.0",
      "model_name": "LayoutModel",
      "state": {
       "_model_module": "@jupyter-widgets/base",
       "_model_module_version": "2.0.0",
       "_model_name": "LayoutModel",
       "_view_count": null,
       "_view_module": "@jupyter-widgets/base",
       "_view_module_version": "2.0.0",
       "_view_name": "LayoutView",
       "align_content": null,
       "align_items": null,
       "align_self": null,
       "border_bottom": null,
       "border_left": null,
       "border_right": null,
       "border_top": null,
       "bottom": null,
       "display": null,
       "flex": null,
       "flex_flow": null,
       "grid_area": null,
       "grid_auto_columns": null,
       "grid_auto_flow": null,
       "grid_auto_rows": null,
       "grid_column": null,
       "grid_gap": null,
       "grid_row": null,
       "grid_template_areas": null,
       "grid_template_columns": null,
       "grid_template_rows": null,
       "height": null,
       "justify_content": null,
       "justify_items": null,
       "left": null,
       "margin": null,
       "max_height": null,
       "max_width": null,
       "min_height": null,
       "min_width": null,
       "object_fit": null,
       "object_position": null,
       "order": null,
       "overflow": null,
       "padding": null,
       "right": null,
       "top": null,
       "visibility": null,
       "width": null
      }
     },
     "1b2e4b29e42f4776b010ee99f0d5ac93": {
      "model_module": "@jupyter-widgets/controls",
      "model_module_version": "2.0.0",
      "model_name": "HTMLStyleModel",
      "state": {
       "_model_module": "@jupyter-widgets/controls",
       "_model_module_version": "2.0.0",
       "_model_name": "HTMLStyleModel",
       "_view_count": null,
       "_view_module": "@jupyter-widgets/base",
       "_view_module_version": "2.0.0",
       "_view_name": "StyleView",
       "background": null,
       "description_width": "",
       "font_size": null,
       "text_color": null
      }
     },
     "212d30d8ad6f44eea658698886553ca9": {
      "model_module": "@jupyter-widgets/controls",
      "model_module_version": "2.0.0",
      "model_name": "FloatProgressModel",
      "state": {
       "_dom_classes": [],
       "_model_module": "@jupyter-widgets/controls",
       "_model_module_version": "2.0.0",
       "_model_name": "FloatProgressModel",
       "_view_count": null,
       "_view_module": "@jupyter-widgets/controls",
       "_view_module_version": "2.0.0",
       "_view_name": "ProgressView",
       "bar_style": "danger",
       "description": "",
       "description_allow_html": false,
       "layout": "IPY_MODEL_4b80872386964901a3829ce8eb7bab3e",
       "max": 48.0,
       "min": 0.0,
       "orientation": "horizontal",
       "style": "IPY_MODEL_dde4d0b744764a9cb6e3dceb54a721d1",
       "tabbable": null,
       "tooltip": null,
       "value": 0.0
      }
     },
     "320a85cedd0e44d0afd3e86f421bedbf": {
      "model_module": "@jupyter-widgets/controls",
      "model_module_version": "2.0.0",
      "model_name": "HTMLModel",
      "state": {
       "_dom_classes": [],
       "_model_module": "@jupyter-widgets/controls",
       "_model_module_version": "2.0.0",
       "_model_name": "HTMLModel",
       "_view_count": null,
       "_view_module": "@jupyter-widgets/controls",
       "_view_module_version": "2.0.0",
       "_view_name": "HTMLView",
       "description": "",
       "description_allow_html": false,
       "layout": "IPY_MODEL_9994254a905b4c94ab8e07c5091e4ee1",
       "placeholder": "​",
       "style": "IPY_MODEL_1b2e4b29e42f4776b010ee99f0d5ac93",
       "tabbable": null,
       "tooltip": null,
       "value": " 0/48 [00:02&lt;?, ?it/s]"
      }
     },
     "3469b7bd44cc417dbf6f3543374f639f": {
      "model_module": "@jupyter-widgets/base",
      "model_module_version": "2.0.0",
      "model_name": "LayoutModel",
      "state": {
       "_model_module": "@jupyter-widgets/base",
       "_model_module_version": "2.0.0",
       "_model_name": "LayoutModel",
       "_view_count": null,
       "_view_module": "@jupyter-widgets/base",
       "_view_module_version": "2.0.0",
       "_view_name": "LayoutView",
       "align_content": null,
       "align_items": null,
       "align_self": null,
       "border_bottom": null,
       "border_left": null,
       "border_right": null,
       "border_top": null,
       "bottom": null,
       "display": null,
       "flex": null,
       "flex_flow": null,
       "grid_area": null,
       "grid_auto_columns": null,
       "grid_auto_flow": null,
       "grid_auto_rows": null,
       "grid_column": null,
       "grid_gap": null,
       "grid_row": null,
       "grid_template_areas": null,
       "grid_template_columns": null,
       "grid_template_rows": null,
       "height": null,
       "justify_content": null,
       "justify_items": null,
       "left": null,
       "margin": null,
       "max_height": null,
       "max_width": null,
       "min_height": null,
       "min_width": null,
       "object_fit": null,
       "object_position": null,
       "order": null,
       "overflow": null,
       "padding": null,
       "right": null,
       "top": null,
       "visibility": null,
       "width": null
      }
     },
     "34c95248841e4e4ca3452791248435fe": {
      "model_module": "@jupyter-widgets/base",
      "model_module_version": "2.0.0",
      "model_name": "LayoutModel",
      "state": {
       "_model_module": "@jupyter-widgets/base",
       "_model_module_version": "2.0.0",
       "_model_name": "LayoutModel",
       "_view_count": null,
       "_view_module": "@jupyter-widgets/base",
       "_view_module_version": "2.0.0",
       "_view_name": "LayoutView",
       "align_content": null,
       "align_items": null,
       "align_self": null,
       "border_bottom": null,
       "border_left": null,
       "border_right": null,
       "border_top": null,
       "bottom": null,
       "display": null,
       "flex": null,
       "flex_flow": null,
       "grid_area": null,
       "grid_auto_columns": null,
       "grid_auto_flow": null,
       "grid_auto_rows": null,
       "grid_column": null,
       "grid_gap": null,
       "grid_row": null,
       "grid_template_areas": null,
       "grid_template_columns": null,
       "grid_template_rows": null,
       "height": null,
       "justify_content": null,
       "justify_items": null,
       "left": null,
       "margin": null,
       "max_height": null,
       "max_width": null,
       "min_height": null,
       "min_width": null,
       "object_fit": null,
       "object_position": null,
       "order": null,
       "overflow": null,
       "padding": null,
       "right": null,
       "top": null,
       "visibility": null,
       "width": null
      }
     },
     "4a4732b5693c4f5f9f22648320dfbf48": {
      "model_module": "@jupyter-widgets/base",
      "model_module_version": "2.0.0",
      "model_name": "LayoutModel",
      "state": {
       "_model_module": "@jupyter-widgets/base",
       "_model_module_version": "2.0.0",
       "_model_name": "LayoutModel",
       "_view_count": null,
       "_view_module": "@jupyter-widgets/base",
       "_view_module_version": "2.0.0",
       "_view_name": "LayoutView",
       "align_content": null,
       "align_items": null,
       "align_self": null,
       "border_bottom": null,
       "border_left": null,
       "border_right": null,
       "border_top": null,
       "bottom": null,
       "display": null,
       "flex": null,
       "flex_flow": null,
       "grid_area": null,
       "grid_auto_columns": null,
       "grid_auto_flow": null,
       "grid_auto_rows": null,
       "grid_column": null,
       "grid_gap": null,
       "grid_row": null,
       "grid_template_areas": null,
       "grid_template_columns": null,
       "grid_template_rows": null,
       "height": null,
       "justify_content": null,
       "justify_items": null,
       "left": null,
       "margin": null,
       "max_height": null,
       "max_width": null,
       "min_height": null,
       "min_width": null,
       "object_fit": null,
       "object_position": null,
       "order": null,
       "overflow": null,
       "padding": null,
       "right": null,
       "top": null,
       "visibility": null,
       "width": null
      }
     },
     "4b80872386964901a3829ce8eb7bab3e": {
      "model_module": "@jupyter-widgets/base",
      "model_module_version": "2.0.0",
      "model_name": "LayoutModel",
      "state": {
       "_model_module": "@jupyter-widgets/base",
       "_model_module_version": "2.0.0",
       "_model_name": "LayoutModel",
       "_view_count": null,
       "_view_module": "@jupyter-widgets/base",
       "_view_module_version": "2.0.0",
       "_view_name": "LayoutView",
       "align_content": null,
       "align_items": null,
       "align_self": null,
       "border_bottom": null,
       "border_left": null,
       "border_right": null,
       "border_top": null,
       "bottom": null,
       "display": null,
       "flex": null,
       "flex_flow": null,
       "grid_area": null,
       "grid_auto_columns": null,
       "grid_auto_flow": null,
       "grid_auto_rows": null,
       "grid_column": null,
       "grid_gap": null,
       "grid_row": null,
       "grid_template_areas": null,
       "grid_template_columns": null,
       "grid_template_rows": null,
       "height": null,
       "justify_content": null,
       "justify_items": null,
       "left": null,
       "margin": null,
       "max_height": null,
       "max_width": null,
       "min_height": null,
       "min_width": null,
       "object_fit": null,
       "object_position": null,
       "order": null,
       "overflow": null,
       "padding": null,
       "right": null,
       "top": null,
       "visibility": null,
       "width": null
      }
     },
     "60e7818379e040e88cf9bb70ad16df3f": {
      "model_module": "@jupyter-widgets/controls",
      "model_module_version": "2.0.0",
      "model_name": "HTMLStyleModel",
      "state": {
       "_model_module": "@jupyter-widgets/controls",
       "_model_module_version": "2.0.0",
       "_model_name": "HTMLStyleModel",
       "_view_count": null,
       "_view_module": "@jupyter-widgets/base",
       "_view_module_version": "2.0.0",
       "_view_name": "StyleView",
       "background": null,
       "description_width": "",
       "font_size": null,
       "text_color": null
      }
     },
     "7635f29cc9b64da9b2a3c8984f3c4b6b": {
      "model_module": "@jupyter-widgets/controls",
      "model_module_version": "2.0.0",
      "model_name": "HTMLStyleModel",
      "state": {
       "_model_module": "@jupyter-widgets/controls",
       "_model_module_version": "2.0.0",
       "_model_name": "HTMLStyleModel",
       "_view_count": null,
       "_view_module": "@jupyter-widgets/base",
       "_view_module_version": "2.0.0",
       "_view_name": "StyleView",
       "background": null,
       "description_width": "",
       "font_size": null,
       "text_color": null
      }
     },
     "79db38ba595e4620b6fbdd6383871b6f": {
      "model_module": "@jupyter-widgets/controls",
      "model_module_version": "2.0.0",
      "model_name": "HTMLModel",
      "state": {
       "_dom_classes": [],
       "_model_module": "@jupyter-widgets/controls",
       "_model_module_version": "2.0.0",
       "_model_name": "HTMLModel",
       "_view_count": null,
       "_view_module": "@jupyter-widgets/controls",
       "_view_module_version": "2.0.0",
       "_view_name": "HTMLView",
       "description": "",
       "description_allow_html": false,
       "layout": "IPY_MODEL_4a4732b5693c4f5f9f22648320dfbf48",
       "placeholder": "​",
       "style": "IPY_MODEL_60e7818379e040e88cf9bb70ad16df3f",
       "tabbable": null,
       "tooltip": null,
       "value": "  0%"
      }
     },
     "877af2e9b34d4f88bfcbbc50848e7c8d": {
      "model_module": "@jupyter-widgets/controls",
      "model_module_version": "2.0.0",
      "model_name": "HBoxModel",
      "state": {
       "_dom_classes": [],
       "_model_module": "@jupyter-widgets/controls",
       "_model_module_version": "2.0.0",
       "_model_name": "HBoxModel",
       "_view_count": null,
       "_view_module": "@jupyter-widgets/controls",
       "_view_module_version": "2.0.0",
       "_view_name": "HBoxView",
       "box_style": "",
       "children": [
        "IPY_MODEL_79db38ba595e4620b6fbdd6383871b6f",
        "IPY_MODEL_eb3ab8fcae694da2ab29575c7ba1c18b",
        "IPY_MODEL_320a85cedd0e44d0afd3e86f421bedbf"
       ],
       "layout": "IPY_MODEL_3469b7bd44cc417dbf6f3543374f639f",
       "tabbable": null,
       "tooltip": null
      }
     },
     "9994254a905b4c94ab8e07c5091e4ee1": {
      "model_module": "@jupyter-widgets/base",
      "model_module_version": "2.0.0",
      "model_name": "LayoutModel",
      "state": {
       "_model_module": "@jupyter-widgets/base",
       "_model_module_version": "2.0.0",
       "_model_name": "LayoutModel",
       "_view_count": null,
       "_view_module": "@jupyter-widgets/base",
       "_view_module_version": "2.0.0",
       "_view_name": "LayoutView",
       "align_content": null,
       "align_items": null,
       "align_self": null,
       "border_bottom": null,
       "border_left": null,
       "border_right": null,
       "border_top": null,
       "bottom": null,
       "display": null,
       "flex": null,
       "flex_flow": null,
       "grid_area": null,
       "grid_auto_columns": null,
       "grid_auto_flow": null,
       "grid_auto_rows": null,
       "grid_column": null,
       "grid_gap": null,
       "grid_row": null,
       "grid_template_areas": null,
       "grid_template_columns": null,
       "grid_template_rows": null,
       "height": null,
       "justify_content": null,
       "justify_items": null,
       "left": null,
       "margin": null,
       "max_height": null,
       "max_width": null,
       "min_height": null,
       "min_width": null,
       "object_fit": null,
       "object_position": null,
       "order": null,
       "overflow": null,
       "padding": null,
       "right": null,
       "top": null,
       "visibility": null,
       "width": null
      }
     },
     "9ac2bb743ea1455486513ae962302fb5": {
      "model_module": "@jupyter-widgets/controls",
      "model_module_version": "2.0.0",
      "model_name": "HBoxModel",
      "state": {
       "_dom_classes": [],
       "_model_module": "@jupyter-widgets/controls",
       "_model_module_version": "2.0.0",
       "_model_name": "HBoxModel",
       "_view_count": null,
       "_view_module": "@jupyter-widgets/controls",
       "_view_module_version": "2.0.0",
       "_view_name": "HBoxView",
       "box_style": "",
       "children": [
        "IPY_MODEL_d1d6c3ed947047218c8192f54b257fba",
        "IPY_MODEL_212d30d8ad6f44eea658698886553ca9",
        "IPY_MODEL_c8cde94df36848568d3cb55e2eab5507"
       ],
       "layout": "IPY_MODEL_34c95248841e4e4ca3452791248435fe",
       "tabbable": null,
       "tooltip": null
      }
     },
     "adaa3b9622bc4ef0a666d342b935843a": {
      "model_module": "@jupyter-widgets/controls",
      "model_module_version": "2.0.0",
      "model_name": "HTMLStyleModel",
      "state": {
       "_model_module": "@jupyter-widgets/controls",
       "_model_module_version": "2.0.0",
       "_model_name": "HTMLStyleModel",
       "_view_count": null,
       "_view_module": "@jupyter-widgets/base",
       "_view_module_version": "2.0.0",
       "_view_name": "StyleView",
       "background": null,
       "description_width": "",
       "font_size": null,
       "text_color": null
      }
     },
     "b512586d52804062848fefa7fa070cd8": {
      "model_module": "@jupyter-widgets/base",
      "model_module_version": "2.0.0",
      "model_name": "LayoutModel",
      "state": {
       "_model_module": "@jupyter-widgets/base",
       "_model_module_version": "2.0.0",
       "_model_name": "LayoutModel",
       "_view_count": null,
       "_view_module": "@jupyter-widgets/base",
       "_view_module_version": "2.0.0",
       "_view_name": "LayoutView",
       "align_content": null,
       "align_items": null,
       "align_self": null,
       "border_bottom": null,
       "border_left": null,
       "border_right": null,
       "border_top": null,
       "bottom": null,
       "display": null,
       "flex": null,
       "flex_flow": null,
       "grid_area": null,
       "grid_auto_columns": null,
       "grid_auto_flow": null,
       "grid_auto_rows": null,
       "grid_column": null,
       "grid_gap": null,
       "grid_row": null,
       "grid_template_areas": null,
       "grid_template_columns": null,
       "grid_template_rows": null,
       "height": null,
       "justify_content": null,
       "justify_items": null,
       "left": null,
       "margin": null,
       "max_height": null,
       "max_width": null,
       "min_height": null,
       "min_width": null,
       "object_fit": null,
       "object_position": null,
       "order": null,
       "overflow": null,
       "padding": null,
       "right": null,
       "top": null,
       "visibility": null,
       "width": null
      }
     },
     "c8cde94df36848568d3cb55e2eab5507": {
      "model_module": "@jupyter-widgets/controls",
      "model_module_version": "2.0.0",
      "model_name": "HTMLModel",
      "state": {
       "_dom_classes": [],
       "_model_module": "@jupyter-widgets/controls",
       "_model_module_version": "2.0.0",
       "_model_name": "HTMLModel",
       "_view_count": null,
       "_view_module": "@jupyter-widgets/controls",
       "_view_module_version": "2.0.0",
       "_view_name": "HTMLView",
       "description": "",
       "description_allow_html": false,
       "layout": "IPY_MODEL_15008bf930ec418da30774f6a039794b",
       "placeholder": "​",
       "style": "IPY_MODEL_7635f29cc9b64da9b2a3c8984f3c4b6b",
       "tabbable": null,
       "tooltip": null,
       "value": " 0/48 [00:02&lt;?, ?it/s]"
      }
     },
     "d1d6c3ed947047218c8192f54b257fba": {
      "model_module": "@jupyter-widgets/controls",
      "model_module_version": "2.0.0",
      "model_name": "HTMLModel",
      "state": {
       "_dom_classes": [],
       "_model_module": "@jupyter-widgets/controls",
       "_model_module_version": "2.0.0",
       "_model_name": "HTMLModel",
       "_view_count": null,
       "_view_module": "@jupyter-widgets/controls",
       "_view_module_version": "2.0.0",
       "_view_name": "HTMLView",
       "description": "",
       "description_allow_html": false,
       "layout": "IPY_MODEL_06e0cdd971ca4e82b1ab88c58d84f019",
       "placeholder": "​",
       "style": "IPY_MODEL_adaa3b9622bc4ef0a666d342b935843a",
       "tabbable": null,
       "tooltip": null,
       "value": "  0%"
      }
     },
     "d6e11767917346a4afb64d1e4e19bf79": {
      "model_module": "@jupyter-widgets/controls",
      "model_module_version": "2.0.0",
      "model_name": "ProgressStyleModel",
      "state": {
       "_model_module": "@jupyter-widgets/controls",
       "_model_module_version": "2.0.0",
       "_model_name": "ProgressStyleModel",
       "_view_count": null,
       "_view_module": "@jupyter-widgets/base",
       "_view_module_version": "2.0.0",
       "_view_name": "StyleView",
       "bar_color": null,
       "description_width": ""
      }
     },
     "dde4d0b744764a9cb6e3dceb54a721d1": {
      "model_module": "@jupyter-widgets/controls",
      "model_module_version": "2.0.0",
      "model_name": "ProgressStyleModel",
      "state": {
       "_model_module": "@jupyter-widgets/controls",
       "_model_module_version": "2.0.0",
       "_model_name": "ProgressStyleModel",
       "_view_count": null,
       "_view_module": "@jupyter-widgets/base",
       "_view_module_version": "2.0.0",
       "_view_name": "StyleView",
       "bar_color": null,
       "description_width": ""
      }
     },
     "eb3ab8fcae694da2ab29575c7ba1c18b": {
      "model_module": "@jupyter-widgets/controls",
      "model_module_version": "2.0.0",
      "model_name": "FloatProgressModel",
      "state": {
       "_dom_classes": [],
       "_model_module": "@jupyter-widgets/controls",
       "_model_module_version": "2.0.0",
       "_model_name": "FloatProgressModel",
       "_view_count": null,
       "_view_module": "@jupyter-widgets/controls",
       "_view_module_version": "2.0.0",
       "_view_name": "ProgressView",
       "bar_style": "danger",
       "description": "",
       "description_allow_html": false,
       "layout": "IPY_MODEL_b512586d52804062848fefa7fa070cd8",
       "max": 48.0,
       "min": 0.0,
       "orientation": "horizontal",
       "style": "IPY_MODEL_d6e11767917346a4afb64d1e4e19bf79",
       "tabbable": null,
       "tooltip": null,
       "value": 0.0
      }
     }
    },
    "version_major": 2,
    "version_minor": 0
   }
  }
 },
 "nbformat": 4,
 "nbformat_minor": 4
}
