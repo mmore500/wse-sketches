{
 "cells": [
  {
   "cell_type": "code",
   "execution_count": 1,
   "metadata": {
    "execution": {
     "iopub.execute_input": "2024-04-03T05:07:43.782139Z",
     "iopub.status.busy": "2024-04-03T05:07:43.781952Z",
     "iopub.status.idle": "2024-04-03T05:07:45.142398Z",
     "shell.execute_reply": "2024-04-03T05:07:45.141814Z"
    }
   },
   "outputs": [],
   "source": [
    "import logging\n",
    "import random\n",
    "\n",
    "from backstrip import backplot\n",
    "from nbmetalog import nbmetalog as nbm\n",
    "import pandas as pd\n",
    "from teeplot import teeplot as tp\n",
    "\n",
    "random.seed(1)\n",
    "\n",
    "logging.basicConfig(\n",
    "    format=\"[%(funcName)s:%(lineno)d] %(message)s\",\n",
    ")\n",
    "logger = logging.getLogger()\n"
   ]
  },
  {
   "cell_type": "code",
   "execution_count": 2,
   "metadata": {
    "execution": {
     "iopub.execute_input": "2024-04-03T05:07:45.145418Z",
     "iopub.status.busy": "2024-04-03T05:07:45.144799Z",
     "iopub.status.idle": "2024-04-03T05:07:45.373531Z",
     "shell.execute_reply": "2024-04-03T05:07:45.372831Z"
    }
   },
   "outputs": [
    {
     "name": "stdout",
     "output_type": "stream",
     "text": [
      "context: ci\n",
      "hostname: fv-az1113-82\n",
      "interpreter: 3.10.12 (main, Nov 20 2023, 15:14:05) [GCC 11.4.0]\n",
      "nbcellexec: null\n",
      "nbname: benchmark\n",
      "nbpath: /home/runner/work/wse-sketches/wse-sketches/binder/benchmark.ipynb\n",
      "revision: null\n",
      "session: 4b2dcfa5-29f1-4e59-8fda-d07e1b2f44b4\n",
      "timestamp: 2024-04-03T05:07:45Z00:00\n",
      "\n",
      "\n",
      "IPython==8.20.0\n",
      "keyname==0.6.0\n",
      "yaml==6.0.1\n",
      "logging==0.5.1.2\n",
      "nbmetalog==0.2.6\n",
      "pandas==1.5.3\n",
      "teeplot==1.0.1\n",
      "re==2.2.1\n",
      "comm==0.2.1\n",
      "psutil==5.9.8\n",
      "zmq==25.1.2\n",
      "json==2.0.9\n",
      "ipykernel==6.29.0\n"
     ]
    }
   ],
   "source": [
    "nbm.print_metadata()\n"
   ]
  },
  {
   "cell_type": "markdown",
   "metadata": {},
   "source": [
    "## Get Data\n"
   ]
  },
  {
   "cell_type": "code",
   "execution_count": 3,
   "metadata": {
    "execution": {
     "iopub.execute_input": "2024-04-03T05:07:45.404488Z",
     "iopub.status.busy": "2024-04-03T05:07:45.404196Z",
     "iopub.status.idle": "2024-04-03T05:07:48.284038Z",
     "shell.execute_reply": "2024-04-03T05:07:48.283440Z"
    }
   },
   "outputs": [],
   "source": [
    "df = pd.read_csv(\"https://osf.io/egjxr/download\")\n"
   ]
  },
  {
   "cell_type": "code",
   "execution_count": 4,
   "metadata": {
    "execution": {
     "iopub.execute_input": "2024-04-03T05:07:48.286814Z",
     "iopub.status.busy": "2024-04-03T05:07:48.286416Z",
     "iopub.status.idle": "2024-04-03T05:07:48.289967Z",
     "shell.execute_reply": "2024-04-03T05:07:48.289358Z"
    }
   },
   "outputs": [],
   "source": [
    "df[\"Nanoseconds per Op\"] = df[\"Nanoseconds\"] / df[\"Num Operations\"]\n"
   ]
  },
  {
   "cell_type": "markdown",
   "metadata": {},
   "source": [
    "## Statistics\n"
   ]
  },
  {
   "cell_type": "markdown",
   "metadata": {},
   "source": [
    "nanoseconds per op mean & SE\n"
   ]
  },
  {
   "cell_type": "code",
   "execution_count": 5,
   "metadata": {
    "execution": {
     "iopub.execute_input": "2024-04-03T05:07:48.292397Z",
     "iopub.status.busy": "2024-04-03T05:07:48.292052Z",
     "iopub.status.idle": "2024-04-03T05:07:48.311325Z",
     "shell.execute_reply": "2024-04-03T05:07:48.310763Z"
    }
   },
   "outputs": [
    {
     "data": {
      "text/html": [
       "<div>\n",
       "<style scoped>\n",
       "    .dataframe tbody tr th:only-of-type {\n",
       "        vertical-align: middle;\n",
       "    }\n",
       "\n",
       "    .dataframe tbody tr th {\n",
       "        vertical-align: top;\n",
       "    }\n",
       "\n",
       "    .dataframe thead tr th {\n",
       "        text-align: left;\n",
       "    }\n",
       "\n",
       "    .dataframe thead tr:last-of-type th {\n",
       "        text-align: right;\n",
       "    }\n",
       "</style>\n",
       "<table border=\"1\" class=\"dataframe\">\n",
       "  <thead>\n",
       "    <tr>\n",
       "      <th></th>\n",
       "      <th colspan=\"2\" halign=\"left\">Nanoseconds</th>\n",
       "      <th colspan=\"2\" halign=\"left\">Replicate</th>\n",
       "      <th colspan=\"2\" halign=\"left\">Num Operations</th>\n",
       "      <th colspan=\"2\" halign=\"left\">Surface Size</th>\n",
       "      <th colspan=\"2\" halign=\"left\">Nanoseconds per Op</th>\n",
       "    </tr>\n",
       "    <tr>\n",
       "      <th></th>\n",
       "      <th>mean</th>\n",
       "      <th>sem</th>\n",
       "      <th>mean</th>\n",
       "      <th>sem</th>\n",
       "      <th>mean</th>\n",
       "      <th>sem</th>\n",
       "      <th>mean</th>\n",
       "      <th>sem</th>\n",
       "      <th>mean</th>\n",
       "      <th>sem</th>\n",
       "    </tr>\n",
       "    <tr>\n",
       "      <th>Policy</th>\n",
       "      <th></th>\n",
       "      <th></th>\n",
       "      <th></th>\n",
       "      <th></th>\n",
       "      <th></th>\n",
       "      <th></th>\n",
       "      <th></th>\n",
       "      <th></th>\n",
       "      <th></th>\n",
       "      <th></th>\n",
       "    </tr>\n",
       "  </thead>\n",
       "  <tbody>\n",
       "    <tr>\n",
       "      <th>tilted</th>\n",
       "      <td>2.327705e+08</td>\n",
       "      <td>2.315002e+06</td>\n",
       "      <td>9.5</td>\n",
       "      <td>1.322876</td>\n",
       "      <td>1000000.0</td>\n",
       "      <td>0.0</td>\n",
       "      <td>64.0</td>\n",
       "      <td>0.0</td>\n",
       "      <td>232.770510</td>\n",
       "      <td>2.315002</td>\n",
       "    </tr>\n",
       "    <tr>\n",
       "      <th>tilted-sticky</th>\n",
       "      <td>2.827571e+08</td>\n",
       "      <td>1.599628e+05</td>\n",
       "      <td>9.5</td>\n",
       "      <td>1.322876</td>\n",
       "      <td>1000000.0</td>\n",
       "      <td>0.0</td>\n",
       "      <td>64.0</td>\n",
       "      <td>0.0</td>\n",
       "      <td>282.757057</td>\n",
       "      <td>0.159963</td>\n",
       "    </tr>\n",
       "    <tr>\n",
       "      <th>trivial</th>\n",
       "      <td>4.963108e+06</td>\n",
       "      <td>1.622120e+04</td>\n",
       "      <td>9.5</td>\n",
       "      <td>1.322876</td>\n",
       "      <td>1000000.0</td>\n",
       "      <td>0.0</td>\n",
       "      <td>64.0</td>\n",
       "      <td>0.0</td>\n",
       "      <td>4.963108</td>\n",
       "      <td>0.016221</td>\n",
       "    </tr>\n",
       "  </tbody>\n",
       "</table>\n",
       "</div>"
      ],
      "text/plain": [
       "                Nanoseconds               Replicate           Num Operations  \\\n",
       "                       mean           sem      mean       sem           mean   \n",
       "Policy                                                                         \n",
       "tilted         2.327705e+08  2.315002e+06       9.5  1.322876      1000000.0   \n",
       "tilted-sticky  2.827571e+08  1.599628e+05       9.5  1.322876      1000000.0   \n",
       "trivial        4.963108e+06  1.622120e+04       9.5  1.322876      1000000.0   \n",
       "\n",
       "                   Surface Size      Nanoseconds per Op            \n",
       "               sem         mean  sem               mean       sem  \n",
       "Policy                                                             \n",
       "tilted         0.0         64.0  0.0         232.770510  2.315002  \n",
       "tilted-sticky  0.0         64.0  0.0         282.757057  0.159963  \n",
       "trivial        0.0         64.0  0.0           4.963108  0.016221  "
      ]
     },
     "execution_count": 5,
     "metadata": {},
     "output_type": "execute_result"
    }
   ],
   "source": [
    "dfg = df.groupby([\"Policy\"]).agg([\"mean\", \"sem\"])\n",
    "dfg\n"
   ]
  },
  {
   "cell_type": "markdown",
   "metadata": {},
   "source": [
    "op to trivial ratio\n"
   ]
  },
  {
   "cell_type": "code",
   "execution_count": 6,
   "metadata": {
    "execution": {
     "iopub.execute_input": "2024-04-03T05:07:48.313650Z",
     "iopub.status.busy": "2024-04-03T05:07:48.313288Z",
     "iopub.status.idle": "2024-04-03T05:07:48.322620Z",
     "shell.execute_reply": "2024-04-03T05:07:48.322036Z"
    }
   },
   "outputs": [
    {
     "data": {
      "text/html": [
       "<div>\n",
       "<style scoped>\n",
       "    .dataframe tbody tr th:only-of-type {\n",
       "        vertical-align: middle;\n",
       "    }\n",
       "\n",
       "    .dataframe tbody tr th {\n",
       "        vertical-align: top;\n",
       "    }\n",
       "\n",
       "    .dataframe thead th {\n",
       "        text-align: right;\n",
       "    }\n",
       "</style>\n",
       "<table border=\"1\" class=\"dataframe\">\n",
       "  <thead>\n",
       "    <tr style=\"text-align: right;\">\n",
       "      <th></th>\n",
       "      <th>mean</th>\n",
       "      <th>sem</th>\n",
       "    </tr>\n",
       "    <tr>\n",
       "      <th>Policy</th>\n",
       "      <th></th>\n",
       "      <th></th>\n",
       "    </tr>\n",
       "  </thead>\n",
       "  <tbody>\n",
       "    <tr>\n",
       "      <th>tilted</th>\n",
       "      <td>46.900146</td>\n",
       "      <td>0.466442</td>\n",
       "    </tr>\n",
       "    <tr>\n",
       "      <th>tilted-sticky</th>\n",
       "      <td>56.971767</td>\n",
       "      <td>0.032230</td>\n",
       "    </tr>\n",
       "    <tr>\n",
       "      <th>trivial</th>\n",
       "      <td>1.000000</td>\n",
       "      <td>0.003268</td>\n",
       "    </tr>\n",
       "  </tbody>\n",
       "</table>\n",
       "</div>"
      ],
      "text/plain": [
       "                    mean       sem\n",
       "Policy                            \n",
       "tilted         46.900146  0.466442\n",
       "tilted-sticky  56.971767  0.032230\n",
       "trivial         1.000000  0.003268"
      ]
     },
     "execution_count": 6,
     "metadata": {},
     "output_type": "execute_result"
    }
   ],
   "source": [
    "df[\"Trivial Ratio\"] = (\n",
    "    df[\"Nanoseconds\"]\n",
    "    / df[(df[\"Policy\"] == \"trivial\")][\"Nanoseconds\"].mean()\n",
    ")\n",
    "df.groupby([\"Policy\"])[\"Trivial Ratio\"].agg([\"mean\", \"sem\"])\n"
   ]
  },
  {
   "cell_type": "markdown",
   "metadata": {},
   "source": [
    "## Visualize Results\n"
   ]
  },
  {
   "cell_type": "code",
   "execution_count": 7,
   "metadata": {
    "execution": {
     "iopub.execute_input": "2024-04-03T05:07:48.324987Z",
     "iopub.status.busy": "2024-04-03T05:07:48.324634Z",
     "iopub.status.idle": "2024-04-03T05:07:49.400789Z",
     "shell.execute_reply": "2024-04-03T05:07:49.400128Z"
    }
   },
   "outputs": [
    {
     "name": "stdout",
     "output_type": "stream",
     "text": [
      "teeplots/orient=h+viz=backplot+x=nanoseconds-per-op+y=policy+ext=.pdf\n"
     ]
    },
    {
     "name": "stdout",
     "output_type": "stream",
     "text": [
      "teeplots/orient=h+viz=backplot+x=nanoseconds-per-op+y=policy+ext=.png\n"
     ]
    },
    {
     "data": {
      "image/png": "[encoded data removed]",
      "text/plain": [
       "<Figure size 1261.11x500 with 1 Axes>"
      ]
     },
     "metadata": {},
     "output_type": "display_data"
    },
    {
     "data": {
      "text/plain": [
       "<seaborn.axisgrid.FacetGrid at 0x7f70aaff3df0>"
      ]
     },
     "execution_count": 7,
     "metadata": {},
     "output_type": "execute_result"
    }
   ],
   "source": [
    "tp.tee(\n",
    "    backplot,\n",
    "    data=df,\n",
    "    y=\"Policy\",\n",
    "    x=\"Nanoseconds per Op\",\n",
    "    orient=\"h\",\n",
    "    aspect=2.5,\n",
    "    log_scale=(True, False),\n",
    ")\n"
   ]
  }
 ],
 "metadata": {
  "kernelspec": {
   "display_name": "Python 3",
   "language": "python",
   "name": "python3"
  },
  "language_info": {
   "codemirror_mode": {
    "name": "ipython",
    "version": 3
   },
   "file_extension": ".py",
   "mimetype": "text/x-python",
   "name": "python",
   "nbconvert_exporter": "python",
   "pygments_lexer": "ipython3",
   "version": "3.10.12"
  }
 },
 "nbformat": 4,
 "nbformat_minor": 2
}
