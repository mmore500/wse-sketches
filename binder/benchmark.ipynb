{
 "cells": [
  {
   "cell_type": "code",
   "execution_count": 1,
   "metadata": {
    "execution": {
     "iopub.execute_input": "2024-09-09T12:39:06.486375Z",
     "iopub.status.busy": "2024-09-09T12:39:06.486207Z",
     "iopub.status.idle": "2024-09-09T12:39:11.876713Z",
     "shell.execute_reply": "2024-09-09T12:39:11.876084Z"
    }
   },
   "outputs": [],
   "source": [
    "import logging\n",
    "import random\n",
    "\n",
    "from backstrip import backplot\n",
    "from nbmetalog import nbmetalog as nbm\n",
    "import pandas as pd\n",
    "from teeplot import teeplot as tp\n",
    "\n",
    "random.seed(1)\n",
    "\n",
    "logging.basicConfig(\n",
    "    format=\"[%(funcName)s:%(lineno)d] %(message)s\",\n",
    ")\n",
    "logger = logging.getLogger()\n"
   ]
  },
  {
   "cell_type": "code",
   "execution_count": 2,
   "metadata": {
    "execution": {
     "iopub.execute_input": "2024-09-09T12:39:11.880192Z",
     "iopub.status.busy": "2024-09-09T12:39:11.879731Z",
     "iopub.status.idle": "2024-09-09T12:39:12.290056Z",
     "shell.execute_reply": "2024-09-09T12:39:12.289491Z"
    }
   },
   "outputs": [
    {
     "name": "stdout",
     "output_type": "stream",
     "text": [
      "context: ci\n",
      "hostname: fv-az881-437\n",
      "interpreter: 3.11.9 (main, Jul 15 2024, 21:50:21) [GCC 11.4.0]\n",
      "nbcellexec: null\n",
      "nbname: benchmark\n",
      "nbpath: /home/runner/work/wse-sketches/wse-sketches/binder/benchmark.ipynb\n",
      "revision: null\n",
      "session: 500f5c32-900f-48bb-96ce-3135699f2022\n",
      "timestamp: 2024-09-09T12:39:12Z00:00\n",
      "\n",
      "\n"
     ]
    },
    {
     "name": "stdout",
     "output_type": "stream",
     "text": [
      "IPython==8.20.0\n",
      "keyname==0.6.0\n",
      "yaml==6.0.1\n",
      "logging==0.5.1.2\n",
      "nbmetalog==0.2.6\n",
      "pandas==1.5.3\n",
      "teeplot==1.0.1\n",
      "re==2.2.1\n",
      "comm==0.2.1\n",
      "psutil==5.9.8\n",
      "zmq==25.1.2\n",
      "json==2.0.9\n",
      "ipykernel==6.29.0\n"
     ]
    }
   ],
   "source": [
    "nbm.print_metadata()\n"
   ]
  },
  {
   "cell_type": "markdown",
   "metadata": {},
   "source": [
    "## Get Data\n"
   ]
  },
  {
   "cell_type": "code",
   "execution_count": 3,
   "metadata": {
    "execution": {
     "iopub.execute_input": "2024-09-09T12:39:12.300397Z",
     "iopub.status.busy": "2024-09-09T12:39:12.300075Z",
     "iopub.status.idle": "2024-09-09T12:39:15.646774Z",
     "shell.execute_reply": "2024-09-09T12:39:15.646166Z"
    }
   },
   "outputs": [],
   "source": [
    "df = pd.read_csv(\"https://osf.io/egjxr/download\")\n"
   ]
  },
  {
   "cell_type": "code",
   "execution_count": 4,
   "metadata": {
    "execution": {
     "iopub.execute_input": "2024-09-09T12:39:15.649590Z",
     "iopub.status.busy": "2024-09-09T12:39:15.649046Z",
     "iopub.status.idle": "2024-09-09T12:39:15.652814Z",
     "shell.execute_reply": "2024-09-09T12:39:15.652258Z"
    }
   },
   "outputs": [],
   "source": [
    "df[\"Nanoseconds per Op\"] = df[\"Nanoseconds\"] / df[\"Num Operations\"]\n"
   ]
  },
  {
   "cell_type": "markdown",
   "metadata": {},
   "source": [
    "## Statistics\n"
   ]
  },
  {
   "cell_type": "markdown",
   "metadata": {},
   "source": [
    "nanoseconds per op mean & SE\n"
   ]
  },
  {
   "cell_type": "code",
   "execution_count": 5,
   "metadata": {
    "execution": {
     "iopub.execute_input": "2024-09-09T12:39:15.654907Z",
     "iopub.status.busy": "2024-09-09T12:39:15.654589Z",
     "iopub.status.idle": "2024-09-09T12:39:15.684329Z",
     "shell.execute_reply": "2024-09-09T12:39:15.683754Z"
    }
   },
   "outputs": [
    {
     "name": "stderr",
     "output_type": "stream",
     "text": [
      "/tmp/ipykernel_5356/1182473837.py:1: FutureWarning: ['Implementation', 'Language'] did not aggregate successfully. If any error is raised this will raise in a future version of pandas. Drop these columns/ops to avoid this warning.\n",
      "  dfg = df.groupby([\"Policy\"]).agg([\"mean\", \"sem\"])\n"
     ]
    },
    {
     "data": {
      "text/html": [
       "<div>\n",
       "<style scoped>\n",
       "    .dataframe tbody tr th:only-of-type {\n",
       "        vertical-align: middle;\n",
       "    }\n",
       "\n",
       "    .dataframe tbody tr th {\n",
       "        vertical-align: top;\n",
       "    }\n",
       "\n",
       "    .dataframe thead tr th {\n",
       "        text-align: left;\n",
       "    }\n",
       "\n",
       "    .dataframe thead tr:last-of-type th {\n",
       "        text-align: right;\n",
       "    }\n",
       "</style>\n",
       "<table border=\"1\" class=\"dataframe\">\n",
       "  <thead>\n",
       "    <tr>\n",
       "      <th></th>\n",
       "      <th colspan=\"2\" halign=\"left\">Nanoseconds</th>\n",
       "      <th colspan=\"2\" halign=\"left\">Replicate</th>\n",
       "      <th colspan=\"2\" halign=\"left\">Num Operations</th>\n",
       "      <th colspan=\"2\" halign=\"left\">Surface Size</th>\n",
       "      <th colspan=\"2\" halign=\"left\">Nanoseconds per Op</th>\n",
       "    </tr>\n",
       "    <tr>\n",
       "      <th></th>\n",
       "      <th>mean</th>\n",
       "      <th>sem</th>\n",
       "      <th>mean</th>\n",
       "      <th>sem</th>\n",
       "      <th>mean</th>\n",
       "      <th>sem</th>\n",
       "      <th>mean</th>\n",
       "      <th>sem</th>\n",
       "      <th>mean</th>\n",
       "      <th>sem</th>\n",
       "    </tr>\n",
       "    <tr>\n",
       "      <th>Policy</th>\n",
       "      <th></th>\n",
       "      <th></th>\n",
       "      <th></th>\n",
       "      <th></th>\n",
       "      <th></th>\n",
       "      <th></th>\n",
       "      <th></th>\n",
       "      <th></th>\n",
       "      <th></th>\n",
       "      <th></th>\n",
       "    </tr>\n",
       "  </thead>\n",
       "  <tbody>\n",
       "    <tr>\n",
       "      <th>steady</th>\n",
       "      <td>5.112893e+08</td>\n",
       "      <td>3.864875e+06</td>\n",
       "      <td>9.5</td>\n",
       "      <td>1.322876</td>\n",
       "      <td>1000000.0</td>\n",
       "      <td>0.0</td>\n",
       "      <td>64.0</td>\n",
       "      <td>0.0</td>\n",
       "      <td>511.289315</td>\n",
       "      <td>3.864875</td>\n",
       "    </tr>\n",
       "    <tr>\n",
       "      <th>tilted</th>\n",
       "      <td>2.304509e+08</td>\n",
       "      <td>1.564333e+05</td>\n",
       "      <td>9.5</td>\n",
       "      <td>1.322876</td>\n",
       "      <td>1000000.0</td>\n",
       "      <td>0.0</td>\n",
       "      <td>64.0</td>\n",
       "      <td>0.0</td>\n",
       "      <td>230.450926</td>\n",
       "      <td>0.156433</td>\n",
       "    </tr>\n",
       "    <tr>\n",
       "      <th>tilted-sticky</th>\n",
       "      <td>2.862530e+08</td>\n",
       "      <td>3.701476e+05</td>\n",
       "      <td>9.5</td>\n",
       "      <td>1.322876</td>\n",
       "      <td>1000000.0</td>\n",
       "      <td>0.0</td>\n",
       "      <td>64.0</td>\n",
       "      <td>0.0</td>\n",
       "      <td>286.252996</td>\n",
       "      <td>0.370148</td>\n",
       "    </tr>\n",
       "    <tr>\n",
       "      <th>trivial</th>\n",
       "      <td>4.664768e+06</td>\n",
       "      <td>1.896479e+04</td>\n",
       "      <td>9.5</td>\n",
       "      <td>1.322876</td>\n",
       "      <td>1000000.0</td>\n",
       "      <td>0.0</td>\n",
       "      <td>64.0</td>\n",
       "      <td>0.0</td>\n",
       "      <td>4.664768</td>\n",
       "      <td>0.018965</td>\n",
       "    </tr>\n",
       "  </tbody>\n",
       "</table>\n",
       "</div>"
      ],
      "text/plain": [
       "                Nanoseconds               Replicate           Num Operations  \\\n",
       "                       mean           sem      mean       sem           mean   \n",
       "Policy                                                                         \n",
       "steady         5.112893e+08  3.864875e+06       9.5  1.322876      1000000.0   \n",
       "tilted         2.304509e+08  1.564333e+05       9.5  1.322876      1000000.0   \n",
       "tilted-sticky  2.862530e+08  3.701476e+05       9.5  1.322876      1000000.0   \n",
       "trivial        4.664768e+06  1.896479e+04       9.5  1.322876      1000000.0   \n",
       "\n",
       "                   Surface Size      Nanoseconds per Op            \n",
       "               sem         mean  sem               mean       sem  \n",
       "Policy                                                             \n",
       "steady         0.0         64.0  0.0         511.289315  3.864875  \n",
       "tilted         0.0         64.0  0.0         230.450926  0.156433  \n",
       "tilted-sticky  0.0         64.0  0.0         286.252996  0.370148  \n",
       "trivial        0.0         64.0  0.0           4.664768  0.018965  "
      ]
     },
     "execution_count": 5,
     "metadata": {},
     "output_type": "execute_result"
    }
   ],
   "source": [
    "dfg = df.groupby([\"Policy\"]).agg([\"mean\", \"sem\"])\n",
    "dfg\n"
   ]
  },
  {
   "cell_type": "markdown",
   "metadata": {},
   "source": [
    "op to trivial ratio\n"
   ]
  },
  {
   "cell_type": "code",
   "execution_count": 6,
   "metadata": {
    "execution": {
     "iopub.execute_input": "2024-09-09T12:39:15.686369Z",
     "iopub.status.busy": "2024-09-09T12:39:15.686202Z",
     "iopub.status.idle": "2024-09-09T12:39:15.694568Z",
     "shell.execute_reply": "2024-09-09T12:39:15.694105Z"
    }
   },
   "outputs": [
    {
     "data": {
      "text/html": [
       "<div>\n",
       "<style scoped>\n",
       "    .dataframe tbody tr th:only-of-type {\n",
       "        vertical-align: middle;\n",
       "    }\n",
       "\n",
       "    .dataframe tbody tr th {\n",
       "        vertical-align: top;\n",
       "    }\n",
       "\n",
       "    .dataframe thead th {\n",
       "        text-align: right;\n",
       "    }\n",
       "</style>\n",
       "<table border=\"1\" class=\"dataframe\">\n",
       "  <thead>\n",
       "    <tr style=\"text-align: right;\">\n",
       "      <th></th>\n",
       "      <th>mean</th>\n",
       "      <th>sem</th>\n",
       "    </tr>\n",
       "    <tr>\n",
       "      <th>Policy</th>\n",
       "      <th></th>\n",
       "      <th></th>\n",
       "    </tr>\n",
       "  </thead>\n",
       "  <tbody>\n",
       "    <tr>\n",
       "      <th>steady</th>\n",
       "      <td>109.606591</td>\n",
       "      <td>0.828525</td>\n",
       "    </tr>\n",
       "    <tr>\n",
       "      <th>tilted</th>\n",
       "      <td>49.402442</td>\n",
       "      <td>0.033535</td>\n",
       "    </tr>\n",
       "    <tr>\n",
       "      <th>tilted-sticky</th>\n",
       "      <td>61.364895</td>\n",
       "      <td>0.079350</td>\n",
       "    </tr>\n",
       "    <tr>\n",
       "      <th>trivial</th>\n",
       "      <td>1.000000</td>\n",
       "      <td>0.004066</td>\n",
       "    </tr>\n",
       "  </tbody>\n",
       "</table>\n",
       "</div>"
      ],
      "text/plain": [
       "                     mean       sem\n",
       "Policy                             \n",
       "steady         109.606591  0.828525\n",
       "tilted          49.402442  0.033535\n",
       "tilted-sticky   61.364895  0.079350\n",
       "trivial          1.000000  0.004066"
      ]
     },
     "execution_count": 6,
     "metadata": {},
     "output_type": "execute_result"
    }
   ],
   "source": [
    "df[\"Trivial Ratio\"] = (\n",
    "    df[\"Nanoseconds\"]\n",
    "    / df[(df[\"Policy\"] == \"trivial\")][\"Nanoseconds\"].mean()\n",
    ")\n",
    "df.groupby([\"Policy\"])[\"Trivial Ratio\"].agg([\"mean\", \"sem\"])\n"
   ]
  },
  {
   "cell_type": "markdown",
   "metadata": {},
   "source": [
    "## Visualize Results\n"
   ]
  },
  {
   "cell_type": "code",
   "execution_count": 7,
   "metadata": {
    "execution": {
     "iopub.execute_input": "2024-09-09T12:39:15.696782Z",
     "iopub.status.busy": "2024-09-09T12:39:15.696454Z",
     "iopub.status.idle": "2024-09-09T12:39:17.048271Z",
     "shell.execute_reply": "2024-09-09T12:39:17.047658Z"
    }
   },
   "outputs": [
    {
     "name": "stdout",
     "output_type": "stream",
     "text": [
      "teeplots/orient=h+viz=backplot+x=nanoseconds-per-op+y=policy+ext=.pdf\n"
     ]
    },
    {
     "name": "stdout",
     "output_type": "stream",
     "text": [
      "teeplots/orient=h+viz=backplot+x=nanoseconds-per-op+y=policy+ext=.png\n"
     ]
    },
    {
     "data": {
      "image/png": "[encoded data removed]",
      "text/plain": [
       "<Figure size 1261.11x500 with 1 Axes>"
      ]
     },
     "metadata": {},
     "output_type": "display_data"
    },
    {
     "data": {
      "text/plain": [
       "<seaborn.axisgrid.FacetGrid at 0x7f6a35451850>"
      ]
     },
     "execution_count": 7,
     "metadata": {},
     "output_type": "execute_result"
    }
   ],
   "source": [
    "tp.tee(\n",
    "    backplot,\n",
    "    data=df,\n",
    "    y=\"Policy\",\n",
    "    x=\"Nanoseconds per Op\",\n",
    "    orient=\"h\",\n",
    "    aspect=2.5,\n",
    "    log_scale=(True, False),\n",
    ")\n"
   ]
  }
 ],
 "metadata": {
  "kernelspec": {
   "display_name": "Python 3",
   "language": "python",
   "name": "python3"
  },
  "language_info": {
   "codemirror_mode": {
    "name": "ipython",
    "version": 3
   },
   "file_extension": ".py",
   "mimetype": "text/x-python",
   "name": "python",
   "nbconvert_exporter": "python",
   "pygments_lexer": "ipython3",
   "version": "3.11.9"
  }
 },
 "nbformat": 4,
 "nbformat_minor": 2
}
