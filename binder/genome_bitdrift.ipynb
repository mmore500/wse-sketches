{
 "cells": [
  {
   "cell_type": "markdown",
   "metadata": {},
   "source": [
    "## Set Up Dependencies and Data\n"
   ]
  },
  {
   "cell_type": "code",
   "execution_count": 1,
   "metadata": {
    "execution": {
     "iopub.execute_input": "2024-03-04T19:14:27.573382Z",
     "iopub.status.busy": "2024-03-04T19:14:27.572931Z",
     "iopub.status.idle": "2024-03-04T19:14:27.865191Z",
     "shell.execute_reply": "2024-03-04T19:14:27.864491Z"
    }
   },
   "outputs": [],
   "source": [
    "import random\n",
    "\n",
    "import more_itertools as mit\n",
    "\n",
    "import joblib\n",
    "import pandas as pd\n",
    "from pylib._make_hamming_distance_matrix import make_hamming_distance_matrix\n"
   ]
  },
  {
   "cell_type": "code",
   "execution_count": 2,
   "metadata": {
    "execution": {
     "iopub.execute_input": "2024-03-04T19:14:27.868278Z",
     "iopub.status.busy": "2024-03-04T19:14:27.867834Z",
     "iopub.status.idle": "2024-03-04T19:14:30.765577Z",
     "shell.execute_reply": "2024-03-04T19:14:30.764901Z"
    }
   },
   "outputs": [],
   "source": [
    "df = pd.read_csv(\"https://osf.io/mgky2/download\")\n"
   ]
  },
  {
   "cell_type": "markdown",
   "metadata": {},
   "source": [
    "## Reproducibility\n"
   ]
  },
  {
   "cell_type": "code",
   "execution_count": 3,
   "metadata": {
    "execution": {
     "iopub.execute_input": "2024-03-04T19:14:30.768534Z",
     "iopub.status.busy": "2024-03-04T19:14:30.768111Z",
     "iopub.status.idle": "2024-03-04T19:14:30.792766Z",
     "shell.execute_reply": "2024-03-04T19:14:30.792101Z"
    }
   },
   "outputs": [
    {
     "name": "stdout",
     "output_type": "stream",
     "text": [
      "Last updated: 2024-03-04T19:14:30.776315+00:00\n",
      "\n",
      "Python implementation: CPython\n",
      "Python version       : 3.10.12\n",
      "IPython version      : 8.20.0\n",
      "\n",
      "Compiler    : GCC 11.4.0\n",
      "OS          : Linux\n",
      "Release     : 6.5.0-1015-azure\n",
      "Machine     : x86_64\n",
      "Processor   : x86_64\n",
      "CPU cores   : 4\n",
      "Architecture: 64bit\n",
      "\n",
      "Git hash: 5a90a4e5a1b4ebf65bf5eb57f1d47b483dc1dc3b\n",
      "\n",
      "Git branch: master\n",
      "\n",
      "more_itertools: 10.2.0\n",
      "joblib        : 1.3.2\n",
      "pandas        : 1.5.3\n",
      "\n",
      "Watermark: 2.4.3\n",
      "\n"
     ]
    }
   ],
   "source": [
    "%load_ext watermark\n",
    "%watermark -iwbmuvg -iv\n"
   ]
  },
  {
   "cell_type": "code",
   "execution_count": 4,
   "metadata": {
    "execution": {
     "iopub.execute_input": "2024-03-04T19:14:30.822388Z",
     "iopub.status.busy": "2024-03-04T19:14:30.821795Z",
     "iopub.status.idle": "2024-03-04T19:14:30.830620Z",
     "shell.execute_reply": "2024-03-04T19:14:30.829980Z"
    }
   },
   "outputs": [
    {
     "data": {
      "text/html": [
       "<div>\n",
       "<style scoped>\n",
       "    .dataframe tbody tr th:only-of-type {\n",
       "        vertical-align: middle;\n",
       "    }\n",
       "\n",
       "    .dataframe tbody tr th {\n",
       "        vertical-align: top;\n",
       "    }\n",
       "\n",
       "    .dataframe thead th {\n",
       "        text-align: right;\n",
       "    }\n",
       "</style>\n",
       "<table border=\"1\" class=\"dataframe\">\n",
       "  <thead>\n",
       "    <tr style=\"text-align: right;\">\n",
       "      <th></th>\n",
       "      <th>bitfield</th>\n",
       "    </tr>\n",
       "  </thead>\n",
       "  <tbody>\n",
       "    <tr>\n",
       "      <th>0</th>\n",
       "      <td>4124697448505068214874120741</td>\n",
       "    </tr>\n",
       "    <tr>\n",
       "      <th>1</th>\n",
       "      <td>51785361206533278547496676558</td>\n",
       "    </tr>\n",
       "    <tr>\n",
       "      <th>2</th>\n",
       "      <td>78708697932479583268160285174</td>\n",
       "    </tr>\n",
       "    <tr>\n",
       "      <th>3</th>\n",
       "      <td>43738926030594400371889261476</td>\n",
       "    </tr>\n",
       "    <tr>\n",
       "      <th>4</th>\n",
       "      <td>28264638053419403218638195684</td>\n",
       "    </tr>\n",
       "  </tbody>\n",
       "</table>\n",
       "</div>"
      ],
      "text/plain": [
       "                        bitfield\n",
       "0   4124697448505068214874120741\n",
       "1  51785361206533278547496676558\n",
       "2  78708697932479583268160285174\n",
       "3  43738926030594400371889261476\n",
       "4  28264638053419403218638195684"
      ]
     },
     "execution_count": 4,
     "metadata": {},
     "output_type": "execute_result"
    }
   ],
   "source": [
    "df.head()\n"
   ]
  },
  {
   "cell_type": "code",
   "execution_count": 5,
   "metadata": {
    "execution": {
     "iopub.execute_input": "2024-03-04T19:14:30.833131Z",
     "iopub.status.busy": "2024-03-04T19:14:30.832769Z",
     "iopub.status.idle": "2024-03-04T19:14:30.839895Z",
     "shell.execute_reply": "2024-03-04T19:14:30.839301Z"
    }
   },
   "outputs": [
    {
     "name": "stdout",
     "output_type": "stream",
     "text": [
      "<class 'pandas.core.frame.DataFrame'>\n",
      "RangeIndex: 9 entries, 0 to 8\n",
      "Data columns (total 1 columns):\n",
      " #   Column    Non-Null Count  Dtype \n",
      "---  ------    --------------  ----- \n",
      " 0   bitfield  9 non-null      object\n",
      "dtypes: object(1)\n",
      "memory usage: 200.0+ bytes\n"
     ]
    }
   ],
   "source": [
    "df.info()\n"
   ]
  },
  {
   "cell_type": "code",
   "execution_count": 6,
   "metadata": {
    "execution": {
     "iopub.execute_input": "2024-03-04T19:14:30.842433Z",
     "iopub.status.busy": "2024-03-04T19:14:30.842046Z",
     "iopub.status.idle": "2024-03-04T19:14:30.849223Z",
     "shell.execute_reply": "2024-03-04T19:14:30.848630Z"
    }
   },
   "outputs": [
    {
     "data": {
      "text/html": [
       "<div>\n",
       "<style scoped>\n",
       "    .dataframe tbody tr th:only-of-type {\n",
       "        vertical-align: middle;\n",
       "    }\n",
       "\n",
       "    .dataframe tbody tr th {\n",
       "        vertical-align: top;\n",
       "    }\n",
       "\n",
       "    .dataframe thead th {\n",
       "        text-align: right;\n",
       "    }\n",
       "</style>\n",
       "<table border=\"1\" class=\"dataframe\">\n",
       "  <thead>\n",
       "    <tr style=\"text-align: right;\">\n",
       "      <th></th>\n",
       "      <th>bitfield</th>\n",
       "    </tr>\n",
       "  </thead>\n",
       "  <tbody>\n",
       "    <tr>\n",
       "      <th>count</th>\n",
       "      <td>9</td>\n",
       "    </tr>\n",
       "    <tr>\n",
       "      <th>unique</th>\n",
       "      <td>9</td>\n",
       "    </tr>\n",
       "    <tr>\n",
       "      <th>top</th>\n",
       "      <td>4124697448505068214874120741</td>\n",
       "    </tr>\n",
       "    <tr>\n",
       "      <th>freq</th>\n",
       "      <td>1</td>\n",
       "    </tr>\n",
       "  </tbody>\n",
       "</table>\n",
       "</div>"
      ],
      "text/plain": [
       "                            bitfield\n",
       "count                              9\n",
       "unique                             9\n",
       "top     4124697448505068214874120741\n",
       "freq                               1"
      ]
     },
     "execution_count": 6,
     "metadata": {},
     "output_type": "execute_result"
    }
   ],
   "source": [
    "df.describe()\n"
   ]
  },
  {
   "cell_type": "code",
   "execution_count": 7,
   "metadata": {
    "execution": {
     "iopub.execute_input": "2024-03-04T19:14:30.851878Z",
     "iopub.status.busy": "2024-03-04T19:14:30.851448Z",
     "iopub.status.idle": "2024-03-04T19:14:30.856316Z",
     "shell.execute_reply": "2024-03-04T19:14:30.855697Z"
    }
   },
   "outputs": [
    {
     "data": {
      "text/plain": [
       "'898222e7af51ac0b533ce339b8929eff'"
      ]
     },
     "execution_count": 7,
     "metadata": {},
     "output_type": "execute_result"
    }
   ],
   "source": [
    "joblib.hash(df)\n"
   ]
  },
  {
   "cell_type": "markdown",
   "metadata": {},
   "source": [
    "## Data Prep\n"
   ]
  },
  {
   "cell_type": "code",
   "execution_count": 8,
   "metadata": {
    "execution": {
     "iopub.execute_input": "2024-03-04T19:14:30.858881Z",
     "iopub.status.busy": "2024-03-04T19:14:30.858522Z",
     "iopub.status.idle": "2024-03-04T19:14:30.868289Z",
     "shell.execute_reply": "2024-03-04T19:14:30.867698Z"
    }
   },
   "outputs": [
    {
     "data": {
      "text/html": [
       "<div>\n",
       "<style scoped>\n",
       "    .dataframe tbody tr th:only-of-type {\n",
       "        vertical-align: middle;\n",
       "    }\n",
       "\n",
       "    .dataframe tbody tr th {\n",
       "        vertical-align: top;\n",
       "    }\n",
       "\n",
       "    .dataframe thead th {\n",
       "        text-align: right;\n",
       "    }\n",
       "</style>\n",
       "<table border=\"1\" class=\"dataframe\">\n",
       "  <thead>\n",
       "    <tr style=\"text-align: right;\">\n",
       "      <th></th>\n",
       "      <th>bitfield</th>\n",
       "      <th>bitfield value bitlengths</th>\n",
       "      <th>bitfield wordlengths</th>\n",
       "      <th>bitfield bitlengths</th>\n",
       "      <th>driftbit bitlengths</th>\n",
       "    </tr>\n",
       "  </thead>\n",
       "  <tbody>\n",
       "    <tr>\n",
       "      <th>0</th>\n",
       "      <td>4124697448505068214874120741</td>\n",
       "      <td>92</td>\n",
       "      <td>3</td>\n",
       "      <td>96</td>\n",
       "      <td>80</td>\n",
       "    </tr>\n",
       "    <tr>\n",
       "      <th>1</th>\n",
       "      <td>51785361206533278547496676558</td>\n",
       "      <td>96</td>\n",
       "      <td>3</td>\n",
       "      <td>96</td>\n",
       "      <td>80</td>\n",
       "    </tr>\n",
       "    <tr>\n",
       "      <th>2</th>\n",
       "      <td>78708697932479583268160285174</td>\n",
       "      <td>96</td>\n",
       "      <td>3</td>\n",
       "      <td>96</td>\n",
       "      <td>80</td>\n",
       "    </tr>\n",
       "    <tr>\n",
       "      <th>3</th>\n",
       "      <td>43738926030594400371889261476</td>\n",
       "      <td>96</td>\n",
       "      <td>3</td>\n",
       "      <td>96</td>\n",
       "      <td>80</td>\n",
       "    </tr>\n",
       "    <tr>\n",
       "      <th>4</th>\n",
       "      <td>28264638053419403218638195684</td>\n",
       "      <td>95</td>\n",
       "      <td>3</td>\n",
       "      <td>96</td>\n",
       "      <td>80</td>\n",
       "    </tr>\n",
       "    <tr>\n",
       "      <th>5</th>\n",
       "      <td>18979682958906860473440177007</td>\n",
       "      <td>94</td>\n",
       "      <td>3</td>\n",
       "      <td>96</td>\n",
       "      <td>80</td>\n",
       "    </tr>\n",
       "    <tr>\n",
       "      <th>6</th>\n",
       "      <td>54260633048023384810208253716</td>\n",
       "      <td>96</td>\n",
       "      <td>3</td>\n",
       "      <td>96</td>\n",
       "      <td>80</td>\n",
       "    </tr>\n",
       "    <tr>\n",
       "      <th>7</th>\n",
       "      <td>30740298850804297830921279380</td>\n",
       "      <td>95</td>\n",
       "      <td>3</td>\n",
       "      <td>96</td>\n",
       "      <td>80</td>\n",
       "    </tr>\n",
       "    <tr>\n",
       "      <th>8</th>\n",
       "      <td>11551323908690312484395030486</td>\n",
       "      <td>94</td>\n",
       "      <td>3</td>\n",
       "      <td>96</td>\n",
       "      <td>80</td>\n",
       "    </tr>\n",
       "  </tbody>\n",
       "</table>\n",
       "</div>"
      ],
      "text/plain": [
       "                        bitfield  bitfield value bitlengths  \\\n",
       "0   4124697448505068214874120741                         92   \n",
       "1  51785361206533278547496676558                         96   \n",
       "2  78708697932479583268160285174                         96   \n",
       "3  43738926030594400371889261476                         96   \n",
       "4  28264638053419403218638195684                         95   \n",
       "5  18979682958906860473440177007                         94   \n",
       "6  54260633048023384810208253716                         96   \n",
       "7  30740298850804297830921279380                         95   \n",
       "8  11551323908690312484395030486                         94   \n",
       "\n",
       "   bitfield wordlengths  bitfield bitlengths  driftbit bitlengths  \n",
       "0                     3                   96                   80  \n",
       "1                     3                   96                   80  \n",
       "2                     3                   96                   80  \n",
       "3                     3                   96                   80  \n",
       "4                     3                   96                   80  \n",
       "5                     3                   96                   80  \n",
       "6                     3                   96                   80  \n",
       "7                     3                   96                   80  \n",
       "8                     3                   96                   80  "
      ]
     },
     "execution_count": 8,
     "metadata": {},
     "output_type": "execute_result"
    }
   ],
   "source": [
    "df[\"bitfield\"] = df[\"bitfield\"].apply(int)\n",
    "df[\"bitfield value bitlengths\"] = df[\"bitfield\"].apply(int.bit_length)\n",
    "df[\"bitfield wordlengths\"] = (df[\"bitfield value bitlengths\"] + 31) // 32\n",
    "assert mit.one(df[\"bitfield wordlengths\"].unique()) == 3\n",
    "df[\"bitfield bitlengths\"] = df[\"bitfield wordlengths\"] * 32\n",
    "df[\"driftbit bitlengths\"] = df[\"bitfield bitlengths\"] - 16\n",
    "df\n"
   ]
  },
  {
   "cell_type": "code",
   "execution_count": 9,
   "metadata": {
    "execution": {
     "iopub.execute_input": "2024-03-04T19:14:30.870593Z",
     "iopub.status.busy": "2024-03-04T19:14:30.870207Z",
     "iopub.status.idle": "2024-03-04T19:14:30.878302Z",
     "shell.execute_reply": "2024-03-04T19:14:30.877680Z"
    }
   },
   "outputs": [
    {
     "data": {
      "text/html": [
       "<div>\n",
       "<style scoped>\n",
       "    .dataframe tbody tr th:only-of-type {\n",
       "        vertical-align: middle;\n",
       "    }\n",
       "\n",
       "    .dataframe tbody tr th {\n",
       "        vertical-align: top;\n",
       "    }\n",
       "\n",
       "    .dataframe thead th {\n",
       "        text-align: right;\n",
       "    }\n",
       "</style>\n",
       "<table border=\"1\" class=\"dataframe\">\n",
       "  <thead>\n",
       "    <tr style=\"text-align: right;\">\n",
       "      <th></th>\n",
       "      <th>bitfield</th>\n",
       "      <th>bitfield value bitlengths</th>\n",
       "      <th>bitfield wordlengths</th>\n",
       "      <th>bitfield bitlengths</th>\n",
       "      <th>driftbit bitlengths</th>\n",
       "      <th>bitfield driftbits</th>\n",
       "    </tr>\n",
       "  </thead>\n",
       "  <tbody>\n",
       "    <tr>\n",
       "      <th>0</th>\n",
       "      <td>4124697448505068214874120741</td>\n",
       "      <td>92</td>\n",
       "      <td>3</td>\n",
       "      <td>96</td>\n",
       "      <td>80</td>\n",
       "      <td>1051477799568099951354405</td>\n",
       "    </tr>\n",
       "    <tr>\n",
       "      <th>1</th>\n",
       "      <td>51785361206533278547496676558</td>\n",
       "      <td>96</td>\n",
       "      <td>3</td>\n",
       "      <td>96</td>\n",
       "      <td>80</td>\n",
       "      <td>1023723340637848957627598</td>\n",
       "    </tr>\n",
       "    <tr>\n",
       "      <th>2</th>\n",
       "      <td>78708697932479583268160285174</td>\n",
       "      <td>96</td>\n",
       "      <td>3</td>\n",
       "      <td>96</td>\n",
       "      <td>80</td>\n",
       "      <td>373520649536219739990518</td>\n",
       "    </tr>\n",
       "    <tr>\n",
       "      <th>3</th>\n",
       "      <td>43738926030594400371889261476</td>\n",
       "      <td>96</td>\n",
       "      <td>3</td>\n",
       "      <td>96</td>\n",
       "      <td>80</td>\n",
       "      <td>1198802756731460194519972</td>\n",
       "    </tr>\n",
       "    <tr>\n",
       "      <th>4</th>\n",
       "      <td>28264638053419403218638195684</td>\n",
       "      <td>95</td>\n",
       "      <td>3</td>\n",
       "      <td>96</td>\n",
       "      <td>80</td>\n",
       "      <td>1161316648987743182506980</td>\n",
       "    </tr>\n",
       "    <tr>\n",
       "      <th>5</th>\n",
       "      <td>18979682958906860473440177007</td>\n",
       "      <td>94</td>\n",
       "      <td>3</td>\n",
       "      <td>96</td>\n",
       "      <td>80</td>\n",
       "      <td>756516776797059727919983</td>\n",
       "    </tr>\n",
       "    <tr>\n",
       "      <th>6</th>\n",
       "      <td>54260633048023384810208253716</td>\n",
       "      <td>96</td>\n",
       "      <td>3</td>\n",
       "      <td>96</td>\n",
       "      <td>80</td>\n",
       "      <td>415486259983561870956308</td>\n",
       "    </tr>\n",
       "    <tr>\n",
       "      <th>7</th>\n",
       "      <td>30740298850804297830921279380</td>\n",
       "      <td>95</td>\n",
       "      <td>3</td>\n",
       "      <td>96</td>\n",
       "      <td>80</td>\n",
       "      <td>942035463121805667342228</td>\n",
       "    </tr>\n",
       "    <tr>\n",
       "      <th>8</th>\n",
       "      <td>11551323908690312484395030486</td>\n",
       "      <td>94</td>\n",
       "      <td>3</td>\n",
       "      <td>96</td>\n",
       "      <td>80</td>\n",
       "      <td>37702272530720077518806</td>\n",
       "    </tr>\n",
       "  </tbody>\n",
       "</table>\n",
       "</div>"
      ],
      "text/plain": [
       "                        bitfield  bitfield value bitlengths  \\\n",
       "0   4124697448505068214874120741                         92   \n",
       "1  51785361206533278547496676558                         96   \n",
       "2  78708697932479583268160285174                         96   \n",
       "3  43738926030594400371889261476                         96   \n",
       "4  28264638053419403218638195684                         95   \n",
       "5  18979682958906860473440177007                         94   \n",
       "6  54260633048023384810208253716                         96   \n",
       "7  30740298850804297830921279380                         95   \n",
       "8  11551323908690312484395030486                         94   \n",
       "\n",
       "   bitfield wordlengths  bitfield bitlengths  driftbit bitlengths  \\\n",
       "0                     3                   96                   80   \n",
       "1                     3                   96                   80   \n",
       "2                     3                   96                   80   \n",
       "3                     3                   96                   80   \n",
       "4                     3                   96                   80   \n",
       "5                     3                   96                   80   \n",
       "6                     3                   96                   80   \n",
       "7                     3                   96                   80   \n",
       "8                     3                   96                   80   \n",
       "\n",
       "          bitfield driftbits  \n",
       "0  1051477799568099951354405  \n",
       "1  1023723340637848957627598  \n",
       "2   373520649536219739990518  \n",
       "3  1198802756731460194519972  \n",
       "4  1161316648987743182506980  \n",
       "5   756516776797059727919983  \n",
       "6   415486259983561870956308  \n",
       "7   942035463121805667342228  \n",
       "8    37702272530720077518806  "
      ]
     },
     "execution_count": 9,
     "metadata": {},
     "output_type": "execute_result"
    }
   ],
   "source": [
    "exclude_leading = 16\n",
    "bitfield_bitlength = int(mit.one(df[\"bitfield bitlengths\"].unique()))\n",
    "driftbit_mask = (  # mask off leading 16 bits\n",
    "    1 << (bitfield_bitlength - exclude_leading)\n",
    ") - 1\n",
    "assert driftbit_mask.bit_count() == bitfield_bitlength - exclude_leading\n",
    "df[\"bitfield driftbits\"] = df[\"bitfield\"].values & driftbit_mask\n",
    "\n",
    "df\n"
   ]
  },
  {
   "cell_type": "code",
   "execution_count": 10,
   "metadata": {
    "execution": {
     "iopub.execute_input": "2024-03-04T19:14:30.880685Z",
     "iopub.status.busy": "2024-03-04T19:14:30.880337Z",
     "iopub.status.idle": "2024-03-04T19:14:30.889192Z",
     "shell.execute_reply": "2024-03-04T19:14:30.888685Z"
    }
   },
   "outputs": [
    {
     "data": {
      "text/html": [
       "<div>\n",
       "<style scoped>\n",
       "    .dataframe tbody tr th:only-of-type {\n",
       "        vertical-align: middle;\n",
       "    }\n",
       "\n",
       "    .dataframe tbody tr th {\n",
       "        vertical-align: top;\n",
       "    }\n",
       "\n",
       "    .dataframe thead th {\n",
       "        text-align: right;\n",
       "    }\n",
       "</style>\n",
       "<table border=\"1\" class=\"dataframe\">\n",
       "  <thead>\n",
       "    <tr style=\"text-align: right;\">\n",
       "      <th></th>\n",
       "      <th>bitfield</th>\n",
       "      <th>bitfield value bitlengths</th>\n",
       "      <th>bitfield wordlengths</th>\n",
       "      <th>bitfield bitlengths</th>\n",
       "      <th>driftbit bitlengths</th>\n",
       "      <th>bitfield driftbits</th>\n",
       "      <th>lower driftbits</th>\n",
       "      <th>upper driftbits</th>\n",
       "    </tr>\n",
       "  </thead>\n",
       "  <tbody>\n",
       "    <tr>\n",
       "      <th>0</th>\n",
       "      <td>4124697448505068214874120741</td>\n",
       "      <td>92</td>\n",
       "      <td>3</td>\n",
       "      <td>96</td>\n",
       "      <td>80</td>\n",
       "      <td>1051477799568099951354405</td>\n",
       "      <td>48243515941</td>\n",
       "      <td>1912626975478</td>\n",
       "    </tr>\n",
       "    <tr>\n",
       "      <th>1</th>\n",
       "      <td>51785361206533278547496676558</td>\n",
       "      <td>96</td>\n",
       "      <td>3</td>\n",
       "      <td>96</td>\n",
       "      <td>80</td>\n",
       "      <td>1023723340637848957627598</td>\n",
       "      <td>446692863182</td>\n",
       "      <td>1862141908782</td>\n",
       "    </tr>\n",
       "    <tr>\n",
       "      <th>2</th>\n",
       "      <td>78708697932479583268160285174</td>\n",
       "      <td>96</td>\n",
       "      <td>3</td>\n",
       "      <td>96</td>\n",
       "      <td>80</td>\n",
       "      <td>373520649536219739990518</td>\n",
       "      <td>521848629750</td>\n",
       "      <td>679430103511</td>\n",
       "    </tr>\n",
       "    <tr>\n",
       "      <th>3</th>\n",
       "      <td>43738926030594400371889261476</td>\n",
       "      <td>96</td>\n",
       "      <td>3</td>\n",
       "      <td>96</td>\n",
       "      <td>80</td>\n",
       "      <td>1198802756731460194519972</td>\n",
       "      <td>47970896804</td>\n",
       "      <td>2180609511436</td>\n",
       "    </tr>\n",
       "    <tr>\n",
       "      <th>4</th>\n",
       "      <td>28264638053419403218638195684</td>\n",
       "      <td>95</td>\n",
       "      <td>3</td>\n",
       "      <td>96</td>\n",
       "      <td>80</td>\n",
       "      <td>1161316648987743182506980</td>\n",
       "      <td>48235138020</td>\n",
       "      <td>2112422678670</td>\n",
       "    </tr>\n",
       "    <tr>\n",
       "      <th>5</th>\n",
       "      <td>18979682958906860473440177007</td>\n",
       "      <td>94</td>\n",
       "      <td>3</td>\n",
       "      <td>96</td>\n",
       "      <td>80</td>\n",
       "      <td>756516776797059727919983</td>\n",
       "      <td>284503214959</td>\n",
       "      <td>1376096000598</td>\n",
       "    </tr>\n",
       "    <tr>\n",
       "      <th>6</th>\n",
       "      <td>54260633048023384810208253716</td>\n",
       "      <td>96</td>\n",
       "      <td>3</td>\n",
       "      <td>96</td>\n",
       "      <td>80</td>\n",
       "      <td>415486259983561870956308</td>\n",
       "      <td>548581037844</td>\n",
       "      <td>755765104228</td>\n",
       "    </tr>\n",
       "    <tr>\n",
       "      <th>7</th>\n",
       "      <td>30740298850804297830921279380</td>\n",
       "      <td>95</td>\n",
       "      <td>3</td>\n",
       "      <td>96</td>\n",
       "      <td>80</td>\n",
       "      <td>942035463121805667342228</td>\n",
       "      <td>537642014612</td>\n",
       "      <td>1713552525182</td>\n",
       "    </tr>\n",
       "    <tr>\n",
       "      <th>8</th>\n",
       "      <td>11551323908690312484395030486</td>\n",
       "      <td>94</td>\n",
       "      <td>3</td>\n",
       "      <td>96</td>\n",
       "      <td>80</td>\n",
       "      <td>37702272530720077518806</td>\n",
       "      <td>537574643670</td>\n",
       "      <td>68580034222</td>\n",
       "    </tr>\n",
       "  </tbody>\n",
       "</table>\n",
       "</div>"
      ],
      "text/plain": [
       "                        bitfield  bitfield value bitlengths  \\\n",
       "0   4124697448505068214874120741                         92   \n",
       "1  51785361206533278547496676558                         96   \n",
       "2  78708697932479583268160285174                         96   \n",
       "3  43738926030594400371889261476                         96   \n",
       "4  28264638053419403218638195684                         95   \n",
       "5  18979682958906860473440177007                         94   \n",
       "6  54260633048023384810208253716                         96   \n",
       "7  30740298850804297830921279380                         95   \n",
       "8  11551323908690312484395030486                         94   \n",
       "\n",
       "   bitfield wordlengths  bitfield bitlengths  driftbit bitlengths  \\\n",
       "0                     3                   96                   80   \n",
       "1                     3                   96                   80   \n",
       "2                     3                   96                   80   \n",
       "3                     3                   96                   80   \n",
       "4                     3                   96                   80   \n",
       "5                     3                   96                   80   \n",
       "6                     3                   96                   80   \n",
       "7                     3                   96                   80   \n",
       "8                     3                   96                   80   \n",
       "\n",
       "          bitfield driftbits lower driftbits upper driftbits  \n",
       "0  1051477799568099951354405     48243515941   1912626975478  \n",
       "1  1023723340637848957627598    446692863182   1862141908782  \n",
       "2   373520649536219739990518    521848629750    679430103511  \n",
       "3  1198802756731460194519972     47970896804   2180609511436  \n",
       "4  1161316648987743182506980     48235138020   2112422678670  \n",
       "5   756516776797059727919983    284503214959   1376096000598  \n",
       "6   415486259983561870956308    548581037844    755765104228  \n",
       "7   942035463121805667342228    537642014612   1713552525182  \n",
       "8    37702272530720077518806    537574643670     68580034222  "
      ]
     },
     "execution_count": 10,
     "metadata": {},
     "output_type": "execute_result"
    }
   ],
   "source": [
    "driftbit_bitlength = int(mit.one(df[\"driftbit bitlengths\"].unique()))\n",
    "driftbit_quotient = (1 << (driftbit_bitlength // 2)) >> 1\n",
    "df[\"lower driftbits\"] = df[\"bitfield driftbits\"] % driftbit_quotient\n",
    "df[\"upper driftbits\"] = df[\"bitfield driftbits\"] // driftbit_quotient\n",
    "\n",
    "df\n"
   ]
  },
  {
   "cell_type": "code",
   "execution_count": 11,
   "metadata": {
    "execution": {
     "iopub.execute_input": "2024-03-04T19:14:30.891537Z",
     "iopub.status.busy": "2024-03-04T19:14:30.891334Z",
     "iopub.status.idle": "2024-03-04T19:14:30.896040Z",
     "shell.execute_reply": "2024-03-04T19:14:30.895502Z"
    }
   },
   "outputs": [
    {
     "data": {
      "text/plain": [
       "bitfield                     object\n",
       "bitfield value bitlengths     int64\n",
       "bitfield wordlengths          int64\n",
       "bitfield bitlengths           int64\n",
       "driftbit bitlengths           int64\n",
       "bitfield driftbits           object\n",
       "lower driftbits              object\n",
       "upper driftbits              object\n",
       "dtype: object"
      ]
     },
     "execution_count": 11,
     "metadata": {},
     "output_type": "execute_result"
    }
   ],
   "source": [
    "df.dtypes\n"
   ]
  },
  {
   "cell_type": "markdown",
   "metadata": {},
   "source": [
    "## Bitdrift simulation tree\n"
   ]
  },
  {
   "cell_type": "code",
   "execution_count": 12,
   "metadata": {
    "execution": {
     "iopub.execute_input": "2024-03-04T19:14:30.898574Z",
     "iopub.status.busy": "2024-03-04T19:14:30.898050Z",
     "iopub.status.idle": "2024-03-04T19:14:30.903982Z",
     "shell.execute_reply": "2024-03-04T19:14:30.903467Z"
    }
   },
   "outputs": [
    {
     "name": "stdout",
     "output_type": "stream",
     "text": [
      "     /----------------------------------------------------------------------- 5\n",
      "/----+                                                                         \n",
      "|    |                  /---------------------------------------------------- 0\n",
      "|    \\------------------+                                                      \n",
      "|                       |                                /------------------- 4\n",
      "+                       \\--------------------------------+                     \n",
      "|                                                        \\------------------- 3\n",
      "|                                                                              \n",
      "|---------------------------------------------------------------------------- 1\n",
      "+                                                                              \n",
      "|        /------------------------------------------------------------------- 2\n",
      "\\--------+                                                                     \n",
      "         |                           /--------------------------------------- 6\n",
      "         \\---------------------------+                                         \n",
      "                                     |             /------------------------- 8\n",
      "                                     \\-------------+                           \n",
      "                                                   \\------------------------- 7\n",
      "                                                                               \n",
      "                                                                               \n"
     ]
    }
   ],
   "source": [
    "print(\n",
    "    make_hamming_distance_matrix(df[\"bitfield driftbits\"])\n",
    "    .upgma_tree()\n",
    "    .as_ascii_plot(plot_metric=\"length\")\n",
    ")\n"
   ]
  },
  {
   "cell_type": "markdown",
   "metadata": {},
   "source": [
    "## Bitdrift simulation tree (first 40 bits)\n"
   ]
  },
  {
   "cell_type": "code",
   "execution_count": 13,
   "metadata": {
    "execution": {
     "iopub.execute_input": "2024-03-04T19:14:30.906406Z",
     "iopub.status.busy": "2024-03-04T19:14:30.906010Z",
     "iopub.status.idle": "2024-03-04T19:14:30.911238Z",
     "shell.execute_reply": "2024-03-04T19:14:30.910612Z"
    }
   },
   "outputs": [
    {
     "name": "stdout",
     "output_type": "stream",
     "text": [
      "                                                /---------------------------- 6\n",
      "             /----------------------------------+                              \n",
      "             |                                  |             /-------------- 7\n",
      "             |                                  \\-------------+                \n",
      "/------------+                                                \\-------------- 8\n",
      "|            |                                                                 \n",
      "|            |                       /--------------------------------------- 1\n",
      "+            \\-----------------------+                                         \n",
      "|                                    \\--------------------------------------- 2\n",
      "|                                                                              \n",
      "|          /----------------------------------------------------------------- 5\n",
      "\\----------+                                                                   \n",
      "           |                                  /------------------------------ 0\n",
      "           \\----------------------------------+                                \n",
      "                                              |                   /---------- 4\n",
      "                                              \\-------------------+            \n",
      "                                                                  \\---------- 3\n",
      "                                                                               \n",
      "                                                                               \n"
     ]
    }
   ],
   "source": [
    "print(\n",
    "    make_hamming_distance_matrix(df[\"lower driftbits\"])\n",
    "    .upgma_tree()\n",
    "    .as_ascii_plot(plot_metric=\"length\")\n",
    ")\n"
   ]
  },
  {
   "cell_type": "markdown",
   "metadata": {},
   "source": [
    "## Bitdrift simulation tree (last 40 bits)\n"
   ]
  },
  {
   "cell_type": "code",
   "execution_count": 14,
   "metadata": {
    "execution": {
     "iopub.execute_input": "2024-03-04T19:14:30.913478Z",
     "iopub.status.busy": "2024-03-04T19:14:30.913278Z",
     "iopub.status.idle": "2024-03-04T19:14:30.918298Z",
     "shell.execute_reply": "2024-03-04T19:14:30.917708Z"
    }
   },
   "outputs": [
    {
     "name": "stdout",
     "output_type": "stream",
     "text": [
      "    /------------------------------------------------------------------------ 5\n",
      "/---+                                                                          \n",
      "|   |             /---------------------------------------------------------- 0\n",
      "|   \\-------------+                                                            \n",
      "|                 \\---------------------------------------------------------- 2\n",
      "+                                                                              \n",
      "|                          /------------------------------------------------- 6\n",
      "|  /-----------------------+                                                   \n",
      "|  |                       |             /----------------------------------- 7\n",
      "|  |                       \\-------------+                                     \n",
      "\\--+                                     \\----------------------------------- 8\n",
      "   |                                                                           \n",
      "   |        /---------------------------------------------------------------- 1\n",
      "   \\--------+                                                                  \n",
      "            |                                    /--------------------------- 3\n",
      "            \\------------------------------------+                             \n",
      "                                                 \\--------------------------- 4\n",
      "                                                                               \n",
      "                                                                               \n"
     ]
    }
   ],
   "source": [
    "print(\n",
    "    make_hamming_distance_matrix(df[\"upper driftbits\"])\n",
    "    .upgma_tree()\n",
    "    .as_ascii_plot(plot_metric=\"length\")\n",
    ")\n"
   ]
  },
  {
   "cell_type": "markdown",
   "metadata": {},
   "source": [
    "## Random tree\n"
   ]
  },
  {
   "cell_type": "code",
   "execution_count": 15,
   "metadata": {
    "execution": {
     "iopub.execute_input": "2024-03-04T19:14:30.920709Z",
     "iopub.status.busy": "2024-03-04T19:14:30.920348Z",
     "iopub.status.idle": "2024-03-04T19:14:30.925352Z",
     "shell.execute_reply": "2024-03-04T19:14:30.924761Z"
    }
   },
   "outputs": [
    {
     "name": "stdout",
     "output_type": "stream",
     "text": [
      "/---------------------------------------------------------------------------- 1\n",
      "|                                                                              \n",
      "|                                                            /--------------- 0\n",
      "|                                             /--------------+                 \n",
      "+                                             |              \\--------------- 6\n",
      "|              /------------------------------+                                \n",
      "|              |                              |              /--------------- 5\n",
      "|              |                              \\--------------+                 \n",
      "\\--------------+                                             \\--------------- 8\n",
      "               |                                                               \n",
      "               |              /---------------------------------------------- 3\n",
      "               \\--------------+                                                \n",
      "                              |               /------------------------------ 4\n",
      "                              \\---------------+                                \n",
      "                                              |              /--------------- 2\n",
      "                                              \\--------------+                 \n",
      "                                                             \\--------------- 7\n",
      "                                                                               \n",
      "                                                                               \n"
     ]
    }
   ],
   "source": [
    "dummy = [random.randint(0, 2**80) for _ in range(9)]\n",
    "print(make_hamming_distance_matrix(dummy).upgma_tree().as_ascii_plot())\n"
   ]
  }
 ],
 "metadata": {
  "kernelspec": {
   "display_name": "Python 3",
   "language": "python",
   "name": "python3"
  },
  "language_info": {
   "codemirror_mode": {
    "name": "ipython",
    "version": 3
   },
   "file_extension": ".py",
   "mimetype": "text/x-python",
   "name": "python",
   "nbconvert_exporter": "python",
   "pygments_lexer": "ipython3",
   "version": "3.10.12"
  }
 },
 "nbformat": 4,
 "nbformat_minor": 4
}
