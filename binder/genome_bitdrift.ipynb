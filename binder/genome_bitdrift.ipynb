{
 "cells": [
  {
   "cell_type": "markdown",
   "metadata": {},
   "source": [
    "## Set Up Dependencies and Data\n"
   ]
  },
  {
   "cell_type": "code",
   "execution_count": 1,
   "metadata": {
    "execution": {
     "iopub.execute_input": "2024-03-31T00:32:37.817544Z",
     "iopub.status.busy": "2024-03-31T00:32:37.817113Z",
     "iopub.status.idle": "2024-03-31T00:32:38.110363Z",
     "shell.execute_reply": "2024-03-31T00:32:38.109819Z"
    }
   },
   "outputs": [],
   "source": [
    "import random\n",
    "\n",
    "import more_itertools as mit\n",
    "\n",
    "import joblib\n",
    "import pandas as pd\n",
    "from pylib._make_hamming_distance_matrix import make_hamming_distance_matrix\n"
   ]
  },
  {
   "cell_type": "code",
   "execution_count": 2,
   "metadata": {
    "execution": {
     "iopub.execute_input": "2024-03-31T00:32:38.113320Z",
     "iopub.status.busy": "2024-03-31T00:32:38.112864Z",
     "iopub.status.idle": "2024-03-31T00:32:39.212015Z",
     "shell.execute_reply": "2024-03-31T00:32:39.211374Z"
    }
   },
   "outputs": [],
   "source": [
    "df = pd.read_csv(\"https://osf.io/mgky2/download\")\n"
   ]
  },
  {
   "cell_type": "markdown",
   "metadata": {},
   "source": [
    "## Reproducibility\n"
   ]
  },
  {
   "cell_type": "code",
   "execution_count": 3,
   "metadata": {
    "execution": {
     "iopub.execute_input": "2024-03-31T00:32:39.215030Z",
     "iopub.status.busy": "2024-03-31T00:32:39.214670Z",
     "iopub.status.idle": "2024-03-31T00:32:39.533134Z",
     "shell.execute_reply": "2024-03-31T00:32:39.532590Z"
    }
   },
   "outputs": [
    {
     "name": "stdout",
     "output_type": "stream",
     "text": [
      "Last updated: 2024-03-31T00:32:39.222175+00:00\n",
      "\n",
      "Python implementation: CPython\n",
      "Python version       : 3.10.12\n",
      "IPython version      : 8.20.0\n",
      "\n",
      "Compiler    : GCC 11.4.0\n",
      "OS          : Linux\n",
      "Release     : 6.5.0-1016-azure\n",
      "Machine     : x86_64\n",
      "Processor   : x86_64\n",
      "CPU cores   : 4\n",
      "Architecture: 64bit\n",
      "\n",
      "Git hash: 7f9d8f3b35ea616ac53ea906c0668fc457c6b7a5\n",
      "\n",
      "Git branch: master\n",
      "\n",
      "more_itertools: 10.2.0\n",
      "pandas        : 1.5.3\n",
      "joblib        : 1.3.2\n",
      "\n",
      "Watermark: 2.4.3\n",
      "\n"
     ]
    }
   ],
   "source": [
    "%load_ext watermark\n",
    "%watermark -iwbmuvg -iv\n"
   ]
  },
  {
   "cell_type": "code",
   "execution_count": 4,
   "metadata": {
    "execution": {
     "iopub.execute_input": "2024-03-31T00:32:39.560822Z",
     "iopub.status.busy": "2024-03-31T00:32:39.560431Z",
     "iopub.status.idle": "2024-03-31T00:32:39.568604Z",
     "shell.execute_reply": "2024-03-31T00:32:39.568104Z"
    }
   },
   "outputs": [
    {
     "data": {
      "text/html": [
       "<div>\n",
       "<style scoped>\n",
       "    .dataframe tbody tr th:only-of-type {\n",
       "        vertical-align: middle;\n",
       "    }\n",
       "\n",
       "    .dataframe tbody tr th {\n",
       "        vertical-align: top;\n",
       "    }\n",
       "\n",
       "    .dataframe thead th {\n",
       "        text-align: right;\n",
       "    }\n",
       "</style>\n",
       "<table border=\"1\" class=\"dataframe\">\n",
       "  <thead>\n",
       "    <tr style=\"text-align: right;\">\n",
       "      <th></th>\n",
       "      <th>bitfield</th>\n",
       "    </tr>\n",
       "  </thead>\n",
       "  <tbody>\n",
       "    <tr>\n",
       "      <th>0</th>\n",
       "      <td>4124697448505068214874120741</td>\n",
       "    </tr>\n",
       "    <tr>\n",
       "      <th>1</th>\n",
       "      <td>51785361206533278547496676558</td>\n",
       "    </tr>\n",
       "    <tr>\n",
       "      <th>2</th>\n",
       "      <td>78708697932479583268160285174</td>\n",
       "    </tr>\n",
       "    <tr>\n",
       "      <th>3</th>\n",
       "      <td>43738926030594400371889261476</td>\n",
       "    </tr>\n",
       "    <tr>\n",
       "      <th>4</th>\n",
       "      <td>28264638053419403218638195684</td>\n",
       "    </tr>\n",
       "  </tbody>\n",
       "</table>\n",
       "</div>"
      ],
      "text/plain": [
       "                        bitfield\n",
       "0   4124697448505068214874120741\n",
       "1  51785361206533278547496676558\n",
       "2  78708697932479583268160285174\n",
       "3  43738926030594400371889261476\n",
       "4  28264638053419403218638195684"
      ]
     },
     "execution_count": 4,
     "metadata": {},
     "output_type": "execute_result"
    }
   ],
   "source": [
    "df.head()\n"
   ]
  },
  {
   "cell_type": "code",
   "execution_count": 5,
   "metadata": {
    "execution": {
     "iopub.execute_input": "2024-03-31T00:32:39.570642Z",
     "iopub.status.busy": "2024-03-31T00:32:39.570471Z",
     "iopub.status.idle": "2024-03-31T00:32:39.577073Z",
     "shell.execute_reply": "2024-03-31T00:32:39.576493Z"
    }
   },
   "outputs": [
    {
     "name": "stdout",
     "output_type": "stream",
     "text": [
      "<class 'pandas.core.frame.DataFrame'>\n",
      "RangeIndex: 9 entries, 0 to 8\n",
      "Data columns (total 1 columns):\n",
      " #   Column    Non-Null Count  Dtype \n",
      "---  ------    --------------  ----- \n",
      " 0   bitfield  9 non-null      object\n",
      "dtypes: object(1)\n",
      "memory usage: 200.0+ bytes\n"
     ]
    }
   ],
   "source": [
    "df.info()\n"
   ]
  },
  {
   "cell_type": "code",
   "execution_count": 6,
   "metadata": {
    "execution": {
     "iopub.execute_input": "2024-03-31T00:32:39.579148Z",
     "iopub.status.busy": "2024-03-31T00:32:39.578839Z",
     "iopub.status.idle": "2024-03-31T00:32:39.585045Z",
     "shell.execute_reply": "2024-03-31T00:32:39.584555Z"
    }
   },
   "outputs": [
    {
     "data": {
      "text/html": [
       "<div>\n",
       "<style scoped>\n",
       "    .dataframe tbody tr th:only-of-type {\n",
       "        vertical-align: middle;\n",
       "    }\n",
       "\n",
       "    .dataframe tbody tr th {\n",
       "        vertical-align: top;\n",
       "    }\n",
       "\n",
       "    .dataframe thead th {\n",
       "        text-align: right;\n",
       "    }\n",
       "</style>\n",
       "<table border=\"1\" class=\"dataframe\">\n",
       "  <thead>\n",
       "    <tr style=\"text-align: right;\">\n",
       "      <th></th>\n",
       "      <th>bitfield</th>\n",
       "    </tr>\n",
       "  </thead>\n",
       "  <tbody>\n",
       "    <tr>\n",
       "      <th>count</th>\n",
       "      <td>9</td>\n",
       "    </tr>\n",
       "    <tr>\n",
       "      <th>unique</th>\n",
       "      <td>9</td>\n",
       "    </tr>\n",
       "    <tr>\n",
       "      <th>top</th>\n",
       "      <td>4124697448505068214874120741</td>\n",
       "    </tr>\n",
       "    <tr>\n",
       "      <th>freq</th>\n",
       "      <td>1</td>\n",
       "    </tr>\n",
       "  </tbody>\n",
       "</table>\n",
       "</div>"
      ],
      "text/plain": [
       "                            bitfield\n",
       "count                              9\n",
       "unique                             9\n",
       "top     4124697448505068214874120741\n",
       "freq                               1"
      ]
     },
     "execution_count": 6,
     "metadata": {},
     "output_type": "execute_result"
    }
   ],
   "source": [
    "df.describe()\n"
   ]
  },
  {
   "cell_type": "code",
   "execution_count": 7,
   "metadata": {
    "execution": {
     "iopub.execute_input": "2024-03-31T00:32:39.587235Z",
     "iopub.status.busy": "2024-03-31T00:32:39.586913Z",
     "iopub.status.idle": "2024-03-31T00:32:39.591234Z",
     "shell.execute_reply": "2024-03-31T00:32:39.590742Z"
    }
   },
   "outputs": [
    {
     "data": {
      "text/plain": [
       "'898222e7af51ac0b533ce339b8929eff'"
      ]
     },
     "execution_count": 7,
     "metadata": {},
     "output_type": "execute_result"
    }
   ],
   "source": [
    "joblib.hash(df)\n"
   ]
  },
  {
   "cell_type": "markdown",
   "metadata": {},
   "source": [
    "## Data Prep\n"
   ]
  },
  {
   "cell_type": "code",
   "execution_count": 8,
   "metadata": {
    "execution": {
     "iopub.execute_input": "2024-03-31T00:32:39.593372Z",
     "iopub.status.busy": "2024-03-31T00:32:39.593189Z",
     "iopub.status.idle": "2024-03-31T00:32:39.602312Z",
     "shell.execute_reply": "2024-03-31T00:32:39.601755Z"
    }
   },
   "outputs": [
    {
     "data": {
      "text/html": [
       "<div>\n",
       "<style scoped>\n",
       "    .dataframe tbody tr th:only-of-type {\n",
       "        vertical-align: middle;\n",
       "    }\n",
       "\n",
       "    .dataframe tbody tr th {\n",
       "        vertical-align: top;\n",
       "    }\n",
       "\n",
       "    .dataframe thead th {\n",
       "        text-align: right;\n",
       "    }\n",
       "</style>\n",
       "<table border=\"1\" class=\"dataframe\">\n",
       "  <thead>\n",
       "    <tr style=\"text-align: right;\">\n",
       "      <th></th>\n",
       "      <th>bitfield</th>\n",
       "      <th>bitfield value bitlengths</th>\n",
       "      <th>bitfield wordlengths</th>\n",
       "      <th>bitfield bitlengths</th>\n",
       "      <th>driftbit bitlengths</th>\n",
       "    </tr>\n",
       "  </thead>\n",
       "  <tbody>\n",
       "    <tr>\n",
       "      <th>0</th>\n",
       "      <td>4124697448505068214874120741</td>\n",
       "      <td>92</td>\n",
       "      <td>3</td>\n",
       "      <td>96</td>\n",
       "      <td>80</td>\n",
       "    </tr>\n",
       "    <tr>\n",
       "      <th>1</th>\n",
       "      <td>51785361206533278547496676558</td>\n",
       "      <td>96</td>\n",
       "      <td>3</td>\n",
       "      <td>96</td>\n",
       "      <td>80</td>\n",
       "    </tr>\n",
       "    <tr>\n",
       "      <th>2</th>\n",
       "      <td>78708697932479583268160285174</td>\n",
       "      <td>96</td>\n",
       "      <td>3</td>\n",
       "      <td>96</td>\n",
       "      <td>80</td>\n",
       "    </tr>\n",
       "    <tr>\n",
       "      <th>3</th>\n",
       "      <td>43738926030594400371889261476</td>\n",
       "      <td>96</td>\n",
       "      <td>3</td>\n",
       "      <td>96</td>\n",
       "      <td>80</td>\n",
       "    </tr>\n",
       "    <tr>\n",
       "      <th>4</th>\n",
       "      <td>28264638053419403218638195684</td>\n",
       "      <td>95</td>\n",
       "      <td>3</td>\n",
       "      <td>96</td>\n",
       "      <td>80</td>\n",
       "    </tr>\n",
       "    <tr>\n",
       "      <th>5</th>\n",
       "      <td>18979682958906860473440177007</td>\n",
       "      <td>94</td>\n",
       "      <td>3</td>\n",
       "      <td>96</td>\n",
       "      <td>80</td>\n",
       "    </tr>\n",
       "    <tr>\n",
       "      <th>6</th>\n",
       "      <td>54260633048023384810208253716</td>\n",
       "      <td>96</td>\n",
       "      <td>3</td>\n",
       "      <td>96</td>\n",
       "      <td>80</td>\n",
       "    </tr>\n",
       "    <tr>\n",
       "      <th>7</th>\n",
       "      <td>30740298850804297830921279380</td>\n",
       "      <td>95</td>\n",
       "      <td>3</td>\n",
       "      <td>96</td>\n",
       "      <td>80</td>\n",
       "    </tr>\n",
       "    <tr>\n",
       "      <th>8</th>\n",
       "      <td>11551323908690312484395030486</td>\n",
       "      <td>94</td>\n",
       "      <td>3</td>\n",
       "      <td>96</td>\n",
       "      <td>80</td>\n",
       "    </tr>\n",
       "  </tbody>\n",
       "</table>\n",
       "</div>"
      ],
      "text/plain": [
       "                        bitfield  bitfield value bitlengths  \\\n",
       "0   4124697448505068214874120741                         92   \n",
       "1  51785361206533278547496676558                         96   \n",
       "2  78708697932479583268160285174                         96   \n",
       "3  43738926030594400371889261476                         96   \n",
       "4  28264638053419403218638195684                         95   \n",
       "5  18979682958906860473440177007                         94   \n",
       "6  54260633048023384810208253716                         96   \n",
       "7  30740298850804297830921279380                         95   \n",
       "8  11551323908690312484395030486                         94   \n",
       "\n",
       "   bitfield wordlengths  bitfield bitlengths  driftbit bitlengths  \n",
       "0                     3                   96                   80  \n",
       "1                     3                   96                   80  \n",
       "2                     3                   96                   80  \n",
       "3                     3                   96                   80  \n",
       "4                     3                   96                   80  \n",
       "5                     3                   96                   80  \n",
       "6                     3                   96                   80  \n",
       "7                     3                   96                   80  \n",
       "8                     3                   96                   80  "
      ]
     },
     "execution_count": 8,
     "metadata": {},
     "output_type": "execute_result"
    }
   ],
   "source": [
    "df[\"bitfield\"] = df[\"bitfield\"].apply(int)\n",
    "df[\"bitfield value bitlengths\"] = df[\"bitfield\"].apply(int.bit_length)\n",
    "df[\"bitfield wordlengths\"] = (df[\"bitfield value bitlengths\"] + 31) // 32\n",
    "assert mit.one(df[\"bitfield wordlengths\"].unique()) == 3\n",
    "df[\"bitfield bitlengths\"] = df[\"bitfield wordlengths\"] * 32\n",
    "df[\"driftbit bitlengths\"] = df[\"bitfield bitlengths\"] - 16\n",
    "df\n"
   ]
  },
  {
   "cell_type": "code",
   "execution_count": 9,
   "metadata": {
    "execution": {
     "iopub.execute_input": "2024-03-31T00:32:39.604647Z",
     "iopub.status.busy": "2024-03-31T00:32:39.604316Z",
     "iopub.status.idle": "2024-03-31T00:32:39.611736Z",
     "shell.execute_reply": "2024-03-31T00:32:39.611171Z"
    }
   },
   "outputs": [
    {
     "data": {
      "text/html": [
       "<div>\n",
       "<style scoped>\n",
       "    .dataframe tbody tr th:only-of-type {\n",
       "        vertical-align: middle;\n",
       "    }\n",
       "\n",
       "    .dataframe tbody tr th {\n",
       "        vertical-align: top;\n",
       "    }\n",
       "\n",
       "    .dataframe thead th {\n",
       "        text-align: right;\n",
       "    }\n",
       "</style>\n",
       "<table border=\"1\" class=\"dataframe\">\n",
       "  <thead>\n",
       "    <tr style=\"text-align: right;\">\n",
       "      <th></th>\n",
       "      <th>bitfield</th>\n",
       "      <th>bitfield value bitlengths</th>\n",
       "      <th>bitfield wordlengths</th>\n",
       "      <th>bitfield bitlengths</th>\n",
       "      <th>driftbit bitlengths</th>\n",
       "      <th>bitfield driftbits</th>\n",
       "    </tr>\n",
       "  </thead>\n",
       "  <tbody>\n",
       "    <tr>\n",
       "      <th>0</th>\n",
       "      <td>4124697448505068214874120741</td>\n",
       "      <td>92</td>\n",
       "      <td>3</td>\n",
       "      <td>96</td>\n",
       "      <td>80</td>\n",
       "      <td>1051477799568099951354405</td>\n",
       "    </tr>\n",
       "    <tr>\n",
       "      <th>1</th>\n",
       "      <td>51785361206533278547496676558</td>\n",
       "      <td>96</td>\n",
       "      <td>3</td>\n",
       "      <td>96</td>\n",
       "      <td>80</td>\n",
       "      <td>1023723340637848957627598</td>\n",
       "    </tr>\n",
       "    <tr>\n",
       "      <th>2</th>\n",
       "      <td>78708697932479583268160285174</td>\n",
       "      <td>96</td>\n",
       "      <td>3</td>\n",
       "      <td>96</td>\n",
       "      <td>80</td>\n",
       "      <td>373520649536219739990518</td>\n",
       "    </tr>\n",
       "    <tr>\n",
       "      <th>3</th>\n",
       "      <td>43738926030594400371889261476</td>\n",
       "      <td>96</td>\n",
       "      <td>3</td>\n",
       "      <td>96</td>\n",
       "      <td>80</td>\n",
       "      <td>1198802756731460194519972</td>\n",
       "    </tr>\n",
       "    <tr>\n",
       "      <th>4</th>\n",
       "      <td>28264638053419403218638195684</td>\n",
       "      <td>95</td>\n",
       "      <td>3</td>\n",
       "      <td>96</td>\n",
       "      <td>80</td>\n",
       "      <td>1161316648987743182506980</td>\n",
       "    </tr>\n",
       "    <tr>\n",
       "      <th>5</th>\n",
       "      <td>18979682958906860473440177007</td>\n",
       "      <td>94</td>\n",
       "      <td>3</td>\n",
       "      <td>96</td>\n",
       "      <td>80</td>\n",
       "      <td>756516776797059727919983</td>\n",
       "    </tr>\n",
       "    <tr>\n",
       "      <th>6</th>\n",
       "      <td>54260633048023384810208253716</td>\n",
       "      <td>96</td>\n",
       "      <td>3</td>\n",
       "      <td>96</td>\n",
       "      <td>80</td>\n",
       "      <td>415486259983561870956308</td>\n",
       "    </tr>\n",
       "    <tr>\n",
       "      <th>7</th>\n",
       "      <td>30740298850804297830921279380</td>\n",
       "      <td>95</td>\n",
       "      <td>3</td>\n",
       "      <td>96</td>\n",
       "      <td>80</td>\n",
       "      <td>942035463121805667342228</td>\n",
       "    </tr>\n",
       "    <tr>\n",
       "      <th>8</th>\n",
       "      <td>11551323908690312484395030486</td>\n",
       "      <td>94</td>\n",
       "      <td>3</td>\n",
       "      <td>96</td>\n",
       "      <td>80</td>\n",
       "      <td>37702272530720077518806</td>\n",
       "    </tr>\n",
       "  </tbody>\n",
       "</table>\n",
       "</div>"
      ],
      "text/plain": [
       "                        bitfield  bitfield value bitlengths  \\\n",
       "0   4124697448505068214874120741                         92   \n",
       "1  51785361206533278547496676558                         96   \n",
       "2  78708697932479583268160285174                         96   \n",
       "3  43738926030594400371889261476                         96   \n",
       "4  28264638053419403218638195684                         95   \n",
       "5  18979682958906860473440177007                         94   \n",
       "6  54260633048023384810208253716                         96   \n",
       "7  30740298850804297830921279380                         95   \n",
       "8  11551323908690312484395030486                         94   \n",
       "\n",
       "   bitfield wordlengths  bitfield bitlengths  driftbit bitlengths  \\\n",
       "0                     3                   96                   80   \n",
       "1                     3                   96                   80   \n",
       "2                     3                   96                   80   \n",
       "3                     3                   96                   80   \n",
       "4                     3                   96                   80   \n",
       "5                     3                   96                   80   \n",
       "6                     3                   96                   80   \n",
       "7                     3                   96                   80   \n",
       "8                     3                   96                   80   \n",
       "\n",
       "          bitfield driftbits  \n",
       "0  1051477799568099951354405  \n",
       "1  1023723340637848957627598  \n",
       "2   373520649536219739990518  \n",
       "3  1198802756731460194519972  \n",
       "4  1161316648987743182506980  \n",
       "5   756516776797059727919983  \n",
       "6   415486259983561870956308  \n",
       "7   942035463121805667342228  \n",
       "8    37702272530720077518806  "
      ]
     },
     "execution_count": 9,
     "metadata": {},
     "output_type": "execute_result"
    }
   ],
   "source": [
    "exclude_leading = 16\n",
    "bitfield_bitlength = int(mit.one(df[\"bitfield bitlengths\"].unique()))\n",
    "driftbit_mask = (  # mask off leading 16 bit\n",
    "    1 << (bitfield_bitlength - exclude_leading)\n",
    ") - 1\n",
    "assert driftbit_mask.bit_count() == bitfield_bitlength - exclude_leading\n",
    "df[\"bitfield driftbits\"] = df[\"bitfield\"].values & driftbit_mask\n",
    "\n",
    "df\n"
   ]
  },
  {
   "cell_type": "code",
   "execution_count": 10,
   "metadata": {
    "execution": {
     "iopub.execute_input": "2024-03-31T00:32:39.614110Z",
     "iopub.status.busy": "2024-03-31T00:32:39.613684Z",
     "iopub.status.idle": "2024-03-31T00:32:39.622176Z",
     "shell.execute_reply": "2024-03-31T00:32:39.621621Z"
    }
   },
   "outputs": [
    {
     "data": {
      "text/html": [
       "<div>\n",
       "<style scoped>\n",
       "    .dataframe tbody tr th:only-of-type {\n",
       "        vertical-align: middle;\n",
       "    }\n",
       "\n",
       "    .dataframe tbody tr th {\n",
       "        vertical-align: top;\n",
       "    }\n",
       "\n",
       "    .dataframe thead th {\n",
       "        text-align: right;\n",
       "    }\n",
       "</style>\n",
       "<table border=\"1\" class=\"dataframe\">\n",
       "  <thead>\n",
       "    <tr style=\"text-align: right;\">\n",
       "      <th></th>\n",
       "      <th>bitfield</th>\n",
       "      <th>bitfield value bitlengths</th>\n",
       "      <th>bitfield wordlengths</th>\n",
       "      <th>bitfield bitlengths</th>\n",
       "      <th>driftbit bitlengths</th>\n",
       "      <th>bitfield driftbits</th>\n",
       "      <th>lower driftbits</th>\n",
       "      <th>upper driftbits</th>\n",
       "    </tr>\n",
       "  </thead>\n",
       "  <tbody>\n",
       "    <tr>\n",
       "      <th>0</th>\n",
       "      <td>4124697448505068214874120741</td>\n",
       "      <td>92</td>\n",
       "      <td>3</td>\n",
       "      <td>96</td>\n",
       "      <td>80</td>\n",
       "      <td>1051477799568099951354405</td>\n",
       "      <td>48243515941</td>\n",
       "      <td>1912626975478</td>\n",
       "    </tr>\n",
       "    <tr>\n",
       "      <th>1</th>\n",
       "      <td>51785361206533278547496676558</td>\n",
       "      <td>96</td>\n",
       "      <td>3</td>\n",
       "      <td>96</td>\n",
       "      <td>80</td>\n",
       "      <td>1023723340637848957627598</td>\n",
       "      <td>446692863182</td>\n",
       "      <td>1862141908782</td>\n",
       "    </tr>\n",
       "    <tr>\n",
       "      <th>2</th>\n",
       "      <td>78708697932479583268160285174</td>\n",
       "      <td>96</td>\n",
       "      <td>3</td>\n",
       "      <td>96</td>\n",
       "      <td>80</td>\n",
       "      <td>373520649536219739990518</td>\n",
       "      <td>521848629750</td>\n",
       "      <td>679430103511</td>\n",
       "    </tr>\n",
       "    <tr>\n",
       "      <th>3</th>\n",
       "      <td>43738926030594400371889261476</td>\n",
       "      <td>96</td>\n",
       "      <td>3</td>\n",
       "      <td>96</td>\n",
       "      <td>80</td>\n",
       "      <td>1198802756731460194519972</td>\n",
       "      <td>47970896804</td>\n",
       "      <td>2180609511436</td>\n",
       "    </tr>\n",
       "    <tr>\n",
       "      <th>4</th>\n",
       "      <td>28264638053419403218638195684</td>\n",
       "      <td>95</td>\n",
       "      <td>3</td>\n",
       "      <td>96</td>\n",
       "      <td>80</td>\n",
       "      <td>1161316648987743182506980</td>\n",
       "      <td>48235138020</td>\n",
       "      <td>2112422678670</td>\n",
       "    </tr>\n",
       "    <tr>\n",
       "      <th>5</th>\n",
       "      <td>18979682958906860473440177007</td>\n",
       "      <td>94</td>\n",
       "      <td>3</td>\n",
       "      <td>96</td>\n",
       "      <td>80</td>\n",
       "      <td>756516776797059727919983</td>\n",
       "      <td>284503214959</td>\n",
       "      <td>1376096000598</td>\n",
       "    </tr>\n",
       "    <tr>\n",
       "      <th>6</th>\n",
       "      <td>54260633048023384810208253716</td>\n",
       "      <td>96</td>\n",
       "      <td>3</td>\n",
       "      <td>96</td>\n",
       "      <td>80</td>\n",
       "      <td>415486259983561870956308</td>\n",
       "      <td>548581037844</td>\n",
       "      <td>755765104228</td>\n",
       "    </tr>\n",
       "    <tr>\n",
       "      <th>7</th>\n",
       "      <td>30740298850804297830921279380</td>\n",
       "      <td>95</td>\n",
       "      <td>3</td>\n",
       "      <td>96</td>\n",
       "      <td>80</td>\n",
       "      <td>942035463121805667342228</td>\n",
       "      <td>537642014612</td>\n",
       "      <td>1713552525182</td>\n",
       "    </tr>\n",
       "    <tr>\n",
       "      <th>8</th>\n",
       "      <td>11551323908690312484395030486</td>\n",
       "      <td>94</td>\n",
       "      <td>3</td>\n",
       "      <td>96</td>\n",
       "      <td>80</td>\n",
       "      <td>37702272530720077518806</td>\n",
       "      <td>537574643670</td>\n",
       "      <td>68580034222</td>\n",
       "    </tr>\n",
       "  </tbody>\n",
       "</table>\n",
       "</div>"
      ],
      "text/plain": [
       "                        bitfield  bitfield value bitlengths  \\\n",
       "0   4124697448505068214874120741                         92   \n",
       "1  51785361206533278547496676558                         96   \n",
       "2  78708697932479583268160285174                         96   \n",
       "3  43738926030594400371889261476                         96   \n",
       "4  28264638053419403218638195684                         95   \n",
       "5  18979682958906860473440177007                         94   \n",
       "6  54260633048023384810208253716                         96   \n",
       "7  30740298850804297830921279380                         95   \n",
       "8  11551323908690312484395030486                         94   \n",
       "\n",
       "   bitfield wordlengths  bitfield bitlengths  driftbit bitlengths  \\\n",
       "0                     3                   96                   80   \n",
       "1                     3                   96                   80   \n",
       "2                     3                   96                   80   \n",
       "3                     3                   96                   80   \n",
       "4                     3                   96                   80   \n",
       "5                     3                   96                   80   \n",
       "6                     3                   96                   80   \n",
       "7                     3                   96                   80   \n",
       "8                     3                   96                   80   \n",
       "\n",
       "          bitfield driftbits lower driftbits upper driftbits  \n",
       "0  1051477799568099951354405     48243515941   1912626975478  \n",
       "1  1023723340637848957627598    446692863182   1862141908782  \n",
       "2   373520649536219739990518    521848629750    679430103511  \n",
       "3  1198802756731460194519972     47970896804   2180609511436  \n",
       "4  1161316648987743182506980     48235138020   2112422678670  \n",
       "5   756516776797059727919983    284503214959   1376096000598  \n",
       "6   415486259983561870956308    548581037844    755765104228  \n",
       "7   942035463121805667342228    537642014612   1713552525182  \n",
       "8    37702272530720077518806    537574643670     68580034222  "
      ]
     },
     "execution_count": 10,
     "metadata": {},
     "output_type": "execute_result"
    }
   ],
   "source": [
    "driftbit_bitlength = int(mit.one(df[\"driftbit bitlengths\"].unique()))\n",
    "driftbit_quotient = (1 << (driftbit_bitlength // 2)) >> 1\n",
    "df[\"lower driftbits\"] = df[\"bitfield driftbits\"] % driftbit_quotient\n",
    "df[\"upper driftbits\"] = df[\"bitfield driftbits\"] // driftbit_quotient\n",
    "\n",
    "df\n"
   ]
  },
  {
   "cell_type": "code",
   "execution_count": 11,
   "metadata": {
    "execution": {
     "iopub.execute_input": "2024-03-31T00:32:39.624249Z",
     "iopub.status.busy": "2024-03-31T00:32:39.624064Z",
     "iopub.status.idle": "2024-03-31T00:32:39.628341Z",
     "shell.execute_reply": "2024-03-31T00:32:39.627852Z"
    }
   },
   "outputs": [
    {
     "data": {
      "text/plain": [
       "bitfield                     object\n",
       "bitfield value bitlengths     int64\n",
       "bitfield wordlengths          int64\n",
       "bitfield bitlengths           int64\n",
       "driftbit bitlengths           int64\n",
       "bitfield driftbits           object\n",
       "lower driftbits              object\n",
       "upper driftbits              object\n",
       "dtype: object"
      ]
     },
     "execution_count": 11,
     "metadata": {},
     "output_type": "execute_result"
    }
   ],
   "source": [
    "df.dtypes\n"
   ]
  },
  {
   "cell_type": "markdown",
   "metadata": {},
   "source": [
    "## Bitdrift simulation tree\n"
   ]
  },
  {
   "cell_type": "code",
   "execution_count": 12,
   "metadata": {
    "execution": {
     "iopub.execute_input": "2024-03-31T00:32:39.630627Z",
     "iopub.status.busy": "2024-03-31T00:32:39.630183Z",
     "iopub.status.idle": "2024-03-31T00:32:39.635517Z",
     "shell.execute_reply": "2024-03-31T00:32:39.634949Z"
    }
   },
   "outputs": [
    {
     "name": "stdout",
     "output_type": "stream",
     "text": [
      "     /----------------------------------------------------------------------- 5\n",
      "/----+                                                                         \n",
      "|    |                  /---------------------------------------------------- 0\n",
      "|    \\------------------+                                                      \n",
      "|                       |                                /------------------- 4\n",
      "+                       \\--------------------------------+                     \n",
      "|                                                        \\------------------- 3\n",
      "|                                                                              \n",
      "|---------------------------------------------------------------------------- 1\n",
      "+                                                                              \n",
      "|        /------------------------------------------------------------------- 2\n",
      "\\--------+                                                                     \n",
      "         |                           /--------------------------------------- 6\n",
      "         \\---------------------------+                                         \n",
      "                                     |             /------------------------- 7\n",
      "                                     \\-------------+                           \n",
      "                                                   \\------------------------- 8\n",
      "                                                                               \n",
      "                                                                               \n"
     ]
    }
   ],
   "source": [
    "print(\n",
    "    make_hamming_distance_matrix(df[\"bitfield driftbits\"])\n",
    "    .upgma_tree()\n",
    "    .as_ascii_plot(plot_metric=\"length\")\n",
    ")\n"
   ]
  },
  {
   "cell_type": "markdown",
   "metadata": {},
   "source": [
    "## Bitdrift simulation tree (first 40 bits)\n"
   ]
  },
  {
   "cell_type": "code",
   "execution_count": 13,
   "metadata": {
    "execution": {
     "iopub.execute_input": "2024-03-31T00:32:39.637783Z",
     "iopub.status.busy": "2024-03-31T00:32:39.637362Z",
     "iopub.status.idle": "2024-03-31T00:32:39.641785Z",
     "shell.execute_reply": "2024-03-31T00:32:39.641234Z"
    }
   },
   "outputs": [
    {
     "name": "stdout",
     "output_type": "stream",
     "text": [
      "                                                /---------------------------- 6\n",
      "             /----------------------------------+                              \n",
      "             |                                  |             /-------------- 8\n",
      "             |                                  \\-------------+                \n",
      "/------------+                                                \\-------------- 7\n",
      "|            |                                                                 \n",
      "|            |                       /--------------------------------------- 2\n",
      "+            \\-----------------------+                                         \n",
      "|                                    \\--------------------------------------- 1\n",
      "|                                                                              \n",
      "|          /----------------------------------------------------------------- 5\n",
      "\\----------+                                                                   \n",
      "           |                                  /------------------------------ 0\n",
      "           \\----------------------------------+                                \n",
      "                                              |                   /---------- 3\n",
      "                                              \\-------------------+            \n",
      "                                                                  \\---------- 4\n",
      "                                                                               \n",
      "                                                                               \n"
     ]
    }
   ],
   "source": [
    "print(\n",
    "    make_hamming_distance_matrix(df[\"lower driftbits\"])\n",
    "    .upgma_tree()\n",
    "    .as_ascii_plot(plot_metric=\"length\")\n",
    ")\n"
   ]
  },
  {
   "cell_type": "markdown",
   "metadata": {},
   "source": [
    "## Bitdrift simulation tree (last 40 bits)\n"
   ]
  },
  {
   "cell_type": "code",
   "execution_count": 14,
   "metadata": {
    "execution": {
     "iopub.execute_input": "2024-03-31T00:32:39.644077Z",
     "iopub.status.busy": "2024-03-31T00:32:39.643734Z",
     "iopub.status.idle": "2024-03-31T00:32:39.648446Z",
     "shell.execute_reply": "2024-03-31T00:32:39.647897Z"
    }
   },
   "outputs": [
    {
     "name": "stdout",
     "output_type": "stream",
     "text": [
      "    /------------------------------------------------------------------------ 5\n",
      "/---+                                                                          \n",
      "|   |             /---------------------------------------------------------- 0\n",
      "|   \\-------------+                                                            \n",
      "|                 \\---------------------------------------------------------- 2\n",
      "+                                                                              \n",
      "|                          /------------------------------------------------- 6\n",
      "|  /-----------------------+                                                   \n",
      "|  |                       |             /----------------------------------- 7\n",
      "|  |                       \\-------------+                                     \n",
      "\\--+                                     \\----------------------------------- 8\n",
      "   |                                                                           \n",
      "   |        /---------------------------------------------------------------- 1\n",
      "   \\--------+                                                                  \n",
      "            |                                    /--------------------------- 3\n",
      "            \\------------------------------------+                             \n",
      "                                                 \\--------------------------- 4\n",
      "                                                                               \n",
      "                                                                               \n"
     ]
    }
   ],
   "source": [
    "print(\n",
    "    make_hamming_distance_matrix(df[\"upper driftbits\"])\n",
    "    .upgma_tree()\n",
    "    .as_ascii_plot(plot_metric=\"length\")\n",
    ")\n"
   ]
  },
  {
   "cell_type": "markdown",
   "metadata": {},
   "source": [
    "## Random tree\n"
   ]
  },
  {
   "cell_type": "code",
   "execution_count": 15,
   "metadata": {
    "execution": {
     "iopub.execute_input": "2024-03-31T00:32:39.650779Z",
     "iopub.status.busy": "2024-03-31T00:32:39.650434Z",
     "iopub.status.idle": "2024-03-31T00:32:39.655466Z",
     "shell.execute_reply": "2024-03-31T00:32:39.654876Z"
    }
   },
   "outputs": [
    {
     "name": "stdout",
     "output_type": "stream",
     "text": [
      "                                      /-------------------------------------- 4\n",
      "/-------------------------------------+                                        \n",
      "|                                     |                  /------------------- 3\n",
      "|                                     \\------------------+                     \n",
      "|                                                        \\------------------- 6\n",
      "+                                                                              \n",
      "|                                     /-------------------------------------- 7\n",
      "|                  /------------------+                                        \n",
      "|                  |                  |                  /------------------- 1\n",
      "|                  |                  \\------------------+                     \n",
      "\\------------------+                                     \\------------------- 2\n",
      "                   |                                                           \n",
      "                   |                  /-------------------------------------- 8\n",
      "                   \\------------------+                                        \n",
      "                                      |                  /------------------- 5\n",
      "                                      \\------------------+                     \n",
      "                                                         \\------------------- 0\n",
      "                                                                               \n",
      "                                                                               \n"
     ]
    }
   ],
   "source": [
    "dummy = [random.randint(0, 2**80) for _ in range(9)]\n",
    "print(make_hamming_distance_matrix(dummy).upgma_tree().as_ascii_plot())\n"
   ]
  }
 ],
 "metadata": {
  "kernelspec": {
   "display_name": "Python 3",
   "language": "python",
   "name": "python3"
  },
  "language_info": {
   "codemirror_mode": {
    "name": "ipython",
    "version": 3
   },
   "file_extension": ".py",
   "mimetype": "text/x-python",
   "name": "python",
   "nbconvert_exporter": "python",
   "pygments_lexer": "ipython3",
   "version": "3.10.12"
  }
 },
 "nbformat": 4,
 "nbformat_minor": 4
}
