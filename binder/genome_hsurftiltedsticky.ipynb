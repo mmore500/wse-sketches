{
 "cells": [
  {
   "cell_type": "markdown",
   "metadata": {},
   "source": [
    "## Set Up Dependencies and Data\n"
   ]
  },
  {
   "cell_type": "code",
   "execution_count": 1,
   "metadata": {
    "execution": {
     "iopub.execute_input": "2024-08-28T16:06:10.142698Z",
     "iopub.status.busy": "2024-08-28T16:06:10.142222Z",
     "iopub.status.idle": "2024-08-28T16:06:14.360600Z",
     "shell.execute_reply": "2024-08-28T16:06:14.360009Z"
    }
   },
   "outputs": [],
   "source": [
    "import random\n",
    "\n",
    "import alifedata_phyloinformatics_convert as apc\n",
    "from hstrat import hstrat\n",
    "from hsurf import hsurf\n",
    "import joblib\n",
    "import more_itertools as mit\n",
    "import pandas as pd\n",
    "\n",
    "from pylib._make_hamming_distance_matrix import make_hamming_distance_matrix\n"
   ]
  },
  {
   "cell_type": "code",
   "execution_count": 2,
   "metadata": {
    "execution": {
     "iopub.execute_input": "2024-08-28T16:06:14.363289Z",
     "iopub.status.busy": "2024-08-28T16:06:14.362935Z",
     "iopub.status.idle": "2024-08-28T16:06:15.077222Z",
     "shell.execute_reply": "2024-08-28T16:06:15.076622Z"
    }
   },
   "outputs": [],
   "source": [
    "df = pd.read_csv(\"https://osf.io/u89ft/download\")\n"
   ]
  },
  {
   "cell_type": "markdown",
   "metadata": {},
   "source": [
    "## Reproducibility\n"
   ]
  },
  {
   "cell_type": "code",
   "execution_count": 3,
   "metadata": {
    "execution": {
     "iopub.execute_input": "2024-08-28T16:06:15.079615Z",
     "iopub.status.busy": "2024-08-28T16:06:15.079436Z",
     "iopub.status.idle": "2024-08-28T16:06:15.097008Z",
     "shell.execute_reply": "2024-08-28T16:06:15.096474Z"
    }
   },
   "outputs": [
    {
     "name": "stdout",
     "output_type": "stream",
     "text": [
      "Last updated: 2024-08-28T16:06:15.084856+00:00\n",
      "\n",
      "Python implementation: CPython\n",
      "Python version       : 3.11.9\n",
      "IPython version      : 8.20.0\n",
      "\n",
      "Compiler    : GCC 11.4.0\n",
      "OS          : Linux\n",
      "Release     : 6.5.0-1025-azure\n",
      "Machine     : x86_64\n",
      "Processor   : x86_64\n",
      "CPU cores   : 4\n",
      "Architecture: 64bit\n",
      "\n",
      "Git hash: d872c4209d6c5091eb6d6f6ebbc4094e992baa5e\n",
      "\n",
      "Git branch: master\n",
      "\n",
      "hstrat                            : 1.11.4\n",
      "hsurf                             : 0.3.0\n",
      "pandas                            : 1.5.3\n",
      "more_itertools                    : 10.2.0\n",
      "joblib                            : 1.3.2\n",
      "alifedata_phyloinformatics_convert: 0.16.2\n",
      "\n",
      "Watermark: 2.4.3\n",
      "\n"
     ]
    }
   ],
   "source": [
    "%load_ext watermark\n",
    "%watermark -iwbmuvg -iv\n"
   ]
  },
  {
   "cell_type": "code",
   "execution_count": 4,
   "metadata": {
    "execution": {
     "iopub.execute_input": "2024-08-28T16:06:15.132692Z",
     "iopub.status.busy": "2024-08-28T16:06:15.132302Z",
     "iopub.status.idle": "2024-08-28T16:06:15.140726Z",
     "shell.execute_reply": "2024-08-28T16:06:15.140266Z"
    }
   },
   "outputs": [
    {
     "data": {
      "text/html": [
       "<div>\n",
       "<style scoped>\n",
       "    .dataframe tbody tr th:only-of-type {\n",
       "        vertical-align: middle;\n",
       "    }\n",
       "\n",
       "    .dataframe tbody tr th {\n",
       "        vertical-align: top;\n",
       "    }\n",
       "\n",
       "    .dataframe thead th {\n",
       "        text-align: right;\n",
       "    }\n",
       "</style>\n",
       "<table border=\"1\" class=\"dataframe\">\n",
       "  <thead>\n",
       "    <tr style=\"text-align: right;\">\n",
       "      <th></th>\n",
       "      <th>bitfield</th>\n",
       "    </tr>\n",
       "  </thead>\n",
       "  <tbody>\n",
       "    <tr>\n",
       "      <th>0</th>\n",
       "      <td>61067863028768134243186439757</td>\n",
       "    </tr>\n",
       "    <tr>\n",
       "      <th>1</th>\n",
       "      <td>19598090090116010358700834409</td>\n",
       "    </tr>\n",
       "    <tr>\n",
       "      <th>2</th>\n",
       "      <td>72209332835900027321038445430</td>\n",
       "    </tr>\n",
       "    <tr>\n",
       "      <th>3</th>\n",
       "      <td>10004054782569452583966348625</td>\n",
       "    </tr>\n",
       "    <tr>\n",
       "      <th>4</th>\n",
       "      <td>36310280622434712054702068598</td>\n",
       "    </tr>\n",
       "  </tbody>\n",
       "</table>\n",
       "</div>"
      ],
      "text/plain": [
       "                        bitfield\n",
       "0  61067863028768134243186439757\n",
       "1  19598090090116010358700834409\n",
       "2  72209332835900027321038445430\n",
       "3  10004054782569452583966348625\n",
       "4  36310280622434712054702068598"
      ]
     },
     "execution_count": 4,
     "metadata": {},
     "output_type": "execute_result"
    }
   ],
   "source": [
    "df.head()\n"
   ]
  },
  {
   "cell_type": "code",
   "execution_count": 5,
   "metadata": {
    "execution": {
     "iopub.execute_input": "2024-08-28T16:06:15.142949Z",
     "iopub.status.busy": "2024-08-28T16:06:15.142619Z",
     "iopub.status.idle": "2024-08-28T16:06:15.149216Z",
     "shell.execute_reply": "2024-08-28T16:06:15.148650Z"
    }
   },
   "outputs": [
    {
     "name": "stdout",
     "output_type": "stream",
     "text": [
      "<class 'pandas.core.frame.DataFrame'>\n",
      "RangeIndex: 9 entries, 0 to 8\n",
      "Data columns (total 1 columns):\n",
      " #   Column    Non-Null Count  Dtype \n",
      "---  ------    --------------  ----- \n",
      " 0   bitfield  9 non-null      object\n",
      "dtypes: object(1)\n",
      "memory usage: 204.0+ bytes\n"
     ]
    }
   ],
   "source": [
    "df.info()\n"
   ]
  },
  {
   "cell_type": "code",
   "execution_count": 6,
   "metadata": {
    "execution": {
     "iopub.execute_input": "2024-08-28T16:06:15.151312Z",
     "iopub.status.busy": "2024-08-28T16:06:15.150969Z",
     "iopub.status.idle": "2024-08-28T16:06:15.157332Z",
     "shell.execute_reply": "2024-08-28T16:06:15.156796Z"
    }
   },
   "outputs": [
    {
     "data": {
      "text/html": [
       "<div>\n",
       "<style scoped>\n",
       "    .dataframe tbody tr th:only-of-type {\n",
       "        vertical-align: middle;\n",
       "    }\n",
       "\n",
       "    .dataframe tbody tr th {\n",
       "        vertical-align: top;\n",
       "    }\n",
       "\n",
       "    .dataframe thead th {\n",
       "        text-align: right;\n",
       "    }\n",
       "</style>\n",
       "<table border=\"1\" class=\"dataframe\">\n",
       "  <thead>\n",
       "    <tr style=\"text-align: right;\">\n",
       "      <th></th>\n",
       "      <th>bitfield</th>\n",
       "    </tr>\n",
       "  </thead>\n",
       "  <tbody>\n",
       "    <tr>\n",
       "      <th>count</th>\n",
       "      <td>9</td>\n",
       "    </tr>\n",
       "    <tr>\n",
       "      <th>unique</th>\n",
       "      <td>9</td>\n",
       "    </tr>\n",
       "    <tr>\n",
       "      <th>top</th>\n",
       "      <td>61067863028768134243186439757</td>\n",
       "    </tr>\n",
       "    <tr>\n",
       "      <th>freq</th>\n",
       "      <td>1</td>\n",
       "    </tr>\n",
       "  </tbody>\n",
       "</table>\n",
       "</div>"
      ],
      "text/plain": [
       "                             bitfield\n",
       "count                               9\n",
       "unique                              9\n",
       "top     61067863028768134243186439757\n",
       "freq                                1"
      ]
     },
     "execution_count": 6,
     "metadata": {},
     "output_type": "execute_result"
    }
   ],
   "source": [
    "df.describe()\n"
   ]
  },
  {
   "cell_type": "code",
   "execution_count": 7,
   "metadata": {
    "execution": {
     "iopub.execute_input": "2024-08-28T16:06:15.159443Z",
     "iopub.status.busy": "2024-08-28T16:06:15.159122Z",
     "iopub.status.idle": "2024-08-28T16:06:15.163332Z",
     "shell.execute_reply": "2024-08-28T16:06:15.162778Z"
    }
   },
   "outputs": [
    {
     "data": {
      "text/plain": [
       "'562762d857f6984802d39ce8a4ed9e1f'"
      ]
     },
     "execution_count": 7,
     "metadata": {},
     "output_type": "execute_result"
    }
   ],
   "source": [
    "joblib.hash(df)\n"
   ]
  },
  {
   "cell_type": "markdown",
   "metadata": {},
   "source": [
    "## Data Prep\n"
   ]
  },
  {
   "cell_type": "code",
   "execution_count": 8,
   "metadata": {
    "execution": {
     "iopub.execute_input": "2024-08-28T16:06:15.165496Z",
     "iopub.status.busy": "2024-08-28T16:06:15.165079Z",
     "iopub.status.idle": "2024-08-28T16:06:15.174953Z",
     "shell.execute_reply": "2024-08-28T16:06:15.174419Z"
    }
   },
   "outputs": [
    {
     "data": {
      "text/html": [
       "<div>\n",
       "<style scoped>\n",
       "    .dataframe tbody tr th:only-of-type {\n",
       "        vertical-align: middle;\n",
       "    }\n",
       "\n",
       "    .dataframe tbody tr th {\n",
       "        vertical-align: top;\n",
       "    }\n",
       "\n",
       "    .dataframe thead th {\n",
       "        text-align: right;\n",
       "    }\n",
       "</style>\n",
       "<table border=\"1\" class=\"dataframe\">\n",
       "  <thead>\n",
       "    <tr style=\"text-align: right;\">\n",
       "      <th></th>\n",
       "      <th>bitfield</th>\n",
       "      <th>bitfield value bitlengths</th>\n",
       "      <th>bitfield wordlengths</th>\n",
       "      <th>bitfield bitlengths</th>\n",
       "      <th>surface bitlengths</th>\n",
       "      <th>surface bytelengths</th>\n",
       "    </tr>\n",
       "  </thead>\n",
       "  <tbody>\n",
       "    <tr>\n",
       "      <th>0</th>\n",
       "      <td>61067863028768134243186439757</td>\n",
       "      <td>96</td>\n",
       "      <td>3</td>\n",
       "      <td>96</td>\n",
       "      <td>80</td>\n",
       "      <td>10</td>\n",
       "    </tr>\n",
       "    <tr>\n",
       "      <th>1</th>\n",
       "      <td>19598090090116010358700834409</td>\n",
       "      <td>94</td>\n",
       "      <td>3</td>\n",
       "      <td>96</td>\n",
       "      <td>80</td>\n",
       "      <td>10</td>\n",
       "    </tr>\n",
       "    <tr>\n",
       "      <th>2</th>\n",
       "      <td>72209332835900027321038445430</td>\n",
       "      <td>96</td>\n",
       "      <td>3</td>\n",
       "      <td>96</td>\n",
       "      <td>80</td>\n",
       "      <td>10</td>\n",
       "    </tr>\n",
       "    <tr>\n",
       "      <th>3</th>\n",
       "      <td>10004054782569452583966348625</td>\n",
       "      <td>94</td>\n",
       "      <td>3</td>\n",
       "      <td>96</td>\n",
       "      <td>80</td>\n",
       "      <td>10</td>\n",
       "    </tr>\n",
       "    <tr>\n",
       "      <th>4</th>\n",
       "      <td>36310280622434712054702068598</td>\n",
       "      <td>95</td>\n",
       "      <td>3</td>\n",
       "      <td>96</td>\n",
       "      <td>80</td>\n",
       "      <td>10</td>\n",
       "    </tr>\n",
       "    <tr>\n",
       "      <th>5</th>\n",
       "      <td>34143885553685296573628601206</td>\n",
       "      <td>95</td>\n",
       "      <td>3</td>\n",
       "      <td>96</td>\n",
       "      <td>80</td>\n",
       "      <td>10</td>\n",
       "    </tr>\n",
       "    <tr>\n",
       "      <th>6</th>\n",
       "      <td>49927616333954097311855502331</td>\n",
       "      <td>96</td>\n",
       "      <td>3</td>\n",
       "      <td>96</td>\n",
       "      <td>80</td>\n",
       "      <td>10</td>\n",
       "    </tr>\n",
       "    <tr>\n",
       "      <th>7</th>\n",
       "      <td>39405130722394847844858160123</td>\n",
       "      <td>95</td>\n",
       "      <td>3</td>\n",
       "      <td>96</td>\n",
       "      <td>80</td>\n",
       "      <td>10</td>\n",
       "    </tr>\n",
       "    <tr>\n",
       "      <th>8</th>\n",
       "      <td>20836025406695731973441246070</td>\n",
       "      <td>95</td>\n",
       "      <td>3</td>\n",
       "      <td>96</td>\n",
       "      <td>80</td>\n",
       "      <td>10</td>\n",
       "    </tr>\n",
       "  </tbody>\n",
       "</table>\n",
       "</div>"
      ],
      "text/plain": [
       "                        bitfield  bitfield value bitlengths  \\\n",
       "0  61067863028768134243186439757                         96   \n",
       "1  19598090090116010358700834409                         94   \n",
       "2  72209332835900027321038445430                         96   \n",
       "3  10004054782569452583966348625                         94   \n",
       "4  36310280622434712054702068598                         95   \n",
       "5  34143885553685296573628601206                         95   \n",
       "6  49927616333954097311855502331                         96   \n",
       "7  39405130722394847844858160123                         95   \n",
       "8  20836025406695731973441246070                         95   \n",
       "\n",
       "   bitfield wordlengths  bitfield bitlengths  surface bitlengths  \\\n",
       "0                     3                   96                  80   \n",
       "1                     3                   96                  80   \n",
       "2                     3                   96                  80   \n",
       "3                     3                   96                  80   \n",
       "4                     3                   96                  80   \n",
       "5                     3                   96                  80   \n",
       "6                     3                   96                  80   \n",
       "7                     3                   96                  80   \n",
       "8                     3                   96                  80   \n",
       "\n",
       "   surface bytelengths  \n",
       "0                   10  \n",
       "1                   10  \n",
       "2                   10  \n",
       "3                   10  \n",
       "4                   10  \n",
       "5                   10  \n",
       "6                   10  \n",
       "7                   10  \n",
       "8                   10  "
      ]
     },
     "execution_count": 8,
     "metadata": {},
     "output_type": "execute_result"
    }
   ],
   "source": [
    "exclude_leading = 16\n",
    "\n",
    "df[\"bitfield\"] = df[\"bitfield\"].apply(int)\n",
    "df[\"bitfield value bitlengths\"] = df[\"bitfield\"].apply(int.bit_length)\n",
    "df[\"bitfield wordlengths\"] = (df[\"bitfield value bitlengths\"] + 31) // 32\n",
    "assert mit.one(df[\"bitfield wordlengths\"].unique()) == 3\n",
    "df[\"bitfield bitlengths\"] = df[\"bitfield wordlengths\"] * 32\n",
    "df[\"surface bitlengths\"] = df[\"bitfield bitlengths\"] - exclude_leading\n",
    "df[\"surface bytelengths\"] = df[\"surface bitlengths\"] // 8\n",
    "\n",
    "df\n"
   ]
  },
  {
   "cell_type": "code",
   "execution_count": 9,
   "metadata": {
    "execution": {
     "iopub.execute_input": "2024-08-28T16:06:15.176899Z",
     "iopub.status.busy": "2024-08-28T16:06:15.176590Z",
     "iopub.status.idle": "2024-08-28T16:06:15.183970Z",
     "shell.execute_reply": "2024-08-28T16:06:15.183417Z"
    }
   },
   "outputs": [
    {
     "data": {
      "text/html": [
       "<div>\n",
       "<style scoped>\n",
       "    .dataframe tbody tr th:only-of-type {\n",
       "        vertical-align: middle;\n",
       "    }\n",
       "\n",
       "    .dataframe tbody tr th {\n",
       "        vertical-align: top;\n",
       "    }\n",
       "\n",
       "    .dataframe thead th {\n",
       "        text-align: right;\n",
       "    }\n",
       "</style>\n",
       "<table border=\"1\" class=\"dataframe\">\n",
       "  <thead>\n",
       "    <tr style=\"text-align: right;\">\n",
       "      <th></th>\n",
       "      <th>bitfield</th>\n",
       "      <th>bitfield value bitlengths</th>\n",
       "      <th>bitfield wordlengths</th>\n",
       "      <th>bitfield bitlengths</th>\n",
       "      <th>surface bitlengths</th>\n",
       "      <th>surface bytelengths</th>\n",
       "      <th>bitfield surface</th>\n",
       "    </tr>\n",
       "  </thead>\n",
       "  <tbody>\n",
       "    <tr>\n",
       "      <th>0</th>\n",
       "      <td>61067863028768134243186439757</td>\n",
       "      <td>96</td>\n",
       "      <td>3</td>\n",
       "      <td>96</td>\n",
       "      <td>80</td>\n",
       "      <td>10</td>\n",
       "      <td>184176754756112078665293</td>\n",
       "    </tr>\n",
       "    <tr>\n",
       "      <th>1</th>\n",
       "      <td>19598090090116010358700834409</td>\n",
       "      <td>94</td>\n",
       "      <td>3</td>\n",
       "      <td>96</td>\n",
       "      <td>80</td>\n",
       "      <td>10</td>\n",
       "      <td>193628343256807539015273</td>\n",
       "    </tr>\n",
       "    <tr>\n",
       "      <th>2</th>\n",
       "      <td>72209332835900027321038445430</td>\n",
       "      <td>96</td>\n",
       "      <td>3</td>\n",
       "      <td>96</td>\n",
       "      <td>80</td>\n",
       "      <td>10</td>\n",
       "      <td>193630318226715838552950</td>\n",
       "    </tr>\n",
       "    <tr>\n",
       "      <th>3</th>\n",
       "      <td>10004054782569452583966348625</td>\n",
       "      <td>94</td>\n",
       "      <td>3</td>\n",
       "      <td>96</td>\n",
       "      <td>80</td>\n",
       "      <td>10</td>\n",
       "      <td>193625258396163272742225</td>\n",
       "    </tr>\n",
       "    <tr>\n",
       "      <th>4</th>\n",
       "      <td>36310280622434712054702068598</td>\n",
       "      <td>95</td>\n",
       "      <td>3</td>\n",
       "      <td>96</td>\n",
       "      <td>80</td>\n",
       "      <td>10</td>\n",
       "      <td>193630309324792402072438</td>\n",
       "    </tr>\n",
       "    <tr>\n",
       "      <th>5</th>\n",
       "      <td>34143885553685296573628601206</td>\n",
       "      <td>95</td>\n",
       "      <td>3</td>\n",
       "      <td>96</td>\n",
       "      <td>80</td>\n",
       "      <td>10</td>\n",
       "      <td>193630309324792402072438</td>\n",
       "    </tr>\n",
       "    <tr>\n",
       "      <th>6</th>\n",
       "      <td>49927616333954097311855502331</td>\n",
       "      <td>96</td>\n",
       "      <td>3</td>\n",
       "      <td>96</td>\n",
       "      <td>80</td>\n",
       "      <td>10</td>\n",
       "      <td>188909689527025665139707</td>\n",
       "    </tr>\n",
       "    <tr>\n",
       "      <th>7</th>\n",
       "      <td>39405130722394847844858160123</td>\n",
       "      <td>95</td>\n",
       "      <td>3</td>\n",
       "      <td>96</td>\n",
       "      <td>80</td>\n",
       "      <td>10</td>\n",
       "      <td>193632056009895310353403</td>\n",
       "    </tr>\n",
       "    <tr>\n",
       "      <th>8</th>\n",
       "      <td>20836025406695731973441246070</td>\n",
       "      <td>95</td>\n",
       "      <td>3</td>\n",
       "      <td>96</td>\n",
       "      <td>80</td>\n",
       "      <td>10</td>\n",
       "      <td>188905637598147380302710</td>\n",
       "    </tr>\n",
       "  </tbody>\n",
       "</table>\n",
       "</div>"
      ],
      "text/plain": [
       "                        bitfield  bitfield value bitlengths  \\\n",
       "0  61067863028768134243186439757                         96   \n",
       "1  19598090090116010358700834409                         94   \n",
       "2  72209332835900027321038445430                         96   \n",
       "3  10004054782569452583966348625                         94   \n",
       "4  36310280622434712054702068598                         95   \n",
       "5  34143885553685296573628601206                         95   \n",
       "6  49927616333954097311855502331                         96   \n",
       "7  39405130722394847844858160123                         95   \n",
       "8  20836025406695731973441246070                         95   \n",
       "\n",
       "   bitfield wordlengths  bitfield bitlengths  surface bitlengths  \\\n",
       "0                     3                   96                  80   \n",
       "1                     3                   96                  80   \n",
       "2                     3                   96                  80   \n",
       "3                     3                   96                  80   \n",
       "4                     3                   96                  80   \n",
       "5                     3                   96                  80   \n",
       "6                     3                   96                  80   \n",
       "7                     3                   96                  80   \n",
       "8                     3                   96                  80   \n",
       "\n",
       "   surface bytelengths          bitfield surface  \n",
       "0                   10  184176754756112078665293  \n",
       "1                   10  193628343256807539015273  \n",
       "2                   10  193630318226715838552950  \n",
       "3                   10  193625258396163272742225  \n",
       "4                   10  193630309324792402072438  \n",
       "5                   10  193630309324792402072438  \n",
       "6                   10  188909689527025665139707  \n",
       "7                   10  193632056009895310353403  \n",
       "8                   10  188905637598147380302710  "
      ]
     },
     "execution_count": 9,
     "metadata": {},
     "output_type": "execute_result"
    }
   ],
   "source": [
    "bitfield_bitlength = int(mit.one(df[\"bitfield bitlengths\"].unique()))\n",
    "surface_mask = (  # mask off leading 16 bit\n",
    "    1 << (bitfield_bitlength - exclude_leading)\n",
    ") - 1\n",
    "assert surface_mask.bit_count() == bitfield_bitlength - exclude_leading\n",
    "df[\"bitfield surface\"] = df[\"bitfield\"].values & surface_mask\n",
    "\n",
    "df\n"
   ]
  },
  {
   "cell_type": "code",
   "execution_count": 10,
   "metadata": {
    "execution": {
     "iopub.execute_input": "2024-08-28T16:06:15.185921Z",
     "iopub.status.busy": "2024-08-28T16:06:15.185614Z",
     "iopub.status.idle": "2024-08-28T16:06:15.189711Z",
     "shell.execute_reply": "2024-08-28T16:06:15.189138Z"
    }
   },
   "outputs": [
    {
     "data": {
      "text/plain": [
       "bitfield                     object\n",
       "bitfield value bitlengths     int64\n",
       "bitfield wordlengths          int64\n",
       "bitfield bitlengths           int64\n",
       "surface bitlengths            int64\n",
       "surface bytelengths           int64\n",
       "bitfield surface             object\n",
       "dtype: object"
      ]
     },
     "execution_count": 10,
     "metadata": {},
     "output_type": "execute_result"
    }
   ],
   "source": [
    "df.dtypes\n"
   ]
  },
  {
   "cell_type": "markdown",
   "metadata": {},
   "source": [
    "## Deserialize Columns\n"
   ]
  },
  {
   "cell_type": "code",
   "execution_count": 11,
   "metadata": {
    "execution": {
     "iopub.execute_input": "2024-08-28T16:06:15.191690Z",
     "iopub.status.busy": "2024-08-28T16:06:15.191382Z",
     "iopub.status.idle": "2024-08-28T16:06:15.253124Z",
     "shell.execute_reply": "2024-08-28T16:06:15.252573Z"
    }
   },
   "outputs": [
    {
     "name": "stdout",
     "output_type": "stream",
     "text": [
      "surface_bytelength=10\n"
     ]
    }
   ],
   "source": [
    "surface_bytelength = int(mit.one(df[\"surface bytelengths\"].unique()))\n",
    "print(f\"{surface_bytelength=}\")\n",
    "site_selection_algo = hsurf.tilted_sticky_algo\n",
    "differentia_bitwidth = 1\n",
    "\n",
    "hstrat_columns = [\n",
    "    hsurf.col_from_surf_int(\n",
    "        value=value,\n",
    "        differentia_bit_width=differentia_bitwidth,\n",
    "        site_selection_algo=site_selection_algo,\n",
    "        differentiae_byte_bit_order=\"little\",\n",
    "        num_strata_deposited_byte_width=2,  # u16\n",
    "        num_strata_deposited_byte_order=\"little\",\n",
    "        value_byte_width=surface_bytelength,\n",
    "    )\n",
    "    for value in df[\"bitfield surface\"].values\n",
    "]\n"
   ]
  },
  {
   "cell_type": "code",
   "execution_count": 12,
   "metadata": {
    "execution": {
     "iopub.execute_input": "2024-08-28T16:06:15.255067Z",
     "iopub.status.busy": "2024-08-28T16:06:15.254753Z",
     "iopub.status.idle": "2024-08-28T16:06:15.257777Z",
     "shell.execute_reply": "2024-08-28T16:06:15.257230Z"
    }
   },
   "outputs": [
    {
     "name": "stdout",
     "output_type": "stream",
     "text": [
      "39\n",
      "41\n",
      "41\n",
      "41\n",
      "41\n",
      "41\n",
      "40\n",
      "41\n",
      "40\n"
     ]
    }
   ],
   "source": [
    "for col in hstrat_columns:\n",
    "    print(col.GetNumStrataDeposited())\n"
   ]
  },
  {
   "cell_type": "markdown",
   "metadata": {},
   "source": [
    "## Reconstruct Tree\n"
   ]
  },
  {
   "cell_type": "code",
   "execution_count": 13,
   "metadata": {
    "execution": {
     "iopub.execute_input": "2024-08-28T16:06:15.259737Z",
     "iopub.status.busy": "2024-08-28T16:06:15.259435Z",
     "iopub.status.idle": "2024-08-28T16:06:15.980585Z",
     "shell.execute_reply": "2024-08-28T16:06:15.980056Z"
    }
   },
   "outputs": [],
   "source": [
    "tree_df = hstrat.build_tree(\n",
    "    hstrat_columns,\n",
    "    hstrat.__version__,\n",
    "    force_common_ancestry=True,\n",
    ")\n"
   ]
  },
  {
   "cell_type": "markdown",
   "metadata": {},
   "source": [
    "## Surface simulation tree\n"
   ]
  },
  {
   "cell_type": "code",
   "execution_count": 14,
   "metadata": {
    "execution": {
     "iopub.execute_input": "2024-08-28T16:06:15.983181Z",
     "iopub.status.busy": "2024-08-28T16:06:15.982839Z",
     "iopub.status.idle": "2024-08-28T16:06:15.990140Z",
     "shell.execute_reply": "2024-08-28T16:06:15.989613Z"
    }
   },
   "outputs": [
    {
     "name": "stdout",
     "output_type": "stream",
     "text": [
      "                                                                          /-- 5\n",
      "                                                        /-----------------+    \n",
      "                                   /--------------------+                 \\-- 4\n",
      "                                   |                    |                      \n",
      "      /----------------------------+                    \\------------------ 8  \n",
      "      |                            |                                           \n",
      "/-----+                            \\----------------------------------------- 2\n",
      "|     |                                                                        \n",
      "|     |                                                                   / 6  \n",
      "+     \\-------------------------------------------------------------------+    \n",
      "|                                                                         \\-- 7\n",
      "|                                                                              \n",
      "+---------------------------------------------------------------------------- 3\n",
      "|                                                                              \n",
      "|                              /----------------------------------------- 0    \n",
      "\\------------------------------+                                               \n",
      "                               \\--------------------------------------------- 1\n",
      "                                                                               \n",
      "                                                                               \n"
     ]
    }
   ],
   "source": [
    "print(apc.RosettaTree(tree_df).as_dendropy.as_ascii_plot(plot_metric=\"length\"))\n"
   ]
  },
  {
   "cell_type": "markdown",
   "metadata": {},
   "source": [
    "## Random tree\n"
   ]
  },
  {
   "cell_type": "code",
   "execution_count": 15,
   "metadata": {
    "execution": {
     "iopub.execute_input": "2024-08-28T16:06:15.992265Z",
     "iopub.status.busy": "2024-08-28T16:06:15.991878Z",
     "iopub.status.idle": "2024-08-28T16:06:15.997725Z",
     "shell.execute_reply": "2024-08-28T16:06:15.997273Z"
    }
   },
   "outputs": [
    {
     "name": "stdout",
     "output_type": "stream",
     "text": [
      "                                              /------------------------------ 2\n",
      "/---------------------------------------------+                                \n",
      "|                                             |              /--------------- 1\n",
      "|                                             \\--------------+                 \n",
      "|                                                            \\--------------- 8\n",
      "+                                                                              \n",
      "|                                                            /--------------- 4\n",
      "|              /---------------------------------------------+                 \n",
      "|              |                                             \\--------------- 6\n",
      "\\--------------+                                                               \n",
      "               |              /---------------------------------------------- 0\n",
      "               \\--------------+                                                \n",
      "                              |               /------------------------------ 3\n",
      "                              \\---------------+                                \n",
      "                                              |              /--------------- 5\n",
      "                                              \\--------------+                 \n",
      "                                                             \\--------------- 7\n",
      "                                                                               \n",
      "                                                                               \n"
     ]
    }
   ],
   "source": [
    "dummy = [random.randint(0, 2**80) for _ in range(9)]\n",
    "print(make_hamming_distance_matrix(dummy).upgma_tree().as_ascii_plot())\n"
   ]
  }
 ],
 "metadata": {
  "kernelspec": {
   "display_name": "Python 3",
   "language": "python",
   "name": "python3"
  },
  "language_info": {
   "codemirror_mode": {
    "name": "ipython",
    "version": 3
   },
   "file_extension": ".py",
   "mimetype": "text/x-python",
   "name": "python",
   "nbconvert_exporter": "python",
   "pygments_lexer": "ipython3",
   "version": "3.11.9"
  }
 },
 "nbformat": 4,
 "nbformat_minor": 4
}
