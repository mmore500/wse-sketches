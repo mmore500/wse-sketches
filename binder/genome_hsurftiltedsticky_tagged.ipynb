{
 "cells": [
  {
   "cell_type": "markdown",
   "metadata": {},
   "source": [
    "## Set Up Dependencies and Data\n"
   ]
  },
  {
   "cell_type": "code",
   "execution_count": 1,
   "metadata": {
    "execution": {
     "iopub.execute_input": "2024-03-04T04:24:32.420087Z",
     "iopub.status.busy": "2024-03-04T04:24:32.419914Z",
     "iopub.status.idle": "2024-03-04T04:24:34.066978Z",
     "shell.execute_reply": "2024-03-04T04:24:34.066364Z"
    }
   },
   "outputs": [],
   "source": [
    "import random\n",
    "\n",
    "import alifedata_phyloinformatics_convert as apc\n",
    "from Bio import Phylo as BioPhylo\n",
    "from hstrat import hstrat\n",
    "from hsurf import hsurf\n",
    "import joblib\n",
    "import more_itertools as mit\n",
    "import pandas as pd\n",
    "from teeplot import teeplot as tp\n",
    "\n",
    "from pylib._draw_biopython_tree import draw_biopython_tree\n",
    "from pylib._make_hamming_distance_matrix import make_hamming_distance_matrix\n",
    "from pylib._val_to_color import val_to_color\n"
   ]
  },
  {
   "cell_type": "code",
   "execution_count": 2,
   "metadata": {
    "execution": {
     "iopub.execute_input": "2024-03-04T04:24:34.070069Z",
     "iopub.status.busy": "2024-03-04T04:24:34.069514Z",
     "iopub.status.idle": "2024-03-04T04:24:34.838523Z",
     "shell.execute_reply": "2024-03-04T04:24:34.837882Z"
    }
   },
   "outputs": [],
   "source": [
    "df = pd.read_csv(\"https://osf.io/7dve5/download\")\n"
   ]
  },
  {
   "cell_type": "markdown",
   "metadata": {},
   "source": [
    "## Reproducibility\n"
   ]
  },
  {
   "cell_type": "code",
   "execution_count": 3,
   "metadata": {
    "execution": {
     "iopub.execute_input": "2024-03-04T04:24:34.841427Z",
     "iopub.status.busy": "2024-03-04T04:24:34.840963Z",
     "iopub.status.idle": "2024-03-04T04:24:34.859639Z",
     "shell.execute_reply": "2024-03-04T04:24:34.859081Z"
    }
   },
   "outputs": [
    {
     "name": "stdout",
     "output_type": "stream",
     "text": [
      "Last updated: 2024-03-04T04:24:34.846389+00:00\n",
      "\n",
      "Python implementation: CPython\n",
      "Python version       : 3.10.12\n",
      "IPython version      : 8.20.0\n",
      "\n",
      "Compiler    : GCC 11.4.0\n",
      "OS          : Linux\n",
      "Release     : 6.5.0-1015-azure\n",
      "Machine     : x86_64\n",
      "Processor   : x86_64\n",
      "CPU cores   : 4\n",
      "Architecture: 64bit\n",
      "\n",
      "Git hash: cec0eb7532b003d8f6796d610701f953b4289574\n",
      "\n",
      "Git branch: HEAD\n",
      "\n",
      "joblib                            : 1.3.2\n",
      "more_itertools                    : 10.2.0\n",
      "pandas                            : 1.5.3\n",
      "hsurf                             : 0.3.0\n",
      "Bio                               : 1.83\n",
      "alifedata_phyloinformatics_convert: 0.16.2\n",
      "teeplot                           : 1.0.1\n",
      "hstrat                            : 1.11.1\n",
      "\n",
      "Watermark: 2.4.3\n",
      "\n"
     ]
    }
   ],
   "source": [
    "%load_ext watermark\n",
    "%watermark -iwbmuvg -iv\n"
   ]
  },
  {
   "cell_type": "code",
   "execution_count": 4,
   "metadata": {
    "execution": {
     "iopub.execute_input": "2024-03-04T04:24:34.887647Z",
     "iopub.status.busy": "2024-03-04T04:24:34.887279Z",
     "iopub.status.idle": "2024-03-04T04:24:34.895304Z",
     "shell.execute_reply": "2024-03-04T04:24:34.894787Z"
    }
   },
   "outputs": [
    {
     "data": {
      "text/html": [
       "<div>\n",
       "<style scoped>\n",
       "    .dataframe tbody tr th:only-of-type {\n",
       "        vertical-align: middle;\n",
       "    }\n",
       "\n",
       "    .dataframe tbody tr th {\n",
       "        vertical-align: top;\n",
       "    }\n",
       "\n",
       "    .dataframe thead th {\n",
       "        text-align: right;\n",
       "    }\n",
       "</style>\n",
       "<table border=\"1\" class=\"dataframe\">\n",
       "  <thead>\n",
       "    <tr style=\"text-align: right;\">\n",
       "      <th></th>\n",
       "      <th>bitfield</th>\n",
       "    </tr>\n",
       "  </thead>\n",
       "  <tbody>\n",
       "    <tr>\n",
       "      <th>0</th>\n",
       "      <td>77064756713668357415073525191</td>\n",
       "    </tr>\n",
       "    <tr>\n",
       "      <th>1</th>\n",
       "      <td>77064737824238309593663130836</td>\n",
       "    </tr>\n",
       "    <tr>\n",
       "      <th>2</th>\n",
       "      <td>30240547418216718020720024161</td>\n",
       "    </tr>\n",
       "    <tr>\n",
       "      <th>3</th>\n",
       "      <td>68783544018723857427193644511</td>\n",
       "    </tr>\n",
       "    <tr>\n",
       "      <th>4</th>\n",
       "      <td>1851408510276755850611569268</td>\n",
       "    </tr>\n",
       "  </tbody>\n",
       "</table>\n",
       "</div>"
      ],
      "text/plain": [
       "                        bitfield\n",
       "0  77064756713668357415073525191\n",
       "1  77064737824238309593663130836\n",
       "2  30240547418216718020720024161\n",
       "3  68783544018723857427193644511\n",
       "4   1851408510276755850611569268"
      ]
     },
     "execution_count": 4,
     "metadata": {},
     "output_type": "execute_result"
    }
   ],
   "source": [
    "df.head()\n"
   ]
  },
  {
   "cell_type": "code",
   "execution_count": 5,
   "metadata": {
    "execution": {
     "iopub.execute_input": "2024-03-04T04:24:34.897554Z",
     "iopub.status.busy": "2024-03-04T04:24:34.897186Z",
     "iopub.status.idle": "2024-03-04T04:24:34.904225Z",
     "shell.execute_reply": "2024-03-04T04:24:34.903656Z"
    }
   },
   "outputs": [
    {
     "name": "stdout",
     "output_type": "stream",
     "text": [
      "<class 'pandas.core.frame.DataFrame'>\n",
      "RangeIndex: 9 entries, 0 to 8\n",
      "Data columns (total 1 columns):\n",
      " #   Column    Non-Null Count  Dtype \n",
      "---  ------    --------------  ----- \n",
      " 0   bitfield  9 non-null      object\n",
      "dtypes: object(1)\n",
      "memory usage: 200.0+ bytes\n"
     ]
    }
   ],
   "source": [
    "df.info()\n"
   ]
  },
  {
   "cell_type": "code",
   "execution_count": 6,
   "metadata": {
    "execution": {
     "iopub.execute_input": "2024-03-04T04:24:34.906317Z",
     "iopub.status.busy": "2024-03-04T04:24:34.906128Z",
     "iopub.status.idle": "2024-03-04T04:24:34.912990Z",
     "shell.execute_reply": "2024-03-04T04:24:34.912442Z"
    }
   },
   "outputs": [
    {
     "data": {
      "text/html": [
       "<div>\n",
       "<style scoped>\n",
       "    .dataframe tbody tr th:only-of-type {\n",
       "        vertical-align: middle;\n",
       "    }\n",
       "\n",
       "    .dataframe tbody tr th {\n",
       "        vertical-align: top;\n",
       "    }\n",
       "\n",
       "    .dataframe thead th {\n",
       "        text-align: right;\n",
       "    }\n",
       "</style>\n",
       "<table border=\"1\" class=\"dataframe\">\n",
       "  <thead>\n",
       "    <tr style=\"text-align: right;\">\n",
       "      <th></th>\n",
       "      <th>bitfield</th>\n",
       "    </tr>\n",
       "  </thead>\n",
       "  <tbody>\n",
       "    <tr>\n",
       "      <th>count</th>\n",
       "      <td>9</td>\n",
       "    </tr>\n",
       "    <tr>\n",
       "      <th>unique</th>\n",
       "      <td>8</td>\n",
       "    </tr>\n",
       "    <tr>\n",
       "      <th>top</th>\n",
       "      <td>68783525124783816603834197597</td>\n",
       "    </tr>\n",
       "    <tr>\n",
       "      <th>freq</th>\n",
       "      <td>2</td>\n",
       "    </tr>\n",
       "  </tbody>\n",
       "</table>\n",
       "</div>"
      ],
      "text/plain": [
       "                             bitfield\n",
       "count                               9\n",
       "unique                              8\n",
       "top     68783525124783816603834197597\n",
       "freq                                2"
      ]
     },
     "execution_count": 6,
     "metadata": {},
     "output_type": "execute_result"
    }
   ],
   "source": [
    "df.describe()\n"
   ]
  },
  {
   "cell_type": "code",
   "execution_count": 7,
   "metadata": {
    "execution": {
     "iopub.execute_input": "2024-03-04T04:24:34.915053Z",
     "iopub.status.busy": "2024-03-04T04:24:34.914867Z",
     "iopub.status.idle": "2024-03-04T04:24:34.919320Z",
     "shell.execute_reply": "2024-03-04T04:24:34.918819Z"
    }
   },
   "outputs": [
    {
     "data": {
      "text/plain": [
       "'e664c46ee9d4e0f0892ce69733348dfa'"
      ]
     },
     "execution_count": 7,
     "metadata": {},
     "output_type": "execute_result"
    }
   ],
   "source": [
    "joblib.hash(df)\n"
   ]
  },
  {
   "cell_type": "markdown",
   "metadata": {},
   "source": [
    "## Data Prep\n"
   ]
  },
  {
   "cell_type": "code",
   "execution_count": 8,
   "metadata": {
    "execution": {
     "iopub.execute_input": "2024-03-04T04:24:34.921365Z",
     "iopub.status.busy": "2024-03-04T04:24:34.921183Z",
     "iopub.status.idle": "2024-03-04T04:24:34.930759Z",
     "shell.execute_reply": "2024-03-04T04:24:34.930243Z"
    }
   },
   "outputs": [
    {
     "data": {
      "text/html": [
       "<div>\n",
       "<style scoped>\n",
       "    .dataframe tbody tr th:only-of-type {\n",
       "        vertical-align: middle;\n",
       "    }\n",
       "\n",
       "    .dataframe tbody tr th {\n",
       "        vertical-align: top;\n",
       "    }\n",
       "\n",
       "    .dataframe thead th {\n",
       "        text-align: right;\n",
       "    }\n",
       "</style>\n",
       "<table border=\"1\" class=\"dataframe\">\n",
       "  <thead>\n",
       "    <tr style=\"text-align: right;\">\n",
       "      <th></th>\n",
       "      <th>bitfield</th>\n",
       "      <th>bitfield value bitlengths</th>\n",
       "      <th>bitfield wordlengths</th>\n",
       "      <th>bitfield bitlengths</th>\n",
       "      <th>surface bitlengths</th>\n",
       "      <th>surface bytelengths</th>\n",
       "    </tr>\n",
       "  </thead>\n",
       "  <tbody>\n",
       "    <tr>\n",
       "      <th>0</th>\n",
       "      <td>77064756713668357415073525191</td>\n",
       "      <td>96</td>\n",
       "      <td>3</td>\n",
       "      <td>96</td>\n",
       "      <td>80</td>\n",
       "      <td>10</td>\n",
       "    </tr>\n",
       "    <tr>\n",
       "      <th>1</th>\n",
       "      <td>77064737824238309593663130836</td>\n",
       "      <td>96</td>\n",
       "      <td>3</td>\n",
       "      <td>96</td>\n",
       "      <td>80</td>\n",
       "      <td>10</td>\n",
       "    </tr>\n",
       "    <tr>\n",
       "      <th>2</th>\n",
       "      <td>30240547418216718020720024161</td>\n",
       "      <td>95</td>\n",
       "      <td>3</td>\n",
       "      <td>96</td>\n",
       "      <td>80</td>\n",
       "      <td>10</td>\n",
       "    </tr>\n",
       "    <tr>\n",
       "      <th>3</th>\n",
       "      <td>68783544018723857427193644511</td>\n",
       "      <td>96</td>\n",
       "      <td>3</td>\n",
       "      <td>96</td>\n",
       "      <td>80</td>\n",
       "      <td>10</td>\n",
       "    </tr>\n",
       "    <tr>\n",
       "      <th>4</th>\n",
       "      <td>1851408510276755850611569268</td>\n",
       "      <td>91</td>\n",
       "      <td>3</td>\n",
       "      <td>96</td>\n",
       "      <td>80</td>\n",
       "      <td>10</td>\n",
       "    </tr>\n",
       "    <tr>\n",
       "      <th>5</th>\n",
       "      <td>68783534574145182538748371176</td>\n",
       "      <td>96</td>\n",
       "      <td>3</td>\n",
       "      <td>96</td>\n",
       "      <td>80</td>\n",
       "      <td>10</td>\n",
       "    </tr>\n",
       "    <tr>\n",
       "      <th>6</th>\n",
       "      <td>1851356573380009383893728895</td>\n",
       "      <td>91</td>\n",
       "      <td>3</td>\n",
       "      <td>96</td>\n",
       "      <td>80</td>\n",
       "      <td>10</td>\n",
       "    </tr>\n",
       "    <tr>\n",
       "      <th>7</th>\n",
       "      <td>68783525124783816603834197597</td>\n",
       "      <td>96</td>\n",
       "      <td>3</td>\n",
       "      <td>96</td>\n",
       "      <td>80</td>\n",
       "      <td>10</td>\n",
       "    </tr>\n",
       "    <tr>\n",
       "      <th>8</th>\n",
       "      <td>68783525124783816603834197597</td>\n",
       "      <td>96</td>\n",
       "      <td>3</td>\n",
       "      <td>96</td>\n",
       "      <td>80</td>\n",
       "      <td>10</td>\n",
       "    </tr>\n",
       "  </tbody>\n",
       "</table>\n",
       "</div>"
      ],
      "text/plain": [
       "                        bitfield  bitfield value bitlengths  \\\n",
       "0  77064756713668357415073525191                         96   \n",
       "1  77064737824238309593663130836                         96   \n",
       "2  30240547418216718020720024161                         95   \n",
       "3  68783544018723857427193644511                         96   \n",
       "4   1851408510276755850611569268                         91   \n",
       "5  68783534574145182538748371176                         96   \n",
       "6   1851356573380009383893728895                         91   \n",
       "7  68783525124783816603834197597                         96   \n",
       "8  68783525124783816603834197597                         96   \n",
       "\n",
       "   bitfield wordlengths  bitfield bitlengths  surface bitlengths  \\\n",
       "0                     3                   96                  80   \n",
       "1                     3                   96                  80   \n",
       "2                     3                   96                  80   \n",
       "3                     3                   96                  80   \n",
       "4                     3                   96                  80   \n",
       "5                     3                   96                  80   \n",
       "6                     3                   96                  80   \n",
       "7                     3                   96                  80   \n",
       "8                     3                   96                  80   \n",
       "\n",
       "   surface bytelengths  \n",
       "0                   10  \n",
       "1                   10  \n",
       "2                   10  \n",
       "3                   10  \n",
       "4                   10  \n",
       "5                   10  \n",
       "6                   10  \n",
       "7                   10  \n",
       "8                   10  "
      ]
     },
     "execution_count": 8,
     "metadata": {},
     "output_type": "execute_result"
    }
   ],
   "source": [
    "exclude_leading = 16\n",
    "\n",
    "df[\"bitfield\"] = df[\"bitfield\"].apply(int)\n",
    "df[\"bitfield value bitlengths\"] = df[\"bitfield\"].apply(int.bit_length)\n",
    "df[\"bitfield wordlengths\"] = (df[\"bitfield value bitlengths\"] + 31) // 32\n",
    "assert mit.one(df[\"bitfield wordlengths\"].unique()) == 3\n",
    "df[\"bitfield bitlengths\"] = df[\"bitfield wordlengths\"] * 32\n",
    "df[\"surface bitlengths\"] = df[\"bitfield bitlengths\"] - exclude_leading\n",
    "df[\"surface bytelengths\"] = df[\"surface bitlengths\"] // 8\n",
    "\n",
    "df\n"
   ]
  },
  {
   "cell_type": "code",
   "execution_count": 9,
   "metadata": {
    "execution": {
     "iopub.execute_input": "2024-03-04T04:24:34.932761Z",
     "iopub.status.busy": "2024-03-04T04:24:34.932583Z",
     "iopub.status.idle": "2024-03-04T04:24:34.940332Z",
     "shell.execute_reply": "2024-03-04T04:24:34.939744Z"
    }
   },
   "outputs": [
    {
     "data": {
      "text/html": [
       "<div>\n",
       "<style scoped>\n",
       "    .dataframe tbody tr th:only-of-type {\n",
       "        vertical-align: middle;\n",
       "    }\n",
       "\n",
       "    .dataframe tbody tr th {\n",
       "        vertical-align: top;\n",
       "    }\n",
       "\n",
       "    .dataframe thead th {\n",
       "        text-align: right;\n",
       "    }\n",
       "</style>\n",
       "<table border=\"1\" class=\"dataframe\">\n",
       "  <thead>\n",
       "    <tr style=\"text-align: right;\">\n",
       "      <th></th>\n",
       "      <th>bitfield</th>\n",
       "      <th>bitfield value bitlengths</th>\n",
       "      <th>bitfield wordlengths</th>\n",
       "      <th>bitfield bitlengths</th>\n",
       "      <th>surface bitlengths</th>\n",
       "      <th>surface bytelengths</th>\n",
       "      <th>bitfield surface</th>\n",
       "    </tr>\n",
       "  </thead>\n",
       "  <tbody>\n",
       "    <tr>\n",
       "      <th>0</th>\n",
       "      <td>77064756713668357415073525191</td>\n",
       "      <td>96</td>\n",
       "      <td>3</td>\n",
       "      <td>96</td>\n",
       "      <td>80</td>\n",
       "      <td>10</td>\n",
       "      <td>571416514206044253629895</td>\n",
       "    </tr>\n",
       "    <tr>\n",
       "      <th>1</th>\n",
       "      <td>77064737824238309593663130836</td>\n",
       "      <td>96</td>\n",
       "      <td>3</td>\n",
       "      <td>96</td>\n",
       "      <td>80</td>\n",
       "      <td>10</td>\n",
       "      <td>552527084158222843235540</td>\n",
       "    </tr>\n",
       "    <tr>\n",
       "      <th>2</th>\n",
       "      <td>30240547418216718020720024161</td>\n",
       "      <td>95</td>\n",
       "      <td>3</td>\n",
       "      <td>96</td>\n",
       "      <td>80</td>\n",
       "      <td>10</td>\n",
       "      <td>476966376383844619737697</td>\n",
       "    </tr>\n",
       "    <tr>\n",
       "      <th>3</th>\n",
       "      <td>68783544018723857427193644511</td>\n",
       "      <td>96</td>\n",
       "      <td>3</td>\n",
       "      <td>96</td>\n",
       "      <td>80</td>\n",
       "      <td>10</td>\n",
       "      <td>500585929915903111054815</td>\n",
       "    </tr>\n",
       "    <tr>\n",
       "      <th>4</th>\n",
       "      <td>1851408510276755850611569268</td>\n",
       "      <td>91</td>\n",
       "      <td>3</td>\n",
       "      <td>96</td>\n",
       "      <td>80</td>\n",
       "      <td>10</td>\n",
       "      <td>543080446758584136413812</td>\n",
       "    </tr>\n",
       "    <tr>\n",
       "      <th>5</th>\n",
       "      <td>68783534574145182538748371176</td>\n",
       "      <td>96</td>\n",
       "      <td>3</td>\n",
       "      <td>96</td>\n",
       "      <td>80</td>\n",
       "      <td>10</td>\n",
       "      <td>491141351241014665781480</td>\n",
       "    </tr>\n",
       "    <tr>\n",
       "      <th>6</th>\n",
       "      <td>1851356573380009383893728895</td>\n",
       "      <td>91</td>\n",
       "      <td>3</td>\n",
       "      <td>96</td>\n",
       "      <td>80</td>\n",
       "      <td>10</td>\n",
       "      <td>491143550012117418573439</td>\n",
       "    </tr>\n",
       "    <tr>\n",
       "      <th>7</th>\n",
       "      <td>68783525124783816603834197597</td>\n",
       "      <td>96</td>\n",
       "      <td>3</td>\n",
       "      <td>96</td>\n",
       "      <td>80</td>\n",
       "      <td>10</td>\n",
       "      <td>481691989875079751607901</td>\n",
       "    </tr>\n",
       "    <tr>\n",
       "      <th>8</th>\n",
       "      <td>68783525124783816603834197597</td>\n",
       "      <td>96</td>\n",
       "      <td>3</td>\n",
       "      <td>96</td>\n",
       "      <td>80</td>\n",
       "      <td>10</td>\n",
       "      <td>481691989875079751607901</td>\n",
       "    </tr>\n",
       "  </tbody>\n",
       "</table>\n",
       "</div>"
      ],
      "text/plain": [
       "                        bitfield  bitfield value bitlengths  \\\n",
       "0  77064756713668357415073525191                         96   \n",
       "1  77064737824238309593663130836                         96   \n",
       "2  30240547418216718020720024161                         95   \n",
       "3  68783544018723857427193644511                         96   \n",
       "4   1851408510276755850611569268                         91   \n",
       "5  68783534574145182538748371176                         96   \n",
       "6   1851356573380009383893728895                         91   \n",
       "7  68783525124783816603834197597                         96   \n",
       "8  68783525124783816603834197597                         96   \n",
       "\n",
       "   bitfield wordlengths  bitfield bitlengths  surface bitlengths  \\\n",
       "0                     3                   96                  80   \n",
       "1                     3                   96                  80   \n",
       "2                     3                   96                  80   \n",
       "3                     3                   96                  80   \n",
       "4                     3                   96                  80   \n",
       "5                     3                   96                  80   \n",
       "6                     3                   96                  80   \n",
       "7                     3                   96                  80   \n",
       "8                     3                   96                  80   \n",
       "\n",
       "   surface bytelengths          bitfield surface  \n",
       "0                   10  571416514206044253629895  \n",
       "1                   10  552527084158222843235540  \n",
       "2                   10  476966376383844619737697  \n",
       "3                   10  500585929915903111054815  \n",
       "4                   10  543080446758584136413812  \n",
       "5                   10  491141351241014665781480  \n",
       "6                   10  491143550012117418573439  \n",
       "7                   10  481691989875079751607901  \n",
       "8                   10  481691989875079751607901  "
      ]
     },
     "execution_count": 9,
     "metadata": {},
     "output_type": "execute_result"
    }
   ],
   "source": [
    "bitfield_bitlength = int(mit.one(df[\"bitfield bitlengths\"].unique()))\n",
    "surface_mask = (  # mask off leading 16 bits\n",
    "    1 << (bitfield_bitlength - exclude_leading)\n",
    ") - 1\n",
    "assert surface_mask.bit_count() == bitfield_bitlength - exclude_leading\n",
    "df[\"bitfield surface\"] = df[\"bitfield\"].values & surface_mask\n",
    "\n",
    "df\n"
   ]
  },
  {
   "cell_type": "code",
   "execution_count": 10,
   "metadata": {
    "execution": {
     "iopub.execute_input": "2024-03-04T04:24:34.942400Z",
     "iopub.status.busy": "2024-03-04T04:24:34.942218Z",
     "iopub.status.idle": "2024-03-04T04:24:34.949581Z",
     "shell.execute_reply": "2024-03-04T04:24:34.949098Z"
    }
   },
   "outputs": [
    {
     "data": {
      "text/html": [
       "<div>\n",
       "<style scoped>\n",
       "    .dataframe tbody tr th:only-of-type {\n",
       "        vertical-align: middle;\n",
       "    }\n",
       "\n",
       "    .dataframe tbody tr th {\n",
       "        vertical-align: top;\n",
       "    }\n",
       "\n",
       "    .dataframe thead th {\n",
       "        text-align: right;\n",
       "    }\n",
       "</style>\n",
       "<table border=\"1\" class=\"dataframe\">\n",
       "  <thead>\n",
       "    <tr style=\"text-align: right;\">\n",
       "      <th></th>\n",
       "      <th>bitfield</th>\n",
       "      <th>bitfield value bitlengths</th>\n",
       "      <th>bitfield wordlengths</th>\n",
       "      <th>bitfield bitlengths</th>\n",
       "      <th>surface bitlengths</th>\n",
       "      <th>surface bytelengths</th>\n",
       "      <th>bitfield surface</th>\n",
       "      <th>bitfield tag</th>\n",
       "    </tr>\n",
       "  </thead>\n",
       "  <tbody>\n",
       "    <tr>\n",
       "      <th>0</th>\n",
       "      <td>77064756713668357415073525191</td>\n",
       "      <td>96</td>\n",
       "      <td>3</td>\n",
       "      <td>96</td>\n",
       "      <td>80</td>\n",
       "      <td>10</td>\n",
       "      <td>571416514206044253629895</td>\n",
       "      <td>63746</td>\n",
       "    </tr>\n",
       "    <tr>\n",
       "      <th>1</th>\n",
       "      <td>77064737824238309593663130836</td>\n",
       "      <td>96</td>\n",
       "      <td>3</td>\n",
       "      <td>96</td>\n",
       "      <td>80</td>\n",
       "      <td>10</td>\n",
       "      <td>552527084158222843235540</td>\n",
       "      <td>63746</td>\n",
       "    </tr>\n",
       "    <tr>\n",
       "      <th>2</th>\n",
       "      <td>30240547418216718020720024161</td>\n",
       "      <td>95</td>\n",
       "      <td>3</td>\n",
       "      <td>96</td>\n",
       "      <td>80</td>\n",
       "      <td>10</td>\n",
       "      <td>476966376383844619737697</td>\n",
       "      <td>25014</td>\n",
       "    </tr>\n",
       "    <tr>\n",
       "      <th>3</th>\n",
       "      <td>68783544018723857427193644511</td>\n",
       "      <td>96</td>\n",
       "      <td>3</td>\n",
       "      <td>96</td>\n",
       "      <td>80</td>\n",
       "      <td>10</td>\n",
       "      <td>500585929915903111054815</td>\n",
       "      <td>56896</td>\n",
       "    </tr>\n",
       "    <tr>\n",
       "      <th>4</th>\n",
       "      <td>1851408510276755850611569268</td>\n",
       "      <td>91</td>\n",
       "      <td>3</td>\n",
       "      <td>96</td>\n",
       "      <td>80</td>\n",
       "      <td>10</td>\n",
       "      <td>543080446758584136413812</td>\n",
       "      <td>1531</td>\n",
       "    </tr>\n",
       "    <tr>\n",
       "      <th>5</th>\n",
       "      <td>68783534574145182538748371176</td>\n",
       "      <td>96</td>\n",
       "      <td>3</td>\n",
       "      <td>96</td>\n",
       "      <td>80</td>\n",
       "      <td>10</td>\n",
       "      <td>491141351241014665781480</td>\n",
       "      <td>56896</td>\n",
       "    </tr>\n",
       "    <tr>\n",
       "      <th>6</th>\n",
       "      <td>1851356573380009383893728895</td>\n",
       "      <td>91</td>\n",
       "      <td>3</td>\n",
       "      <td>96</td>\n",
       "      <td>80</td>\n",
       "      <td>10</td>\n",
       "      <td>491143550012117418573439</td>\n",
       "      <td>1531</td>\n",
       "    </tr>\n",
       "    <tr>\n",
       "      <th>7</th>\n",
       "      <td>68783525124783816603834197597</td>\n",
       "      <td>96</td>\n",
       "      <td>3</td>\n",
       "      <td>96</td>\n",
       "      <td>80</td>\n",
       "      <td>10</td>\n",
       "      <td>481691989875079751607901</td>\n",
       "      <td>56896</td>\n",
       "    </tr>\n",
       "    <tr>\n",
       "      <th>8</th>\n",
       "      <td>68783525124783816603834197597</td>\n",
       "      <td>96</td>\n",
       "      <td>3</td>\n",
       "      <td>96</td>\n",
       "      <td>80</td>\n",
       "      <td>10</td>\n",
       "      <td>481691989875079751607901</td>\n",
       "      <td>56896</td>\n",
       "    </tr>\n",
       "  </tbody>\n",
       "</table>\n",
       "</div>"
      ],
      "text/plain": [
       "                        bitfield  bitfield value bitlengths  \\\n",
       "0  77064756713668357415073525191                         96   \n",
       "1  77064737824238309593663130836                         96   \n",
       "2  30240547418216718020720024161                         95   \n",
       "3  68783544018723857427193644511                         96   \n",
       "4   1851408510276755850611569268                         91   \n",
       "5  68783534574145182538748371176                         96   \n",
       "6   1851356573380009383893728895                         91   \n",
       "7  68783525124783816603834197597                         96   \n",
       "8  68783525124783816603834197597                         96   \n",
       "\n",
       "   bitfield wordlengths  bitfield bitlengths  surface bitlengths  \\\n",
       "0                     3                   96                  80   \n",
       "1                     3                   96                  80   \n",
       "2                     3                   96                  80   \n",
       "3                     3                   96                  80   \n",
       "4                     3                   96                  80   \n",
       "5                     3                   96                  80   \n",
       "6                     3                   96                  80   \n",
       "7                     3                   96                  80   \n",
       "8                     3                   96                  80   \n",
       "\n",
       "   surface bytelengths          bitfield surface bitfield tag  \n",
       "0                   10  571416514206044253629895        63746  \n",
       "1                   10  552527084158222843235540        63746  \n",
       "2                   10  476966376383844619737697        25014  \n",
       "3                   10  500585929915903111054815        56896  \n",
       "4                   10  543080446758584136413812         1531  \n",
       "5                   10  491141351241014665781480        56896  \n",
       "6                   10  491143550012117418573439         1531  \n",
       "7                   10  481691989875079751607901        56896  \n",
       "8                   10  481691989875079751607901        56896  "
      ]
     },
     "execution_count": 10,
     "metadata": {},
     "output_type": "execute_result"
    }
   ],
   "source": [
    "df[\"bitfield tag\"] = df[\"bitfield\"].values >> (\n",
    "    bitfield_bitlength - exclude_leading\n",
    ")\n",
    "\n",
    "df\n"
   ]
  },
  {
   "cell_type": "code",
   "execution_count": 11,
   "metadata": {
    "execution": {
     "iopub.execute_input": "2024-03-04T04:24:34.951716Z",
     "iopub.status.busy": "2024-03-04T04:24:34.951373Z",
     "iopub.status.idle": "2024-03-04T04:24:34.959758Z",
     "shell.execute_reply": "2024-03-04T04:24:34.959196Z"
    }
   },
   "outputs": [
    {
     "data": {
      "text/html": [
       "<div>\n",
       "<style scoped>\n",
       "    .dataframe tbody tr th:only-of-type {\n",
       "        vertical-align: middle;\n",
       "    }\n",
       "\n",
       "    .dataframe tbody tr th {\n",
       "        vertical-align: top;\n",
       "    }\n",
       "\n",
       "    .dataframe thead th {\n",
       "        text-align: right;\n",
       "    }\n",
       "</style>\n",
       "<table border=\"1\" class=\"dataframe\">\n",
       "  <thead>\n",
       "    <tr style=\"text-align: right;\">\n",
       "      <th></th>\n",
       "      <th>bitfield</th>\n",
       "      <th>bitfield value bitlengths</th>\n",
       "      <th>bitfield wordlengths</th>\n",
       "      <th>bitfield bitlengths</th>\n",
       "      <th>surface bitlengths</th>\n",
       "      <th>surface bytelengths</th>\n",
       "      <th>bitfield surface</th>\n",
       "      <th>bitfield tag</th>\n",
       "      <th>taxon name</th>\n",
       "    </tr>\n",
       "  </thead>\n",
       "  <tbody>\n",
       "    <tr>\n",
       "      <th>0</th>\n",
       "      <td>77064756713668357415073525191</td>\n",
       "      <td>96</td>\n",
       "      <td>3</td>\n",
       "      <td>96</td>\n",
       "      <td>80</td>\n",
       "      <td>10</td>\n",
       "      <td>571416514206044253629895</td>\n",
       "      <td>63746</td>\n",
       "      <td>0-0xf902</td>\n",
       "    </tr>\n",
       "    <tr>\n",
       "      <th>1</th>\n",
       "      <td>77064737824238309593663130836</td>\n",
       "      <td>96</td>\n",
       "      <td>3</td>\n",
       "      <td>96</td>\n",
       "      <td>80</td>\n",
       "      <td>10</td>\n",
       "      <td>552527084158222843235540</td>\n",
       "      <td>63746</td>\n",
       "      <td>1-0xf902</td>\n",
       "    </tr>\n",
       "    <tr>\n",
       "      <th>2</th>\n",
       "      <td>30240547418216718020720024161</td>\n",
       "      <td>95</td>\n",
       "      <td>3</td>\n",
       "      <td>96</td>\n",
       "      <td>80</td>\n",
       "      <td>10</td>\n",
       "      <td>476966376383844619737697</td>\n",
       "      <td>25014</td>\n",
       "      <td>2-0x61b6</td>\n",
       "    </tr>\n",
       "    <tr>\n",
       "      <th>3</th>\n",
       "      <td>68783544018723857427193644511</td>\n",
       "      <td>96</td>\n",
       "      <td>3</td>\n",
       "      <td>96</td>\n",
       "      <td>80</td>\n",
       "      <td>10</td>\n",
       "      <td>500585929915903111054815</td>\n",
       "      <td>56896</td>\n",
       "      <td>3-0xde40</td>\n",
       "    </tr>\n",
       "    <tr>\n",
       "      <th>4</th>\n",
       "      <td>1851408510276755850611569268</td>\n",
       "      <td>91</td>\n",
       "      <td>3</td>\n",
       "      <td>96</td>\n",
       "      <td>80</td>\n",
       "      <td>10</td>\n",
       "      <td>543080446758584136413812</td>\n",
       "      <td>1531</td>\n",
       "      <td>4-0x5fb</td>\n",
       "    </tr>\n",
       "    <tr>\n",
       "      <th>5</th>\n",
       "      <td>68783534574145182538748371176</td>\n",
       "      <td>96</td>\n",
       "      <td>3</td>\n",
       "      <td>96</td>\n",
       "      <td>80</td>\n",
       "      <td>10</td>\n",
       "      <td>491141351241014665781480</td>\n",
       "      <td>56896</td>\n",
       "      <td>5-0xde40</td>\n",
       "    </tr>\n",
       "    <tr>\n",
       "      <th>6</th>\n",
       "      <td>1851356573380009383893728895</td>\n",
       "      <td>91</td>\n",
       "      <td>3</td>\n",
       "      <td>96</td>\n",
       "      <td>80</td>\n",
       "      <td>10</td>\n",
       "      <td>491143550012117418573439</td>\n",
       "      <td>1531</td>\n",
       "      <td>6-0x5fb</td>\n",
       "    </tr>\n",
       "    <tr>\n",
       "      <th>7</th>\n",
       "      <td>68783525124783816603834197597</td>\n",
       "      <td>96</td>\n",
       "      <td>3</td>\n",
       "      <td>96</td>\n",
       "      <td>80</td>\n",
       "      <td>10</td>\n",
       "      <td>481691989875079751607901</td>\n",
       "      <td>56896</td>\n",
       "      <td>7-0xde40</td>\n",
       "    </tr>\n",
       "    <tr>\n",
       "      <th>8</th>\n",
       "      <td>68783525124783816603834197597</td>\n",
       "      <td>96</td>\n",
       "      <td>3</td>\n",
       "      <td>96</td>\n",
       "      <td>80</td>\n",
       "      <td>10</td>\n",
       "      <td>481691989875079751607901</td>\n",
       "      <td>56896</td>\n",
       "      <td>8-0xde40</td>\n",
       "    </tr>\n",
       "  </tbody>\n",
       "</table>\n",
       "</div>"
      ],
      "text/plain": [
       "                        bitfield  bitfield value bitlengths  \\\n",
       "0  77064756713668357415073525191                         96   \n",
       "1  77064737824238309593663130836                         96   \n",
       "2  30240547418216718020720024161                         95   \n",
       "3  68783544018723857427193644511                         96   \n",
       "4   1851408510276755850611569268                         91   \n",
       "5  68783534574145182538748371176                         96   \n",
       "6   1851356573380009383893728895                         91   \n",
       "7  68783525124783816603834197597                         96   \n",
       "8  68783525124783816603834197597                         96   \n",
       "\n",
       "   bitfield wordlengths  bitfield bitlengths  surface bitlengths  \\\n",
       "0                     3                   96                  80   \n",
       "1                     3                   96                  80   \n",
       "2                     3                   96                  80   \n",
       "3                     3                   96                  80   \n",
       "4                     3                   96                  80   \n",
       "5                     3                   96                  80   \n",
       "6                     3                   96                  80   \n",
       "7                     3                   96                  80   \n",
       "8                     3                   96                  80   \n",
       "\n",
       "   surface bytelengths          bitfield surface bitfield tag taxon name  \n",
       "0                   10  571416514206044253629895        63746   0-0xf902  \n",
       "1                   10  552527084158222843235540        63746   1-0xf902  \n",
       "2                   10  476966376383844619737697        25014   2-0x61b6  \n",
       "3                   10  500585929915903111054815        56896   3-0xde40  \n",
       "4                   10  543080446758584136413812         1531    4-0x5fb  \n",
       "5                   10  491141351241014665781480        56896   5-0xde40  \n",
       "6                   10  491143550012117418573439         1531    6-0x5fb  \n",
       "7                   10  481691989875079751607901        56896   7-0xde40  \n",
       "8                   10  481691989875079751607901        56896   8-0xde40  "
      ]
     },
     "execution_count": 11,
     "metadata": {},
     "output_type": "execute_result"
    }
   ],
   "source": [
    "df[\"taxon name\"] = df.index.astype(str) + \"-\" + df[\"bitfield tag\"].apply(hex)\n",
    "\n",
    "df\n"
   ]
  },
  {
   "cell_type": "code",
   "execution_count": 12,
   "metadata": {
    "execution": {
     "iopub.execute_input": "2024-03-04T04:24:34.961962Z",
     "iopub.status.busy": "2024-03-04T04:24:34.961645Z",
     "iopub.status.idle": "2024-03-04T04:24:34.965832Z",
     "shell.execute_reply": "2024-03-04T04:24:34.965289Z"
    }
   },
   "outputs": [
    {
     "data": {
      "text/plain": [
       "bitfield                     object\n",
       "bitfield value bitlengths     int64\n",
       "bitfield wordlengths          int64\n",
       "bitfield bitlengths           int64\n",
       "surface bitlengths            int64\n",
       "surface bytelengths           int64\n",
       "bitfield surface             object\n",
       "bitfield tag                 object\n",
       "taxon name                   object\n",
       "dtype: object"
      ]
     },
     "execution_count": 12,
     "metadata": {},
     "output_type": "execute_result"
    }
   ],
   "source": [
    "df.dtypes\n"
   ]
  },
  {
   "cell_type": "markdown",
   "metadata": {},
   "source": [
    "## Deserialize Columns\n"
   ]
  },
  {
   "cell_type": "code",
   "execution_count": 13,
   "metadata": {
    "execution": {
     "iopub.execute_input": "2024-03-04T04:24:34.968062Z",
     "iopub.status.busy": "2024-03-04T04:24:34.967743Z",
     "iopub.status.idle": "2024-03-04T04:24:35.088395Z",
     "shell.execute_reply": "2024-03-04T04:24:35.087816Z"
    }
   },
   "outputs": [
    {
     "name": "stdout",
     "output_type": "stream",
     "text": [
      "surface_bytelength=10\n"
     ]
    }
   ],
   "source": [
    "surface_bytelength = int(mit.one(df[\"surface bytelengths\"].unique()))\n",
    "print(f\"{surface_bytelength=}\")\n",
    "site_selection_algo = hsurf.tilted_sticky_algo\n",
    "differentia_bitwidth = 1\n",
    "\n",
    "hstrat_columns = [\n",
    "    hsurf.col_from_surf_int(\n",
    "        value=value,\n",
    "        differentia_bit_width=differentia_bitwidth,\n",
    "        site_selection_algo=site_selection_algo,\n",
    "        differentiae_byte_bit_order=\"little\",\n",
    "        num_strata_deposited_byte_width=2,  # u16\n",
    "        num_strata_deposited_byte_order=\"little\",\n",
    "        value_byte_width=surface_bytelength,\n",
    "    )\n",
    "    for value in df[\"bitfield surface\"].values\n",
    "]\n"
   ]
  },
  {
   "cell_type": "code",
   "execution_count": 14,
   "metadata": {
    "execution": {
     "iopub.execute_input": "2024-03-04T04:24:35.090713Z",
     "iopub.status.busy": "2024-03-04T04:24:35.090427Z",
     "iopub.status.idle": "2024-03-04T04:24:35.093563Z",
     "shell.execute_reply": "2024-03-04T04:24:35.092976Z"
    }
   },
   "outputs": [
    {
     "name": "stdout",
     "output_type": "stream",
     "text": [
      "121\n",
      "117\n",
      "101\n",
      "106\n",
      "115\n",
      "104\n",
      "104\n",
      "102\n",
      "102\n"
     ]
    }
   ],
   "source": [
    "for col in hstrat_columns:\n",
    "    print(col.GetNumStrataDeposited())\n"
   ]
  },
  {
   "cell_type": "markdown",
   "metadata": {},
   "source": [
    "## Reconstruct Tree\n"
   ]
  },
  {
   "cell_type": "code",
   "execution_count": 15,
   "metadata": {
    "execution": {
     "iopub.execute_input": "2024-03-04T04:24:35.095910Z",
     "iopub.status.busy": "2024-03-04T04:24:35.095589Z",
     "iopub.status.idle": "2024-03-04T04:24:38.193029Z",
     "shell.execute_reply": "2024-03-04T04:24:38.192418Z"
    }
   },
   "outputs": [],
   "source": [
    "tree_df = hstrat.build_tree(\n",
    "    hstrat_columns,\n",
    "    hstrat.__version__,\n",
    "    taxon_labels=df[\"taxon name\"].values,\n",
    "    force_common_ancestry=True,\n",
    ")\n"
   ]
  },
  {
   "cell_type": "code",
   "execution_count": 16,
   "metadata": {
    "execution": {
     "iopub.execute_input": "2024-03-04T04:24:38.195554Z",
     "iopub.status.busy": "2024-03-04T04:24:38.195348Z",
     "iopub.status.idle": "2024-03-04T04:24:38.198554Z",
     "shell.execute_reply": "2024-03-04T04:24:38.198059Z"
    }
   },
   "outputs": [],
   "source": [
    "tree_df[\"name\"] = tree_df[\"taxon_label\"]\n"
   ]
  },
  {
   "cell_type": "markdown",
   "metadata": {},
   "source": [
    "## Ascii Reconstructed Tree\n"
   ]
  },
  {
   "cell_type": "code",
   "execution_count": 17,
   "metadata": {
    "execution": {
     "iopub.execute_input": "2024-03-04T04:24:38.200499Z",
     "iopub.status.busy": "2024-03-04T04:24:38.200320Z",
     "iopub.status.idle": "2024-03-04T04:24:38.208443Z",
     "shell.execute_reply": "2024-03-04T04:24:38.207872Z"
    }
   },
   "outputs": [
    {
     "name": "stdout",
     "output_type": "stream",
     "text": [
      "          /------------------------------------------------- 6-0x5fb           \n",
      "   /------+                                                                    \n",
      "   |      \\------------------------------------------------------- 4-0x5fb     \n",
      "   |                                                                           \n",
      "/--+                                                      /8-0xde40            \n",
      "|  |                /-------------------------------------+                    \n",
      "|  |              /-+                                     \\7-0xde40            \n",
      "|  |              | |                                                          \n",
      "+  \\--------------+ \\--------------------------------------- 5-0xde40          \n",
      "|                 |                                                            \n",
      "|                 \\------------------------------------------ 3-0xde40         \n",
      "|                                                                              \n",
      "+                                                   /-------------- 1-0xf902   \n",
      "|---------------------------------------------------+                          \n",
      "|                                                   \\----------------- 0-0xf902\n",
      "|                                                                              \n",
      "\\--------------------------------------------------------- 2-0x61b6            \n",
      "                                                                               \n",
      "                                                                               \n"
     ]
    }
   ],
   "source": [
    "print(apc.RosettaTree(tree_df).as_dendropy.as_ascii_plot(plot_metric=\"length\"))\n"
   ]
  },
  {
   "cell_type": "markdown",
   "metadata": {},
   "source": [
    "## Plotted Reconstructed Tree\n"
   ]
  },
  {
   "cell_type": "code",
   "execution_count": 18,
   "metadata": {
    "execution": {
     "iopub.execute_input": "2024-03-04T04:24:38.210479Z",
     "iopub.status.busy": "2024-03-04T04:24:38.210301Z",
     "iopub.status.idle": "2024-03-04T04:24:38.217334Z",
     "shell.execute_reply": "2024-03-04T04:24:38.216744Z"
    }
   },
   "outputs": [],
   "source": [
    "biopy_tree = apc.RosettaTree(tree_df).as_biopython\n"
   ]
  },
  {
   "cell_type": "code",
   "execution_count": 19,
   "metadata": {
    "execution": {
     "iopub.execute_input": "2024-03-04T04:24:38.219608Z",
     "iopub.status.busy": "2024-03-04T04:24:38.219276Z",
     "iopub.status.idle": "2024-03-04T04:24:38.223207Z",
     "shell.execute_reply": "2024-03-04T04:24:38.222694Z"
    }
   },
   "outputs": [
    {
     "data": {
      "text/plain": [
       "Clade(branch_length=0.0, id=0, name='Root', origin_time=0.0)"
      ]
     },
     "execution_count": 19,
     "metadata": {},
     "output_type": "execute_result"
    }
   ],
   "source": [
    "biopy_tree.get_terminals()[0].name\n",
    "biopy_tree.root\n"
   ]
  },
  {
   "cell_type": "code",
   "execution_count": 20,
   "metadata": {
    "execution": {
     "iopub.execute_input": "2024-03-04T04:24:38.225318Z",
     "iopub.status.busy": "2024-03-04T04:24:38.224983Z",
     "iopub.status.idle": "2024-03-04T04:24:38.230160Z",
     "shell.execute_reply": "2024-03-04T04:24:38.229715Z"
    }
   },
   "outputs": [],
   "source": [
    "salt = \"7\"  # manually chosen for nice generated colors\n",
    "\n",
    "# adapted from https://github.com/mmore500/hstrat-recomb-concept/blob/b71d36216f1d2990343b6435240d8c193a82690b/pylib/tree/color_biopython_tree.py\n",
    "def color_biopython_tree(tree: BioPhylo.BaseTree) -> None:\n",
    "    \"\"\"Recursively color tree\"\"\"\n",
    "    terminals = [x.name.split(\"-\")[1] for x in tree.get_terminals()]\n",
    "    if len(set(terminals)) != 1:\n",
    "        tree.color = (220, 220, 220)\n",
    "    else:\n",
    "        tree.color = val_to_color(mit.one(set(terminals)) + salt)\n",
    "\n",
    "    for clade in tree.clades:\n",
    "        color_biopython_tree(clade)\n",
    "\n",
    "color_biopython_tree(biopy_tree.root)\n"
   ]
  },
  {
   "cell_type": "code",
   "execution_count": 21,
   "metadata": {
    "execution": {
     "iopub.execute_input": "2024-03-04T04:24:38.232532Z",
     "iopub.status.busy": "2024-03-04T04:24:38.232043Z",
     "iopub.status.idle": "2024-03-04T04:24:38.784016Z",
     "shell.execute_reply": "2024-03-04T04:24:38.783364Z"
    }
   },
   "outputs": [
    {
     "name": "stdout",
     "output_type": "stream",
     "text": [
      "teeplots/genome=hsurftiltedsticky_tagged+viz=draw-biopython-tree+ext=.pdf\n"
     ]
    },
    {
     "name": "stdout",
     "output_type": "stream",
     "text": [
      "teeplots/genome=hsurftiltedsticky_tagged+viz=draw-biopython-tree+ext=.png\n"
     ]
    },
    {
     "data": {
      "image/png": "[encoded data removed]",
      "text/plain": [
       "<Figure size 1100x250 with 1 Axes>"
      ]
     },
     "metadata": {},
     "output_type": "display_data"
    }
   ],
   "source": [
    "tp.tee(\n",
    "    draw_biopython_tree,\n",
    "    biopy_tree,\n",
    "    fig_size=(11, 2.5),\n",
    "    teeplot_outattrs={\n",
    "        \"genome\": \"hsurftiltedsticky_tagged\",\n",
    "    },\n",
    ")\n"
   ]
  },
  {
   "cell_type": "markdown",
   "metadata": {},
   "source": [
    "## Random tree\n"
   ]
  },
  {
   "cell_type": "code",
   "execution_count": 22,
   "metadata": {
    "execution": {
     "iopub.execute_input": "2024-03-04T04:24:38.787045Z",
     "iopub.status.busy": "2024-03-04T04:24:38.786703Z",
     "iopub.status.idle": "2024-03-04T04:24:38.793457Z",
     "shell.execute_reply": "2024-03-04T04:24:38.792980Z"
    }
   },
   "outputs": [
    {
     "name": "stdout",
     "output_type": "stream",
     "text": [
      "                                      /-------------------------------------- 4\n",
      "                   /------------------+                                        \n",
      "                   |                  |                  /------------------- 0\n",
      "                   |                  \\------------------+                     \n",
      "/------------------+                                     \\------------------- 7\n",
      "|                  |                                                           \n",
      "|                  |                  /-------------------------------------- 6\n",
      "|                  \\------------------+                                        \n",
      "+                                     |                  /------------------- 1\n",
      "|                                     \\------------------+                     \n",
      "|                                                        \\------------------- 2\n",
      "|                                                                              \n",
      "|                                     /-------------------------------------- 8\n",
      "\\-------------------------------------+                                        \n",
      "                                      |                  /------------------- 5\n",
      "                                      \\------------------+                     \n",
      "                                                         \\------------------- 3\n",
      "                                                                               \n",
      "                                                                               \n"
     ]
    }
   ],
   "source": [
    "dummy = [random.randint(0, 2**80) for _ in range(9)]\n",
    "print(make_hamming_distance_matrix(dummy).upgma_tree().as_ascii_plot())\n"
   ]
  }
 ],
 "metadata": {
  "kernelspec": {
   "display_name": "Python 3",
   "language": "python",
   "name": "python3"
  },
  "language_info": {
   "codemirror_mode": {
    "name": "ipython",
    "version": 3
   },
   "file_extension": ".py",
   "mimetype": "text/x-python",
   "name": "python",
   "nbconvert_exporter": "python",
   "pygments_lexer": "ipython3",
   "version": "3.10.12"
  }
 },
 "nbformat": 4,
 "nbformat_minor": 4
}
